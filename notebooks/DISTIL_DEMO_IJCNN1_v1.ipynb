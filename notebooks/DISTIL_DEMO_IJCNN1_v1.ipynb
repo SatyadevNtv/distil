{
  "nbformat": 4,
  "nbformat_minor": 0,
  "metadata": {
    "colab": {
      "name": " DISTIL_DEMO_IJCNN1_v1.ipynb",
      "provenance": [],
      "collapsed_sections": [],
      "toc_visible": true
    },
    "kernelspec": {
      "name": "python3",
      "display_name": "Python 3"
    },
    "accelerator": "GPU"
  },
  "cells": [
    {
      "cell_type": "markdown",
      "metadata": {
        "id": "o4vafrlTGa9-"
      },
      "source": [
        "# **DISTIL Installation**"
      ]
    },
    {
      "cell_type": "code",
      "metadata": {
        "colab": {
          "base_uri": "https://localhost:8080/"
        },
        "id": "hZnCocrUGgYD",
        "outputId": "0dadb96a-097c-4dd5-e20e-53e28da53949"
      },
      "source": [
        "!git clone https://github.com/decile-team/distil.git\n",
        "!git clone https://github.com/decile-team/datasets.git\n",
        "!pip install apricot-select\n",
        "%cd distil"
      ],
      "execution_count": 1,
      "outputs": [
        {
          "output_type": "stream",
          "text": [
            "Cloning into 'distil'...\n",
            "remote: Enumerating objects: 2310, done.\u001b[K\n",
            "remote: Counting objects: 100% (230/230), done.\u001b[K\n",
            "remote: Compressing objects: 100% (169/169), done.\u001b[K\n",
            "remote: Total 2310 (delta 115), reused 112 (delta 61), pack-reused 2080\u001b[K\n",
            "Receiving objects: 100% (2310/2310), 14.98 MiB | 22.76 MiB/s, done.\n",
            "Resolving deltas: 100% (1418/1418), done.\n",
            "Cloning into 'datasets'...\n",
            "remote: Enumerating objects: 16, done.\u001b[K\n",
            "remote: Counting objects: 100% (16/16), done.\u001b[K\n",
            "remote: Compressing objects: 100% (13/13), done.\u001b[K\n",
            "remote: Total 16 (delta 3), reused 12 (delta 2), pack-reused 0\u001b[K\n",
            "Unpacking objects: 100% (16/16), done.\n",
            "Collecting apricot-select\n",
            "  Downloading https://files.pythonhosted.org/packages/b8/96/7d9aec6ab622449aad7556101e90c2ef67b72b7cf33ded6cc9326a41e169/apricot-select-0.6.1.tar.gz\n",
            "Requirement already satisfied: numpy>=1.14.2 in /usr/local/lib/python3.7/dist-packages (from apricot-select) (1.19.5)\n",
            "Requirement already satisfied: scipy>=1.0.0 in /usr/local/lib/python3.7/dist-packages (from apricot-select) (1.4.1)\n",
            "Requirement already satisfied: numba>=0.43.0 in /usr/local/lib/python3.7/dist-packages (from apricot-select) (0.51.2)\n",
            "Requirement already satisfied: tqdm>=4.24.0 in /usr/local/lib/python3.7/dist-packages (from apricot-select) (4.41.1)\n",
            "Collecting nose\n",
            "\u001b[?25l  Downloading https://files.pythonhosted.org/packages/15/d8/dd071918c040f50fa1cf80da16423af51ff8ce4a0f2399b7bf8de45ac3d9/nose-1.3.7-py3-none-any.whl (154kB)\n",
            "\u001b[K     |████████████████████████████████| 163kB 6.5MB/s \n",
            "\u001b[?25hRequirement already satisfied: llvmlite<0.35,>=0.34.0.dev0 in /usr/local/lib/python3.7/dist-packages (from numba>=0.43.0->apricot-select) (0.34.0)\n",
            "Requirement already satisfied: setuptools in /usr/local/lib/python3.7/dist-packages (from numba>=0.43.0->apricot-select) (56.0.0)\n",
            "Building wheels for collected packages: apricot-select\n",
            "  Building wheel for apricot-select (setup.py) ... \u001b[?25l\u001b[?25hdone\n",
            "  Created wheel for apricot-select: filename=apricot_select-0.6.1-cp37-none-any.whl size=48789 sha256=0156349ecf6c7e3f7b0deada84bdec96973463a2f799117cadd7c23c84797b4f\n",
            "  Stored in directory: /root/.cache/pip/wheels/27/53/c1/67fd7b8bd5be9d506fdac6bb9b73b5c69734da8210833998fa\n",
            "Successfully built apricot-select\n",
            "Installing collected packages: nose, apricot-select\n",
            "Successfully installed apricot-select-0.6.1 nose-1.3.7\n",
            "/content/distil\n"
          ],
          "name": "stdout"
        }
      ]
    },
    {
      "cell_type": "markdown",
      "metadata": {
        "id": "NPSV3mJ0Gjls"
      },
      "source": [
        "# **Imports**"
      ]
    },
    {
      "cell_type": "code",
      "metadata": {
        "colab": {
          "base_uri": "https://localhost:8080/"
        },
        "id": "ZS8dVJqpGjy0",
        "outputId": "eb51ad5b-77ac-44ac-f765-1eefaeb9dfe9"
      },
      "source": [
        "import numpy as np\n",
        "import os\n",
        "from torch.utils.data import Dataset\n",
        "from torch.utils.data import DataLoader\n",
        "import torch.nn.functional as F\n",
        "from torch import nn\n",
        "from torchvision import transforms\n",
        "import torch\n",
        "import torch.optim as optim\n",
        "from torch.autograd import Variable\n",
        "import sys\n",
        "from sklearn.preprocessing import StandardScaler\n",
        "from sklearn.model_selection import train_test_split\n",
        "from copy import deepcopy\n",
        "\n",
        "from distil.active_learning_strategies import GLISTER, BADGE, EntropySampling, RandomSampling, SubmodSampling\n",
        "from distil.utils.data_handler import DataHandler_Points\n",
        "from distil.utils.models.simple_net import TwoLayerNet\n",
        "from distil.utils.train_helper import data_train\n",
        "\n",
        "from matplotlib import pyplot as plt\n",
        "from google.colab import drive"
      ],
      "execution_count": 2,
      "outputs": [
        {
          "output_type": "stream",
          "text": [
            "/usr/local/lib/python3.7/dist-packages/numba/np/ufunc/parallel.py:363: NumbaWarning: The TBB threading layer requires TBB version 2019.5 or later i.e., TBB_INTERFACE_VERSION >= 11005. Found TBB_INTERFACE_VERSION = 9107. The TBB threading layer is disabled.\n",
            "  warnings.warn(problem)\n"
          ],
          "name": "stderr"
        }
      ]
    },
    {
      "cell_type": "markdown",
      "metadata": {
        "id": "Kfv3T-zBGp6P"
      },
      "source": [
        "# **Data, Model & Directory Configuration**"
      ]
    },
    {
      "cell_type": "code",
      "metadata": {
        "id": "seu_jbfIGvIq",
        "colab": {
          "base_uri": "https://localhost:8080/"
        },
        "outputId": "9b8f03cc-97a6-4143-f6a2-38ff1b1f937c"
      },
      "source": [
        "def libsvm_file_load(path,dim, save_data=False):\n",
        "    data = []\n",
        "    target = []\n",
        "    with open(path) as fp:\n",
        "       line = fp.readline()\n",
        "       while line:\n",
        "        temp = [i for i in line.strip().split(\" \")]\n",
        "        target.append(int(float(temp[0]))) # Class Number. # Not assumed to be in (0, K-1)\n",
        "        temp_data = [0]*dim\n",
        "        \n",
        "        for i in temp[1:]:\n",
        "            ind,val = i.split(':')\n",
        "            temp_data[int(ind)-1] = float(val)\n",
        "        data.append(temp_data)\n",
        "        line = fp.readline()\n",
        "    X_data = np.array(data,dtype=np.float32)\n",
        "    Y_label = np.array(target)\n",
        "    if save_data:\n",
        "        # Save the numpy files to the folder where they come from\n",
        "        data_np_path = path + '.data.npy'\n",
        "        target_np_path = path + '.label.npy'\n",
        "        np.save(data_np_path, X_data)\n",
        "        np.save(target_np_path, Y_label)\n",
        "    return (X_data, Y_label)\n",
        "\n",
        "    \n",
        "trn_file = '../datasets/ijcnn1/ijcnn1.trn'\n",
        "val_file = '../datasets/ijcnn1/ijcnn1.val'\n",
        "tst_file = '../datasets/ijcnn1/ijcnn1.tst'\n",
        "\n",
        "data_dims = 22\n",
        "nclasses = 2\n",
        "\n",
        "x_trn, y_trn = libsvm_file_load(trn_file, dim=data_dims)\n",
        "x_val, y_val = libsvm_file_load(val_file, dim=data_dims)\n",
        "x_tst, y_tst = libsvm_file_load(tst_file, dim=data_dims)\n",
        "\n",
        "print(np.unique(y_tst))\n",
        "\n",
        "# The class labels are (-1,1). Make them to (0,1)\n",
        "y_trn[y_trn < 0] = 0\n",
        "y_val[y_val < 0] = 0\n",
        "y_tst[y_tst < 0] = 0    \n",
        "\n",
        "sc = StandardScaler()\n",
        "x_trn = sc.fit_transform(x_trn)\n",
        "x_val = sc.transform(x_val)\n",
        "x_tst = sc.transform(x_tst)\n",
        "\n",
        "def init_weights(m):\n",
        "    if type(m) == nn.Linear:\n",
        "        torch.nn.init.xavier_uniform_(m.weight)\n",
        "        m.bias.data.fill_(0.01)"
      ],
      "execution_count": 45,
      "outputs": [
        {
          "output_type": "stream",
          "text": [
            "[-1  1]\n"
          ],
          "name": "stdout"
        }
      ]
    },
    {
      "cell_type": "code",
      "metadata": {
        "colab": {
          "base_uri": "https://localhost:8080/"
        },
        "id": "J6qg8oIWG0g8",
        "outputId": "2f95d593-bc4a-4768-ec5a-f4fe7d4a7880"
      },
      "source": [
        "X_unlabeled = deepcopy(x_trn)\n",
        "y_unlabeled = deepcopy(y_trn)\n",
        "X_test = deepcopy(x_tst)\n",
        "y_test = deepcopy(y_tst)\n",
        "\n",
        "nSamps, dim = np.shape(X_unlabeled)\n",
        "\n",
        "np.random.seed(42)\n",
        "start_idxs = np.random.choice(nSamps, size=int(0.01*nSamps), replace=False)\n",
        "\n",
        "X_tr = X_unlabeled[start_idxs]\n",
        "X_unlabeled = np.delete(X_unlabeled, start_idxs, axis = 0)\n",
        "\n",
        "y_tr = y_unlabeled[start_idxs]\n",
        "y_unlabeled = np.delete(y_unlabeled, start_idxs, axis = 0)\n",
        "\n",
        "n_rounds = 10    ##Number of rounds to run ac\n",
        "budget = int(0.01*x_trn.shape[0]) \n",
        "handler = DataHandler_Points\n",
        "\n",
        "net = TwoLayerNet(data_dims, nclasses, 40)\n",
        "net.apply(init_weights)"
      ],
      "execution_count": 46,
      "outputs": [
        {
          "output_type": "execute_result",
          "data": {
            "text/plain": [
              "TwoLayerNet(\n",
              "  (linear1): Linear(in_features=22, out_features=40, bias=True)\n",
              "  (linear2): Linear(in_features=40, out_features=2, bias=True)\n",
              ")"
            ]
          },
          "metadata": {
            "tags": []
          },
          "execution_count": 46
        }
      ]
    },
    {
      "cell_type": "code",
      "metadata": {
        "id": "cn13lujmHHqv"
      },
      "source": [
        "#Model Directory\n",
        "base_dir = \"/content/ijcnn1/\"\n",
        "os.makedirs(base_dir, exist_ok = True)\n",
        "model_directory = os.path.join(base_dir, 'base_model.pth')"
      ],
      "execution_count": 47,
      "outputs": []
    },
    {
      "cell_type": "code",
      "metadata": {
        "colab": {
          "base_uri": "https://localhost:8080/"
        },
        "id": "Eek6TzJFjtpl",
        "outputId": "e0b7775e-34a2-4fba-f3eb-75f0ec01aaa4"
      },
      "source": [
        "print(np.unique(y_tst))"
      ],
      "execution_count": 48,
      "outputs": [
        {
          "output_type": "stream",
          "text": [
            "[0 1]\n"
          ],
          "name": "stdout"
        }
      ]
    },
    {
      "cell_type": "markdown",
      "metadata": {
        "id": "QTyDOxTAHRQl"
      },
      "source": [
        "# **Initial Model Training**"
      ]
    },
    {
      "cell_type": "code",
      "metadata": {
        "colab": {
          "base_uri": "https://localhost:8080/"
        },
        "id": "fHuxnhOzHNws",
        "outputId": "bd1c0d1c-a90e-49c2-ef44-82d13c3d1d00"
      },
      "source": [
        "args = {'n_epoch':500, 'lr':float(0.1),'batch_size':128, 'max_accuracy':0.99, 'window_size':20} \n",
        "dt = data_train(X_tr, y_tr, net, handler, args)\n",
        "clf = dt.train()\n",
        "torch.save(clf.state_dict(), model_directory)"
      ],
      "execution_count": 49,
      "outputs": [
        {
          "output_type": "stream",
          "text": [
            "Training..\n",
            "Epoch: 38 Training accuracy: 0.991\n"
          ],
          "name": "stdout"
        }
      ]
    },
    {
      "cell_type": "markdown",
      "metadata": {
        "id": "GaZS0_O3Hr8A"
      },
      "source": [
        "# **Load Base Model**"
      ]
    },
    {
      "cell_type": "code",
      "metadata": {
        "id": "Xmos4kJnHrfQ"
      },
      "source": [
        "net.load_state_dict(torch.load(model_directory))\n",
        "clf = net"
      ],
      "execution_count": 50,
      "outputs": []
    },
    {
      "cell_type": "markdown",
      "metadata": {
        "id": "HBkdgCrYIR3v"
      },
      "source": [
        "# **Random**\n",
        "This strategy is often used as a baseline, where we pick a set of unlabled points randomly. Here we create a instance of distil.active_learning_strategies.random_sampling.RandomSampling by passig following parameters:\n",
        "\n",
        "**X (Numpy array)** – Features of the labled set of points\n",
        "\n",
        "**Y (Numpy array)** – Lables of the labled set of points\n",
        "\n",
        "**unlabeled_x (Numpy array)** – Features of the unlabled set of points\n",
        "\n",
        "**net (class object)** – Model architecture used for training. Could be instance of models defined in distil.utils.models or something similar.\n",
        "\n",
        "**handler (class object)** – It should be a subclass of torch.utils.data.Dataset i.e, have __getitem__ and __len__ methods implemented, so that is could be passed to pytorch DataLoader.Could be instance of handlers defined in distil.utils.DataHandler or something similar.\n",
        "\n",
        "**nclasses (int)** – No. of classes in tha dataset\n",
        "\n",
        "**args (dictionary)**– This dictionary should have ‘batch_size’ as a key. 'batch_size' should be such that one can exploit the benefits of tensorization while honouring the resourse constraits. This ‘batch_size’ therefore can be different than the one used for training.\n",
        "\n",
        "We initally pass None for X,Y and unlabeled_x. Later we update using update functions of training class and RandomSampling class. "
      ]
    },
    {
      "cell_type": "code",
      "metadata": {
        "colab": {
          "base_uri": "https://localhost:8080/"
        },
        "id": "qXPxaYf0ISJN",
        "outputId": "00bd37ad-b8ec-484b-ad2c-8bab24fa603c"
      },
      "source": [
        "#Initializing Strategy Class\n",
        "strategy_args = {'batch_size' : 128, 'lr':float(0.1)}\n",
        "strategy = RandomSampling(X_tr, y_tr, X_unlabeled, net, handler, nclasses, strategy_args)\n",
        "\n",
        "#Initial Training\n",
        "args = {'n_epoch':500, 'lr':float(0.1),'batch_size':128, 'max_accuracy':0.99, 'window_size':20} \n",
        "dt = data_train(X_tr, y_tr, clf, handler, args)\n",
        "\n",
        "#Updating the trained model in strategy class\n",
        "strategy.update_model(clf)\n",
        "\n",
        "# y_pred = strategy.predict(X_test).numpy()\n",
        "acc = np.zeros(n_rounds)\n",
        "acc[0] = dt.get_acc_on_set(X_test, y_test)\n",
        "print('Initial Testing accuracy:', round(acc[0]*100, 2), flush=True)\n",
        "\n",
        "##User Controlled Loop\n",
        "for rd in range(1, n_rounds):\n",
        "    print('-------------------------------------------------')\n",
        "    print('Round', rd) \n",
        "    print('-------------------------------------------------')\n",
        "\n",
        "    #Using select function for getting next set of data points\n",
        "    idx = strategy.select(budget)\n",
        "\n",
        "    #Saving state of model, since labeling new points might take time\n",
        "    strategy.save_state('./state.pkl')\n",
        "\n",
        "    #Adding new points to training set\n",
        "    X_tr = np.concatenate((X_tr, X_unlabeled[idx]), axis=0)\n",
        "    X_unlabeled = np.delete(X_unlabeled, idx, axis = 0)\n",
        "\n",
        "    #Human In Loop, Assuming user adds new labels here\n",
        "    y_tr = np.concatenate((y_tr, y_unlabeled[idx]), axis = 0)\n",
        "    y_unlabeled = np.delete(y_unlabeled, idx, axis = 0)\n",
        "    print('Number of training points -',X_tr.shape[0])\n",
        "\n",
        "    #Reload state and start training\n",
        "    strategy.load_state('./state.pkl')\n",
        "    strategy.update_data(X_tr, y_tr, X_unlabeled)\n",
        "    dt.update_data(X_tr, y_tr)\n",
        "\n",
        "    clf = dt.train()\n",
        "    strategy.update_model(clf)\n",
        "    acc[rd] = dt.get_acc_on_set(X_test, y_test)\n",
        "    print('Testing accuracy:', round(acc[rd]*100, 2), flush=True)\n",
        "    if acc[rd] > 0.98:\n",
        "        print('Testing accuracy reached above 98%, stopping training!')\n",
        "        break\n",
        "\n",
        "print('Training Completed')\n",
        "\n",
        "#Saving accuracies for further analysis\n",
        "with open(os.path.join(base_dir,'random.txt'), 'w') as f:\n",
        "    for item in acc:\n",
        "        f.write(\"%s\\n\" % item)"
      ],
      "execution_count": 51,
      "outputs": [
        {
          "output_type": "stream",
          "text": [
            "Initial Testing accuracy: 91.2\n",
            "-------------------------------------------------\n",
            "Round 1\n",
            "-------------------------------------------------\n",
            "Number of training points - 700\n",
            "Training..\n",
            "Epoch: 32 Training accuracy: 0.991\n",
            "Testing accuracy: 94.39\n",
            "-------------------------------------------------\n",
            "Round 2\n",
            "-------------------------------------------------\n",
            "Number of training points - 1050\n",
            "Training..\n",
            "Epoch: 34 Training accuracy: 0.99\n",
            "Testing accuracy: 95.33\n",
            "-------------------------------------------------\n",
            "Round 3\n",
            "-------------------------------------------------\n",
            "Number of training points - 1400\n",
            "Training..\n",
            "Epoch: 36 Training accuracy: 0.991\n",
            "Testing accuracy: 95.49\n",
            "-------------------------------------------------\n",
            "Round 4\n",
            "-------------------------------------------------\n",
            "Number of training points - 1750\n",
            "Training..\n",
            "Epoch: 28 Training accuracy: 0.99\n",
            "Testing accuracy: 96.24\n",
            "-------------------------------------------------\n",
            "Round 5\n",
            "-------------------------------------------------\n",
            "Number of training points - 2100\n",
            "Training..\n",
            "Epoch: 28 Training accuracy: 0.99\n",
            "Testing accuracy: 96.62\n",
            "-------------------------------------------------\n",
            "Round 6\n",
            "-------------------------------------------------\n",
            "Number of training points - 2450\n",
            "Training..\n",
            "Epoch: 27 Training accuracy: 0.991\n",
            "Testing accuracy: 96.74\n",
            "-------------------------------------------------\n",
            "Round 7\n",
            "-------------------------------------------------\n",
            "Number of training points - 2800\n",
            "Training..\n",
            "Epoch: 37 Training accuracy: 0.991\n",
            "Testing accuracy: 96.67\n",
            "-------------------------------------------------\n",
            "Round 8\n",
            "-------------------------------------------------\n",
            "Number of training points - 3150\n",
            "Training..\n",
            "Epoch: 49 Training accuracy: 0.99\n",
            "Testing accuracy: 96.11\n",
            "-------------------------------------------------\n",
            "Round 9\n",
            "-------------------------------------------------\n",
            "Number of training points - 3500\n",
            "Training..\n",
            "Epoch: 39 Training accuracy: 0.991\n",
            "Testing accuracy: 96.87\n",
            "Training Completed\n"
          ],
          "name": "stdout"
        }
      ]
    },
    {
      "cell_type": "markdown",
      "metadata": {
        "id": "FBpuErWxAHCc"
      },
      "source": [
        "# **Uncertanity based Active learning Strategy**\n",
        "\n",
        "The most basic active learning strategy, where we select samples about which the model is most uncertain. To quantify the uncertainity we use entropy, therefore select points which have maximum entropy. Let $z_i$ be output from the model then the correponding softmax would be $$\\sigma(z_i) = \\frac{e^{z_i}}{\\sum_j e^{z_j}}$$. Then entropy can be calculated as, $$ENTROPY = -\\sum_j \\sigma(z_j)*log(\\sigma(z_i))$$\n",
        "\n",
        "Here we create a instance of distil.active_learning_strategies.entropy_sampling.EntropySampling with same parameters passed to distil.active_learning_strategies.random_sampling.RandomSampling."
      ]
    },
    {
      "cell_type": "markdown",
      "metadata": {
        "id": "JaknF2AU3OXN"
      },
      "source": [
        "**Reinitialize Model & Data**"
      ]
    },
    {
      "cell_type": "code",
      "metadata": {
        "id": "tA1IQYzu3O_O"
      },
      "source": [
        "X_unlabeled = deepcopy(x_trn)\n",
        "y_unlabeled = deepcopy(y_trn)\n",
        "X_test = deepcopy(x_tst)\n",
        "y_test = deepcopy(y_tst)\n",
        "\n",
        "nSamps, dim = np.shape(X_unlabeled)\n",
        "\n",
        "np.random.seed(42)\n",
        "start_idxs = np.random.choice(nSamps, size=int(0.01*nSamps), replace=False)\n",
        "\n",
        "X_tr = X_unlabeled[start_idxs]\n",
        "X_unlabeled = np.delete(X_unlabeled, start_idxs, axis = 0)\n",
        "\n",
        "y_tr = y_unlabeled[start_idxs]\n",
        "y_unlabeled = np.delete(y_unlabeled, start_idxs, axis = 0)\n",
        "\n",
        "n_rounds = 10    ##Number of rounds to run ac\n",
        "budget = int(0.01*x_trn.shape[0]) \n",
        "handler = DataHandler_Points\n",
        "\n",
        "net = TwoLayerNet(data_dims, nclasses, 40)\n",
        "net.apply(init_weights)\n",
        "\n",
        "net.load_state_dict(torch.load(model_directory))\n",
        "clf = net"
      ],
      "execution_count": 52,
      "outputs": []
    },
    {
      "cell_type": "code",
      "metadata": {
        "id": "hyPo_T10KJ51",
        "colab": {
          "base_uri": "https://localhost:8080/"
        },
        "outputId": "90ea15bf-1b6a-4453-be34-0cbd790926ed"
      },
      "source": [
        "#Initializing Strategy Class\n",
        "strategy_args = {'batch_size' : 128, 'lr':float(0.1)}\n",
        "strategy = EntropySampling(X_tr, y_tr, X_unlabeled, clf, handler, nclasses, strategy_args)\n",
        "\n",
        "#Initial Training\n",
        "args = {'n_epoch':500, 'lr':float(0.1),'batch_size':128, 'max_accuracy':0.99, 'window_size':20} \n",
        "dt = data_train(X_tr, y_tr, clf, handler, args)\n",
        "\n",
        "#Updating the trained model in strategy class\n",
        "strategy.update_model(clf)\n",
        "\n",
        "# y_pred = strategy.predict(X_test).numpy()\n",
        "acc = np.zeros(n_rounds)\n",
        "acc[0] = dt.get_acc_on_set(X_test, y_test)\n",
        "print('Initial Testing accuracy:', round(acc[0]*100, 2), flush=True)\n",
        "\n",
        "##User Controlled Loop\n",
        "for rd in range(1, n_rounds):\n",
        "    print('-------------------------------------------------')\n",
        "    print('Round', rd) \n",
        "    print('-------------------------------------------------')\n",
        "\n",
        "    #Using select function for getting next set of data points\n",
        "    idx = strategy.select(budget)\n",
        "\n",
        "    #Saving state of model, since labeling new points might take time\n",
        "    strategy.save_state('./state.pkl')\n",
        "\n",
        "    #Adding new points to training set\n",
        "    X_tr = np.concatenate((X_tr, X_unlabeled[idx]), axis=0)\n",
        "    X_unlabeled = np.delete(X_unlabeled, idx, axis = 0)\n",
        "\n",
        "    #Human In Loop, Assuming user adds new labels here\n",
        "    y_tr = np.concatenate((y_tr, y_unlabeled[idx]), axis = 0)\n",
        "    y_unlabeled = np.delete(y_unlabeled, idx, axis = 0)\n",
        "    print('Number of training points -',X_tr.shape[0])\n",
        "\n",
        "    #Reload state and start training\n",
        "    strategy.load_state('./state.pkl')\n",
        "    strategy.update_data(X_tr, y_tr, X_unlabeled)\n",
        "    dt.update_data(X_tr, y_tr)\n",
        "\n",
        "    clf = dt.train()\n",
        "    strategy.update_model(clf)\n",
        "    acc[rd] = dt.get_acc_on_set(X_test, y_test)\n",
        "    print('Testing accuracy:', round(acc[rd]*100, 2), flush=True)\n",
        "    if acc[rd] > 0.98:\n",
        "        print('Testing accuracy reached above 98%, stopping training!')\n",
        "        break\n",
        "\n",
        "print('Training Completed')\n",
        "\n",
        "#Saving accuracies for further analysis\n",
        "with open(os.path.join(base_dir,'entropy.txt'), 'w') as f:\n",
        "    for item in acc:\n",
        "        f.write(\"%s\\n\" % item)"
      ],
      "execution_count": 53,
      "outputs": [
        {
          "output_type": "stream",
          "text": [
            "Initial Testing accuracy: 91.2\n",
            "-------------------------------------------------\n",
            "Round 1\n",
            "-------------------------------------------------\n",
            "Number of training points - 700\n",
            "Training..\n",
            "Epoch: 68 Training accuracy: 0.99\n",
            "Testing accuracy: 96.18\n",
            "-------------------------------------------------\n",
            "Round 2\n",
            "-------------------------------------------------\n",
            "Number of training points - 1050\n",
            "Training..\n",
            "Epoch: 95 Training accuracy: 0.99\n",
            "Testing accuracy: 96.27\n",
            "-------------------------------------------------\n",
            "Round 3\n",
            "-------------------------------------------------\n",
            "Number of training points - 1400\n",
            "Training..\n",
            "Epoch: 204 Training accuracy: 0.992\n",
            "Testing accuracy: 96.88\n",
            "-------------------------------------------------\n",
            "Round 4\n",
            "-------------------------------------------------\n",
            "Number of training points - 1750\n",
            "Training..\n",
            "Epoch: 238 Training accuracy: 0.99\n",
            "Testing accuracy: 96.83\n",
            "-------------------------------------------------\n",
            "Round 5\n",
            "-------------------------------------------------\n",
            "Number of training points - 2100\n",
            "Training..\n",
            "Epoch: 336 Training accuracy: 0.99\n",
            "Testing accuracy: 96.58\n",
            "-------------------------------------------------\n",
            "Round 6\n",
            "-------------------------------------------------\n",
            "Number of training points - 2450\n",
            "Training..\n",
            "Epoch: 398 Training accuracy: 0.99\n",
            "Testing accuracy: 97.46\n",
            "-------------------------------------------------\n",
            "Round 7\n",
            "-------------------------------------------------\n",
            "Number of training points - 2800\n",
            "Training..\n",
            "Epoch: 428 Training accuracy: 0.99\n",
            "Testing accuracy: 97.43\n",
            "-------------------------------------------------\n",
            "Round 8\n",
            "-------------------------------------------------\n",
            "Number of training points - 3150\n",
            "Training..\n",
            "Epoch: 477 Training accuracy: 0.988\n",
            "Testing accuracy: 97.21\n",
            "-------------------------------------------------\n",
            "Round 9\n",
            "-------------------------------------------------\n",
            "Number of training points - 3500\n",
            "Training..\n",
            "Epoch: 491 Training accuracy: 0.981\n",
            "Testing accuracy: 97.83\n",
            "Training Completed\n"
          ],
          "name": "stdout"
        }
      ]
    },
    {
      "cell_type": "markdown",
      "metadata": {
        "id": "39teVabl9Kwa"
      },
      "source": [
        "# **BADGE**\n",
        "This method is based on the paper [Deep Batch Active Learning by Diverse, Uncertain Gradient Lower Bounds](https://arxiv.org/abs/1906.03671). Here at each around of selection loss gradients are computed using the hypothesised lables. Then to points to be labled are selected by applying k-means++ on these loss gradients. \n",
        "\n",
        "Here we create a instance of distil.active_learning_strategies.badge.BADGE with same parameters passed to distil.active_learning_strategies.random_sampling.RandomSampling."
      ]
    },
    {
      "cell_type": "markdown",
      "metadata": {
        "id": "fV5_7SLRAboA"
      },
      "source": [
        "**Reinitialize Model & Data**"
      ]
    },
    {
      "cell_type": "code",
      "metadata": {
        "id": "aUuYC5Dw9LTa"
      },
      "source": [
        "X_unlabeled = deepcopy(x_trn)\n",
        "y_unlabeled = deepcopy(y_trn)\n",
        "X_test = deepcopy(x_tst)\n",
        "y_test = deepcopy(y_tst)\n",
        "\n",
        "nSamps, dim = np.shape(X_unlabeled)\n",
        "\n",
        "np.random.seed(42)\n",
        "start_idxs = np.random.choice(nSamps, size=int(0.01*nSamps), replace=False)\n",
        "\n",
        "X_tr = X_unlabeled[start_idxs]\n",
        "X_unlabeled = np.delete(X_unlabeled, start_idxs, axis = 0)\n",
        "\n",
        "y_tr = y_unlabeled[start_idxs]\n",
        "y_unlabeled = np.delete(y_unlabeled, start_idxs, axis = 0)\n",
        "\n",
        "n_rounds = 10    ##Number of rounds to run ac\n",
        "budget = int(0.01*x_trn.shape[0]) \n",
        "handler = DataHandler_Points\n",
        "\n",
        "net = TwoLayerNet(data_dims, nclasses, 40)\n",
        "net.apply(init_weights)\n",
        "\n",
        "net.load_state_dict(torch.load(model_directory))\n",
        "clf = net"
      ],
      "execution_count": 65,
      "outputs": []
    },
    {
      "cell_type": "code",
      "metadata": {
        "colab": {
          "base_uri": "https://localhost:8080/"
        },
        "id": "Jwr9CT9F3TFe",
        "outputId": "e3074ef7-2d75-4111-d5f6-a7fad55c9e98"
      },
      "source": [
        "#Initializing Strategy Class\n",
        "strategy_args = {'batch_size' : 128, 'lr':float(0.1)}\n",
        "strategy = BADGE(X_tr, y_tr, X_unlabeled, clf, handler, nclasses, strategy_args)\n",
        "\n",
        "#Initial Training\n",
        "args = {'n_epoch':500, 'lr':float(0.1),'batch_size':128, 'max_accuracy':0.99, 'window_size':20} \n",
        "dt = data_train(X_tr, y_tr, clf, handler, args)\n",
        "\n",
        "#Updating the trained model in strategy class\n",
        "strategy.update_model(clf)\n",
        "\n",
        "# y_pred = strategy.predict(X_test).numpy()\n",
        "acc = np.zeros(n_rounds)\n",
        "acc[0] = dt.get_acc_on_set(X_test, y_test)\n",
        "print('Initial Testing accuracy:', round(acc[0]*100, 2), flush=True)\n",
        "\n",
        "##User Controlled Loop\n",
        "for rd in range(1, n_rounds):\n",
        "    print('-------------------------------------------------')\n",
        "    print('Round', rd) \n",
        "    print('-------------------------------------------------')\n",
        "\n",
        "    #Using select function for getting next set of data points\n",
        "    idx = strategy.select(budget)\n",
        "\n",
        "    #Saving state of model, since labeling new points might take time\n",
        "    strategy.save_state('./state.pkl')\n",
        "\n",
        "    #Adding new points to training set\n",
        "    X_tr = np.concatenate((X_tr, X_unlabeled[idx]), axis=0)\n",
        "    X_unlabeled = np.delete(X_unlabeled, idx, axis = 0)\n",
        "\n",
        "    #Human In Loop, Assuming user adds new labels here\n",
        "    y_tr = np.concatenate((y_tr, y_unlabeled[idx]), axis = 0)\n",
        "    y_unlabeled = np.delete(y_unlabeled, idx, axis = 0)\n",
        "    print('Number of training points -',X_tr.shape[0])\n",
        "\n",
        "    #Reload state and start training\n",
        "    strategy.load_state('./state.pkl')\n",
        "    strategy.update_data(X_tr, y_tr, X_unlabeled)\n",
        "    dt.update_data(X_tr, y_tr)\n",
        "\n",
        "    clf = dt.train()\n",
        "    strategy.update_model(clf)\n",
        "    acc[rd] = dt.get_acc_on_set(X_test, y_test)\n",
        "    print('Testing accuracy:', round(acc[rd]*100, 2), flush=True)\n",
        "    if acc[rd] > 0.98:\n",
        "        print('Testing accuracy reached above 98%, stopping training!')\n",
        "        break\n",
        "\n",
        "print('Training Completed')\n",
        "\n",
        "#Saving accuracies for further analysis\n",
        "with open(os.path.join(base_dir,'badge.txt'), 'w') as f:\n",
        "    for item in acc:\n",
        "        f.write(\"%s\\n\" % item)"
      ],
      "execution_count": 66,
      "outputs": [
        {
          "output_type": "stream",
          "text": [
            "Initial Testing accuracy: 91.2\n",
            "-------------------------------------------------\n",
            "Round 1\n",
            "-------------------------------------------------\n",
            "Number of training points - 700\n",
            "Training..\n",
            "Epoch: 36 Training accuracy: 0.99\n",
            "Testing accuracy: 95.7\n",
            "-------------------------------------------------\n",
            "Round 2\n",
            "-------------------------------------------------\n",
            "Number of training points - 1050\n",
            "Training..\n",
            "Epoch: 73 Training accuracy: 0.99\n",
            "Testing accuracy: 96.8\n",
            "-------------------------------------------------\n",
            "Round 3\n",
            "-------------------------------------------------\n",
            "Number of training points - 1400\n",
            "Training..\n",
            "Epoch: 90 Training accuracy: 0.99\n",
            "Testing accuracy: 97.55\n",
            "-------------------------------------------------\n",
            "Round 4\n",
            "-------------------------------------------------\n",
            "Number of training points - 1750\n",
            "Training..\n",
            "Epoch: 170 Training accuracy: 0.99\n",
            "Testing accuracy: 97.19\n",
            "-------------------------------------------------\n",
            "Round 5\n",
            "-------------------------------------------------\n",
            "Number of training points - 2100\n",
            "Training..\n",
            "Epoch: 239 Training accuracy: 0.99\n",
            "Testing accuracy: 97.41\n",
            "-------------------------------------------------\n",
            "Round 6\n",
            "-------------------------------------------------\n",
            "Number of training points - 2450\n",
            "Training..\n",
            "Epoch: 287 Training accuracy: 0.991\n",
            "Testing accuracy: 97.03\n",
            "-------------------------------------------------\n",
            "Round 7\n",
            "-------------------------------------------------\n",
            "Number of training points - 2800\n",
            "Training..\n",
            "Epoch: 388 Training accuracy: 0.991\n",
            "Testing accuracy: 97.58\n",
            "-------------------------------------------------\n",
            "Round 8\n",
            "-------------------------------------------------\n",
            "Number of training points - 3150\n",
            "Training..\n",
            "Epoch: 381 Training accuracy: 0.99\n",
            "Testing accuracy: 97.79\n",
            "-------------------------------------------------\n",
            "Round 9\n",
            "-------------------------------------------------\n",
            "Number of training points - 3500\n",
            "Training..\n",
            "Epoch: 496 Training accuracy: 0.984\n",
            "Testing accuracy: 97.81\n",
            "Training Completed\n"
          ],
          "name": "stdout"
        }
      ]
    },
    {
      "cell_type": "markdown",
      "metadata": {
        "id": "onXfASME-IM7"
      },
      "source": [
        "# **GLISTER**\n",
        "This is implemetation of GLISTER-ACTIVE from the paper [GLISTER: Generalization based Data Subset Selection for Efficient and Robust Learning](https://arxiv.org/abs/2012.10630). GLISTER methods tries to solve a bi-level optimisation problem.\n",
        "\\begin{equation*}\n",
        "\\overbrace{\\underset{{S \\subseteq {\\mathcal U}, |S| \\leq k}}{\\operatorname{argmax\\hspace{0.7mm}}} LL_V(\\underbrace{\\underset{\\theta}{\\operatorname{argmax\\hspace{0.7mm}}} LL_T( \\theta, S)}_{inner-level}, {\\mathcal V})}^{outer-level}\n",
        "\\end{equation*}\n",
        "where is $S$ is set of points selected at each round,${\\mathcal V}$ could be a dedicated validation set with labled points or could be union of labeled and unlabeled points with hypothesised labels, $k$ is the budget.\n",
        "To set ${\\mathcal V}$ to be validation set, while calling **GLISTER** class in the toolkit set _valid=TRUE_ and pass validation set otherwise set _valid=False_.\n",
        "\n",
        "Solving this problem directly is almost impossible, therefore we resort to one-step approxiations.We start we $S^0$ as empty set and bulid it as $S^k = S^{k-1} \\cup e$, where $e$ is $\\underset{e}{\\operatorname{argmax\\hspace{0.7mm}}} G_{\\theta}(e | S^k)$. We define,$$G_{\\theta}(e | S^k) = LL_{V}(\\theta^{k}, {\\mathcal V})$$ and update $$\\theta^k \\leftarrow \\theta^{k-1} -  \\eta \\nabla_{\\theta} LL_T(\\hat{\\theta}, e)$$ where $\\hat{\\theta}$ is the parameters of the model at the begining of the selection.\n",
        "To prevent overfitting, we can add regularizer to GLISTER, which can be set by **_typeOf_**. **_typeOf_** can be set to - **'none'**(which is default) for normal GLISTER,**'Rand'** for replacing **_lam_** fraction of points replaced by random points, **'Diversity'** adding diversity set function while computing gain and **'FacLoc'** adding Facility Location set function while computing gain. **_lam_** for both **'Diversity'** and **'FacLoc'** determines the weightage given to them while computing the gain.\n",
        "\n",
        "Here we create a instance of distil.active_learning_strategies.glister.GLISTER( with same parameters passed to distil.active_learning_strategies.random_sampling.RandomSampling, we slight change that, **args** dictionary should have keys ‘batch_size’ and ‘lr’. ‘lr’ should be the learning rate used for training. In addition to those folowing additional parameters may be passed:\n",
        "\n",
        "**valid (boolean)** – Whether validation set is passed or not\n",
        "\n",
        "**X_val (Numpy array, optional)** – Features of the points in the validation set. Mandatory if valid=True.\n",
        "\n",
        "**Y_val (Numpy array, optional)** – Lables of the points in the validation set. Mandatory if valid=True.\n",
        "\n",
        "**loss_criterion (class object, optional)** – The type of loss criterion. Default is torch.nn.CrossEntropyLoss()\n",
        "\n",
        "**typeOf (str, optional)** – Determines the type of regulariser to be used. Default is ‘none’. For random regulariser use ‘Rand’. To use Facility Location set functiom as a regulariser use ‘FacLoc’. To use Diversity set functiom as a regulariser use ‘Diversity’.\n",
        "\n",
        "**lam (float, optional)** – Determines the amount of regularisation to be applied. Mandatory if is not typeOf=’none’ and by default set to None. For random regulariser use values should be between 0 and 1 as it determines fraction of points replaced by random points. For both ‘Diversity’ and ‘FacLoc’ lam determines the weightage given to them while computing the gain.\n",
        "\n",
        "**kernel_batch_size (int, optional)** – For 'Diversity' and 'FacLoc' regualrizer versions, similarity kernel is to be computed, which entails creating a 3d torch tensor of dimenssions $kernel\\_batch\\_size^{2}*(feature\\ dimenssion)$. Again kernel_batch_size should be such that one can exploit the benefits of tensorization while honouring the resourse constraits."
      ]
    },
    {
      "cell_type": "markdown",
      "metadata": {
        "id": "y6Rff450Adx6"
      },
      "source": [
        "**Reinitialize Model & Data**"
      ]
    },
    {
      "cell_type": "code",
      "metadata": {
        "id": "x8_uPuu4-Iek"
      },
      "source": [
        "X_unlabeled = deepcopy(x_trn)\n",
        "y_unlabeled = deepcopy(y_trn)\n",
        "X_test = deepcopy(x_tst)\n",
        "y_test = deepcopy(y_tst)\n",
        "\n",
        "nSamps, dim = np.shape(X_unlabeled)\n",
        "\n",
        "np.random.seed(42)\n",
        "start_idxs = np.random.choice(nSamps, size=int(0.01*nSamps), replace=False)\n",
        "\n",
        "X_tr = X_unlabeled[start_idxs]\n",
        "X_unlabeled = np.delete(X_unlabeled, start_idxs, axis = 0)\n",
        "\n",
        "y_tr = y_unlabeled[start_idxs]\n",
        "y_unlabeled = np.delete(y_unlabeled, start_idxs, axis = 0)\n",
        "\n",
        "n_rounds = 10    ##Number of rounds to run ac\n",
        "budget = int(0.01*x_trn.shape[0]) \n",
        "handler = DataHandler_Points\n",
        "\n",
        "net = TwoLayerNet(data_dims, nclasses, 40)\n",
        "net.apply(init_weights)\n",
        "\n",
        "net.load_state_dict(torch.load(model_directory))\n",
        "clf = net"
      ],
      "execution_count": 62,
      "outputs": []
    },
    {
      "cell_type": "code",
      "metadata": {
        "colab": {
          "base_uri": "https://localhost:8080/"
        },
        "id": "C6-6j7X9-MJr",
        "outputId": "5bb9d9ea-f566-40f0-b35f-2b7be476b32d"
      },
      "source": [
        "#Initializing Strategy Class\n",
        "strategy_args = {'batch_size' : 128, 'lr':float(0.1)}\n",
        "strategy = GLISTER(X_tr, y_tr, X_unlabeled, clf, handler, nclasses, strategy_args,valid=False, typeOf='rand', lam=0.1)\n",
        "\n",
        "#Initial Training\n",
        "args = {'n_epoch':500, 'lr':float(0.1),'batch_size':128, 'max_accuracy':0.99, 'window_size':20} \n",
        "dt = data_train(X_tr, y_tr, clf, handler, args)\n",
        "\n",
        "#Updating the trained model in strategy class\n",
        "strategy.update_model(clf)\n",
        "\n",
        "# y_pred = strategy.predict(X_test).numpy()\n",
        "acc = np.zeros(n_rounds)\n",
        "acc[0] = dt.get_acc_on_set(X_test, y_test)\n",
        "print('Initial Testing accuracy:', round(acc[0]*100, 2), flush=True)\n",
        "\n",
        "##User Controlled Loop\n",
        "for rd in range(1, n_rounds):\n",
        "    print('-------------------------------------------------')\n",
        "    print('Round', rd) \n",
        "    print('-------------------------------------------------')\n",
        "\n",
        "    #Using select function for getting next set of data points\n",
        "    idx = strategy.select(budget)\n",
        "\n",
        "    #Saving state of model, since labeling new points might take time\n",
        "    strategy.save_state('./state.pkl')\n",
        "\n",
        "    #Adding new points to training set\n",
        "    X_tr = np.concatenate((X_tr, X_unlabeled[idx]), axis=0)\n",
        "    X_unlabeled = np.delete(X_unlabeled, idx, axis = 0)\n",
        "\n",
        "    #Human In Loop, Assuming user adds new labels here\n",
        "    y_tr = np.concatenate((y_tr, y_unlabeled[idx]), axis = 0)\n",
        "    y_unlabeled = np.delete(y_unlabeled, idx, axis = 0)\n",
        "    print('Number of training points -',X_tr.shape[0])\n",
        "\n",
        "    #Reload state and start training\n",
        "    strategy.load_state('./state.pkl')\n",
        "    strategy.update_data(X_tr, y_tr, X_unlabeled)\n",
        "    dt.update_data(X_tr, y_tr)\n",
        "\n",
        "    clf = dt.train()\n",
        "    strategy.update_model(clf)\n",
        "    acc[rd] = dt.get_acc_on_set(X_test, y_test)\n",
        "    print('Testing accuracy:', round(acc[rd]*100, 2), flush=True)\n",
        "    if acc[rd] > 0.98:\n",
        "        print('Testing accuracy reached above 98%, stopping training!')\n",
        "        break\n",
        "\n",
        "print('Training Completed')\n",
        "\n",
        "#Saving accuracies for further analysis\n",
        "with open(os.path.join(base_dir,'glister.txt'), 'w') as f:\n",
        "    for item in acc:\n",
        "        f.write(\"%s\\n\" % item)"
      ],
      "execution_count": 63,
      "outputs": [
        {
          "output_type": "stream",
          "text": [
            "Initial Testing accuracy: 91.2\n",
            "-------------------------------------------------\n",
            "Round 1\n",
            "-------------------------------------------------\n",
            "Number of training points - 700\n",
            "Training..\n",
            "Epoch: 52 Training accuracy: 0.991\n",
            "Testing accuracy: 96.26\n",
            "-------------------------------------------------\n",
            "Round 2\n",
            "-------------------------------------------------\n",
            "Number of training points - 1050\n",
            "Training..\n",
            "Epoch: 87 Training accuracy: 0.99\n",
            "Testing accuracy: 96.67\n",
            "-------------------------------------------------\n",
            "Round 3\n",
            "-------------------------------------------------\n",
            "Number of training points - 1400\n",
            "Training..\n",
            "Epoch: 114 Training accuracy: 0.992\n",
            "Testing accuracy: 96.79\n",
            "-------------------------------------------------\n",
            "Round 4\n",
            "-------------------------------------------------\n",
            "Number of training points - 1750\n",
            "Training..\n",
            "Epoch: 218 Training accuracy: 0.991\n",
            "Testing accuracy: 96.77\n",
            "-------------------------------------------------\n",
            "Round 5\n",
            "-------------------------------------------------\n",
            "Number of training points - 2100\n",
            "Training..\n",
            "Epoch: 293 Training accuracy: 0.99\n",
            "Testing accuracy: 97.35\n",
            "-------------------------------------------------\n",
            "Round 6\n",
            "-------------------------------------------------\n",
            "Number of training points - 2450\n",
            "Training..\n",
            "Epoch: 362 Training accuracy: 0.99\n",
            "Testing accuracy: 97.01\n",
            "-------------------------------------------------\n",
            "Round 7\n",
            "-------------------------------------------------\n",
            "Number of training points - 2800\n",
            "Training..\n",
            "Epoch: 486 Training accuracy: 0.989\n",
            "Testing accuracy: 96.97\n",
            "-------------------------------------------------\n",
            "Round 8\n",
            "-------------------------------------------------\n",
            "Number of training points - 3150\n",
            "Training..\n",
            "Epoch: 473 Training accuracy: 0.985\n",
            "Testing accuracy: 96.96\n",
            "-------------------------------------------------\n",
            "Round 9\n",
            "-------------------------------------------------\n",
            "Number of training points - 3500\n",
            "Training..\n",
            "Epoch: 493 Training accuracy: 0.985\n",
            "Testing accuracy: 97.64\n",
            "Training Completed\n"
          ],
          "name": "stdout"
        }
      ]
    },
    {
      "cell_type": "markdown",
      "metadata": {
        "id": "hGcT3PKrAuQA"
      },
      "source": [
        "# **VISUALIZATION**"
      ]
    },
    {
      "cell_type": "code",
      "metadata": {
        "colab": {
          "base_uri": "https://localhost:8080/",
          "height": 312
        },
        "id": "Vlea3j0v-Xvb",
        "outputId": "62d8c818-799d-48ed-e36d-b90d1b38e6a9"
      },
      "source": [
        "#Loading accuracies\n",
        "with open(os.path.join(base_dir,'entropy.txt'), 'r') as f:\n",
        "  acc_ = f.readlines()\n",
        "acc_en = [round(float(x)*100, 2) for x in acc_]\n",
        "with open(os.path.join(base_dir,'badge.txt'), 'r') as f:\n",
        "  acc_ = f.readlines()\n",
        "acc_bd = [round(float(x)*100, 2) for x in acc_]\n",
        "with open(os.path.join(base_dir,'glister.txt'), 'r') as f:\n",
        "  acc_ = f.readlines()\n",
        "acc_gl = [round(float(x)*100, 2) for x in acc_]\n",
        "with open(os.path.join(base_dir,'random.txt'), 'r') as f:\n",
        "  acc_ = f.readlines()\n",
        "acc_rd = [round(float(x)*100, 2) for x in acc_]\n",
        "\n",
        "#Plotting\n",
        "import matplotlib.pyplot as plt\n",
        "budget = 350 \n",
        "n_rounds = 10\n",
        "x_axis = np.array([350+budget*i for i in range(n_rounds)])\n",
        "plt.figure()\n",
        "plt.plot(x_axis, acc_gl, 'b-', label='GLISTER RAND',marker='o')\n",
        "plt.plot(x_axis, acc_en, 'g-', label='UNCERTAINITY',marker='o')\n",
        "plt.plot(x_axis, acc_bd, 'c', label='BADGE',marker='o')\n",
        "plt.plot(x_axis, acc_rd, 'r', label='RANDOM',marker='o')\n",
        "\n",
        "\n",
        "plt.legend()\n",
        "plt.xlabel('No of Images')\n",
        "plt.ylabel('Test Accuracy')\n",
        "plt.title('DISTIL_IJCNN1')"
      ],
      "execution_count": 67,
      "outputs": [
        {
          "output_type": "execute_result",
          "data": {
            "text/plain": [
              "Text(0.5, 1.0, 'DISTIL_IJCNN1')"
            ]
          },
          "metadata": {
            "tags": []
          },
          "execution_count": 67
        },
        {
          "output_type": "display_data",
          "data": {
            "image/png": "[encoded data removed]",
            "text/plain": [
              "<Figure size 432x288 with 1 Axes>"
            ]
          },
          "metadata": {
            "tags": [],
            "needs_background": "light"
          }
        }
      ]
    }
  ]
}