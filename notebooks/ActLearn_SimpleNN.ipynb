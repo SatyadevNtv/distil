{
  "nbformat": 4,
  "nbformat_minor": 0,
  "metadata": {
    "colab": {
      "name": "ActLearn_SimpleNN.ipynb",
      "provenance": [],
      "collapsed_sections": []
    },
    "kernelspec": {
      "name": "python3",
      "display_name": "Python 3"
    },
    "accelerator": "GPU"
  },
  "cells": [
    {
      "cell_type": "code",
      "metadata": {
        "colab": {
          "base_uri": "https://localhost:8080/"
        },
        "id": "NUq3Jx0yl_7R",
        "outputId": "06cdc75b-5de7-4ecd-9d50-fe26b6720eba"
      },
      "source": [
        "!pip install apricot-select"
      ],
      "execution_count": 40,
      "outputs": [
        {
          "output_type": "stream",
          "text": [
            "Requirement already satisfied: apricot-select in /usr/local/lib/python3.6/dist-packages (0.6.0)\n",
            "Requirement already satisfied: numpy>=1.14.2 in /usr/local/lib/python3.6/dist-packages (from apricot-select) (1.19.4)\n",
            "Requirement already satisfied: scipy>=1.0.0 in /usr/local/lib/python3.6/dist-packages (from apricot-select) (1.4.1)\n",
            "Requirement already satisfied: numba>=0.43.0 in /usr/local/lib/python3.6/dist-packages (from apricot-select) (0.48.0)\n",
            "Requirement already satisfied: tqdm>=4.24.0 in /usr/local/lib/python3.6/dist-packages (from apricot-select) (4.41.1)\n",
            "Requirement already satisfied: nose in /usr/local/lib/python3.6/dist-packages (from apricot-select) (1.3.7)\n",
            "Requirement already satisfied: llvmlite<0.32.0,>=0.31.0dev0 in /usr/local/lib/python3.6/dist-packages (from numba>=0.43.0->apricot-select) (0.31.0)\n",
            "Requirement already satisfied: setuptools in /usr/local/lib/python3.6/dist-packages (from numba>=0.43.0->apricot-select) (51.0.0)\n"
          ],
          "name": "stdout"
        }
      ]
    },
    {
      "cell_type": "code",
      "metadata": {
        "colab": {
          "base_uri": "https://localhost:8080/"
        },
        "id": "2FGBiR9n44ZH",
        "outputId": "bb6a4e6d-cdd0-41db-df8a-e980b1e35c0b"
      },
      "source": [
        "from tensorflow.python.client import device_lib\n",
        "device_lib.list_local_devices()"
      ],
      "execution_count": 41,
      "outputs": [
        {
          "output_type": "execute_result",
          "data": {
            "text/plain": [
              "[name: \"/device:CPU:0\"\n",
              " device_type: \"CPU\"\n",
              " memory_limit: 268435456\n",
              " locality {\n",
              " }\n",
              " incarnation: 14074855767640462487, name: \"/device:GPU:0\"\n",
              " device_type: \"GPU\"\n",
              " memory_limit: 14638920512\n",
              " locality {\n",
              "   bus_id: 1\n",
              "   links {\n",
              "   }\n",
              " }\n",
              " incarnation: 9435239722524709224\n",
              " physical_device_desc: \"device: 0, name: Tesla T4, pci bus id: 0000:00:04.0, compute capability: 7.5\"]"
            ]
          },
          "metadata": {
            "tags": []
          },
          "execution_count": 41
        }
      ]
    },
    {
      "cell_type": "code",
      "metadata": {
        "id": "Hh4KW8FCKGUM"
      },
      "source": [
        "import numpy as np\n",
        "from torch.utils.data import Dataset\n",
        "from torch.utils.data import DataLoader\n",
        "import torch.nn.functional as F\n",
        "from torch import nn\n",
        "from torchvision import transforms\n",
        "import torch\n",
        "import torch.optim as optim\n",
        "from torch.autograd import Variable\n",
        "import sys\n",
        "from sklearn.preprocessing import StandardScaler\n",
        "from copy import deepcopy\n",
        "\n",
        "from drive.MyDrive.distil.utils.DataHandler import DataHandler_Points\n",
        "from drive.MyDrive.distil.active_learning_strategies import GLISTER,BADGE,EntropySampling\n",
        "from drive.MyDrive.distil.utils.models.simpleNN_net import TwoLayerNet\n",
        "from matplotlib import pyplot as plt"
      ],
      "execution_count": 42,
      "outputs": []
    },
    {
      "cell_type": "markdown",
      "metadata": {
        "id": "EWTSW0qchnap"
      },
      "source": [
        "### **Loading data**"
      ]
    },
    {
      "cell_type": "code",
      "metadata": {
        "id": "Y7jR5KBikpbg"
      },
      "source": [
        "def libsvm_file_load(path,dim, save_data=False):\n",
        "    data = []\n",
        "    target = []\n",
        "    with open(path) as fp:\n",
        "       line = fp.readline()\n",
        "       while line:\n",
        "        temp = [i for i in line.strip().split(\" \")]\n",
        "        target.append(int(float(temp[0]))) # Class Number. # Not assumed to be in (0, K-1)\n",
        "        temp_data = [0]*dim\n",
        "        \n",
        "        for i in temp[1:]:\n",
        "            ind,val = i.split(':')\n",
        "            temp_data[int(ind)-1] = float(val)\n",
        "        data.append(temp_data)\n",
        "        line = fp.readline()\n",
        "    X_data = np.array(data,dtype=np.float32)\n",
        "    Y_label = np.array(target)\n",
        "    if save_data:\n",
        "        # Save the numpy files to the folder where they come from\n",
        "        data_np_path = path + '.data.npy'\n",
        "        target_np_path = path + '.label.npy'\n",
        "        np.save(data_np_path, X_data)\n",
        "        np.save(target_np_path, Y_label)\n",
        "    return (X_data, Y_label)\n",
        "\n",
        "dset_name = 'ijcnn1'\n",
        "\n",
        "#User Execution\n",
        "if dset_name == \"satimage\":\n",
        "    trn_file =  \"drive/MyDrive/distil/datasets/satimage/satimage.scale.trn\"\n",
        "    val_file = 'drive/MyDrive/distil/datasets/satimage/satimage.scale.val'\n",
        "    tst_file = 'drive/MyDrive/distil/datasets/satimage/satimage.scale.tst'\n",
        "    data_dims = 36\n",
        "    num_cls = 6\n",
        "\n",
        "    x_trn, y_trn = libsvm_file_load(trn_file, dim=data_dims)\n",
        "    x_val, y_val = libsvm_file_load(val_file, dim=data_dims)\n",
        "    x_tst, y_tst = libsvm_file_load(tst_file, dim=data_dims)\n",
        "\n",
        "    y_trn -= 1  # First Class should be zero\n",
        "    y_val -= 1\n",
        "    y_tst -= 1  # First Class should be zero\n",
        "\n",
        "    sc = StandardScaler()\n",
        "    x_trn = sc.fit_transform(x_trn)\n",
        "    x_val = sc.transform(x_val)\n",
        "    x_tst = sc.transform(x_tst)\n",
        "\n",
        "elif dset_name == \"ijcnn1\":\n",
        "    \n",
        "    trn_file = 'drive/MyDrive/distil/datasets/ijcnn1/ijcnn1.trn'\n",
        "    val_file = 'drive/MyDrive/distil/datasets/ijcnn1/ijcnn1.val'\n",
        "    tst_file = 'drive/MyDrive/distil/datasets/ijcnn1/ijcnn1.tst'\n",
        "    data_dims = 22\n",
        "    num_cls = 2\n",
        "    x_trn, y_trn = libsvm_file_load(trn_file, dim=data_dims)\n",
        "    x_val, y_val = libsvm_file_load(val_file, dim=data_dims)\n",
        "    x_tst, y_tst = libsvm_file_load(tst_file, dim=data_dims)\n",
        "    \n",
        "    # The class labels are (-1,1). Make them to (0,1)\n",
        "    y_trn[y_trn < 0] = 0\n",
        "    y_val[y_val < 0] = 0\n",
        "    y_tst[y_tst < 0] = 0    \n",
        "\n",
        "    sc = StandardScaler()\n",
        "    x_trn = sc.fit_transform(x_trn)\n",
        "    x_val = sc.transform(x_val)\n",
        "    x_tst = sc.transform(x_tst)"
      ],
      "execution_count": 43,
      "outputs": []
    },
    {
      "cell_type": "markdown",
      "metadata": {
        "id": "8t6z0vY7nNP5"
      },
      "source": [
        "# **Class for training**"
      ]
    },
    {
      "cell_type": "code",
      "metadata": {
        "id": "lbof4G2hnbpg"
      },
      "source": [
        "def init_weights(m):\n",
        "    if type(m) == nn.Linear:\n",
        "        torch.nn.init.xavier_uniform_(m.weight)\n",
        "        m.bias.data.fill_(0.01)\n",
        "\n",
        "class data_train:\n",
        "\n",
        "    def __init__(self, X, Y, net, handler, args):\n",
        "\n",
        "        self.X = X\n",
        "        self.Y = Y\n",
        "        self.net = net\n",
        "        self.handler = handler\n",
        "        self.args = args\n",
        "        self.use_cuda = torch.cuda.is_available()\n",
        "\n",
        "    def update_index(self, idxs_lb):\n",
        "        self.idxs_lb = idxs_lb\n",
        "\n",
        "    def update_data(self, X, Y):\n",
        "      \n",
        "      self.X = X\n",
        "      self.Y = Y\n",
        "      self.n_pool = len(Y)\n",
        "\n",
        "    def _train(self, epoch, loader_tr, optimizer):\n",
        "        self.clf.train()\n",
        "        accFinal = 0.\n",
        "\n",
        "        for batch_id, (x, y, idxs) in enumerate(loader_tr):\n",
        "            if self.use_cuda:\n",
        "                x, y = Variable(x.cuda()), Variable(y.cuda())\n",
        "            else:\n",
        "                x, y = Variable(x), Variable(y)\n",
        "            optimizer.zero_grad()\n",
        "            out = self.clf(x)\n",
        "            loss = F.cross_entropy(out, y)\n",
        "            accFinal += torch.sum((torch.max(out,1)[1] == y).float()).data.item()\n",
        "            loss.backward()\n",
        "\n",
        "            # clamp gradients, just in case\n",
        "            # for p in filter(lambda p: p.grad is not None, self.clf.parameters()): p.grad.data.clamp_(min=-.1, max=.1)\n",
        "\n",
        "            optimizer.step()\n",
        "        return accFinal / len(loader_tr.dataset.X)\n",
        "\n",
        "    \n",
        "    def train(self):\n",
        "\n",
        "        print('Training..')\n",
        "        def weight_reset(m):\n",
        "            if isinstance(m, nn.Conv2d) or isinstance(m, nn.Linear):\n",
        "                m.reset_parameters()\n",
        "\n",
        "        n_epoch = self.args['n_epoch']\n",
        "        if self.use_cuda:\n",
        "            self.clf =  self.net.apply(weight_reset).cuda()\n",
        "        else:\n",
        "            self.clf =  self.net.apply(weight_reset)\n",
        "\n",
        "        optimizer = optim.Adam(self.clf.parameters(), lr = self.args['lr'], weight_decay=0)\n",
        "        loader_tr = DataLoader(self.handler(self.X, self.Y, False),batch_size =1000)\n",
        "        epoch = 1\n",
        "        accCurrent = 0\n",
        "        while accCurrent < 0.95 and epoch < n_epoch: \n",
        "            accCurrent = self._train(epoch, loader_tr, optimizer)\n",
        "            epoch += 1\n",
        "            # print(str(epoch) + ' training accuracy: ' + str(accCurrent), flush=True)\n",
        "            \n",
        "            if (epoch % 50 == 0) and (accCurrent < 0.2): # resetif not converging\n",
        "                self.clf = self.net.apply(weight_reset)\n",
        "                optimizer = optim.Adam(self.clf.parameters(), lr = self.args['lr'], weight_decay=0)\n",
        "\n",
        "        print('Training accuracy:',round(accCurrent, 3)*100, flush=True) #'Epoch:', str(epoch),\n",
        "        return self.clf"
      ],
      "execution_count": 44,
      "outputs": []
    },
    {
      "cell_type": "markdown",
      "metadata": {
        "id": "4KrEWA8ln4BO"
      },
      "source": [
        "# **Trainig loop for active learning**"
      ]
    },
    {
      "cell_type": "code",
      "metadata": {
        "id": "OJIZ-mtqn3qQ"
      },
      "source": [
        "def training_round(strategy,dt,X_tr,Y_tr,X_unlabeled,Y_unlabeled,x_tst,y_tst,first=False):\n",
        "\n",
        "    flag = False\n",
        "    if first:\n",
        "\n",
        "      nSamps, dim = np.shape(X_unlabeled)\n",
        "\n",
        "      np.random.seed(42)\n",
        "      start_idxs = np.random.choice(nSamps, size=int(0.01*nSamps), replace=False)\n",
        "\n",
        "      X_tr = X_unlabeled[start_idxs]\n",
        "      X_unlabeled = np.delete(X_unlabeled, start_idxs, axis = 0)\n",
        "\n",
        "      Y_tr = Y_unlabeled[start_idxs]\n",
        "      Y_unlabeled = np.delete(Y_unlabeled, start_idxs, axis = 0)\n",
        "\n",
        "      print('Starting set of points -', len(start_idxs))\n",
        "\n",
        "    else:    \n",
        "\n",
        "      #Human In Loop, Assuming user adds new labels here\n",
        "      idx = strategy.select(budget)\n",
        "      \n",
        "      #Adding new points to training set\n",
        "      X_tr = np.concatenate((X_tr, X_unlabeled[idx]), axis=0)\n",
        "      X_unlabeled = np.delete(X_unlabeled, idx, axis = 0)\n",
        "\n",
        "      Y_tr = np.concatenate((Y_tr, Y_unlabeled[idx]), axis = 0)\n",
        "      Y_unlabeled = np.delete(Y_unlabeled, idx, axis = 0)\n",
        "\n",
        "      print('New data points added -', len(idx))\n",
        "    \n",
        "    strategy.update_data(X_tr, Y_tr, X_unlabeled)\n",
        "    dt.update_data(X_tr, Y_tr)\n",
        "\n",
        "    clf = dt.train()\n",
        "    strategy.update_model(clf)\n",
        "    y_pred = strategy.predict(x_tst).numpy()\n",
        "    acc = round(1.0 * (y_tst == y_pred).sum().item() / len(y_tst), 3)\n",
        "    #print('Testing accuracy:', acc, flush=True)\n",
        "    if acc > 0.98:\n",
        "        flag = True\n",
        "        print('Testing accuracy reached above 98%')\n",
        "\n",
        "    return X_tr,Y_tr,X_unlabeled,Y_unlabeled,acc, flag"
      ],
      "execution_count": 45,
      "outputs": []
    },
    {
      "cell_type": "markdown",
      "metadata": {
        "id": "cRm2tsuwqQEP"
      },
      "source": [
        "# **Uncertanity based Active learning Strategy**"
      ]
    },
    {
      "cell_type": "code",
      "metadata": {
        "colab": {
          "base_uri": "https://localhost:8080/"
        },
        "id": "zSBY1RRKqPye",
        "outputId": "14a49ab8-76d7-43b2-8bda-e2bf54b2ba0d"
      },
      "source": [
        "net = TwoLayerNet(data_dims, num_cls,100)\n",
        "net.apply(init_weights)\n",
        "\n",
        "strategy_args = {'batch_size' : 1000, 'lr':float(0.001)} \n",
        "strategy = EntropySampling(None, None, None, net, DataHandler_Points, num_cls, strategy_args)\n",
        "\n",
        "args = {'n_epoch':150, 'lr':float(0.001)}  #Different args than strategy_args\n",
        "n_rounds = 10    ##Number of rounds to run ac\n",
        "budget = int(0.01*x_trn.shape[0])    ##Number of new data points after every iteration\n",
        "\n",
        "#Training Class initialization\n",
        "dt = data_train(None, None, net, DataHandler_Points, args)\n",
        "\n",
        "un_acc = np.zeros(n_rounds+1)\n",
        "X_unlabeled = deepcopy(x_trn)\n",
        "Y_unlabeled = deepcopy(y_trn)\n",
        "X_tr = None\n",
        "Y_tr = None\n",
        "\n",
        "X_tr,Y_tr,X_unlabeled,Y_unlabeled,un_acc[0],_ = training_round(strategy,dt,X_tr,Y_tr,X_unlabeled,Y_unlabeled,x_tst,y_tst,first=True)\n",
        "print('Initial Testing accuracy:', round(un_acc[0], 3)*100, flush=True)\n",
        "\n",
        "for i in range(n_rounds):\n",
        "  X_tr,Y_tr,X_unlabeled,Y_unlabeled,un_acc[i+1],flag = training_round(strategy,dt,X_tr,Y_tr,X_unlabeled,Y_unlabeled,x_tst,y_tst)\n",
        "  print('Testing accuracy at',i+1,'round :', round(un_acc[i+1], 3)*100, flush=True)  \n",
        "  if flag:\n",
        "    break\n"
      ],
      "execution_count": 46,
      "outputs": [
        {
          "output_type": "stream",
          "text": [
            "Starting set of points - 350\n",
            "Training..\n",
            "Training accuracy: 92.9\n",
            "Initial Testing accuracy: 90.3\n",
            "New data points added - 350\n",
            "Training..\n",
            "Training accuracy: 95.0\n",
            "Testing accuracy at 1 round : 94.5\n",
            "New data points added - 350\n",
            "Training..\n",
            "Training accuracy: 87.8\n",
            "Testing accuracy at 2 round : 91.2\n",
            "New data points added - 350\n",
            "Training..\n",
            "Training accuracy: 90.9\n",
            "Testing accuracy at 3 round : 94.89999999999999\n",
            "New data points added - 350\n",
            "Training..\n",
            "Training accuracy: 94.1\n",
            "Testing accuracy at 4 round : 96.7\n",
            "New data points added - 350\n",
            "Training..\n",
            "Training accuracy: 91.2\n",
            "Testing accuracy at 5 round : 96.6\n",
            "New data points added - 350\n",
            "Training..\n",
            "Training accuracy: 93.10000000000001\n",
            "Testing accuracy at 6 round : 97.2\n",
            "New data points added - 350\n",
            "Training..\n",
            "Training accuracy: 91.4\n",
            "Testing accuracy at 7 round : 97.0\n",
            "New data points added - 350\n",
            "Training..\n",
            "Training accuracy: 89.8\n",
            "Testing accuracy at 8 round : 96.6\n",
            "New data points added - 350\n",
            "Training..\n",
            "Training accuracy: 92.10000000000001\n",
            "Testing accuracy at 9 round : 97.5\n",
            "New data points added - 350\n",
            "Training..\n",
            "Training accuracy: 92.10000000000001\n",
            "Testing accuracy at 10 round : 97.6\n"
          ],
          "name": "stdout"
        }
      ]
    },
    {
      "cell_type": "markdown",
      "metadata": {
        "id": "8C-rsSkOqdKA"
      },
      "source": [
        "# **GLISTER**"
      ]
    },
    {
      "cell_type": "code",
      "metadata": {
        "colab": {
          "base_uri": "https://localhost:8080/"
        },
        "id": "2-eO9qmM4R4L",
        "outputId": "aa4b8b24-c23f-4dc5-9543-d68321c8e79b"
      },
      "source": [
        "net = TwoLayerNet(data_dims, num_cls,100)\n",
        "net.apply(init_weights)\n",
        "\n",
        "strategy_args = {'batch_size' : 12000, 'lr':float(0.001)} \n",
        "strategy = GLISTER(None, None, None, net, DataHandler_Points, num_cls, strategy_args,valid=False)#,typeOf='Diversity',lam=10)\n",
        "\n",
        "args = {'n_epoch':150, 'lr':float(0.001)}  #Different args than strategy_args\n",
        "n_rounds = 10    ##Number of rounds to run ac\n",
        "budget = int(0.01*x_trn.shape[0])     ##Number of new data points after every iteration\n",
        "\n",
        "#Training Class initialization\n",
        "dt = data_train(None, None, net, DataHandler_Points, args)\n",
        "\n",
        "glister_acc = np.zeros(n_rounds+1)\n",
        "X_unlabeled = deepcopy(x_trn)\n",
        "Y_unlabeled = deepcopy(y_trn)\n",
        "X_tr = None\n",
        "Y_tr = None\n",
        "\n",
        "X_tr,Y_tr,X_unlabeled,Y_unlabeled,glister_acc[0],_ = training_round(strategy,dt,X_tr,Y_tr,X_unlabeled,Y_unlabeled,x_tst,y_tst,first=True)\n",
        "print('Initial Testing accuracy:', round(glister_acc[0], 3)*100, flush=True)\n",
        "\n",
        "for i in range(n_rounds):\n",
        "  X_tr,Y_tr,X_unlabeled,Y_unlabeled,glister_acc[i+1],flag = training_round(strategy,dt,X_tr,Y_tr,X_unlabeled,Y_unlabeled,x_tst,y_tst)\n",
        "  print('Testing accuracy at',i+1,'round :', round(glister_acc[i+1], 3)*100, flush=True)  \n",
        "  if flag:\n",
        "    break\n"
      ],
      "execution_count": 47,
      "outputs": [
        {
          "output_type": "stream",
          "text": [
            "Starting set of points - 350\n",
            "Training..\n",
            "Training accuracy: 92.60000000000001\n",
            "Initial Testing accuracy: 91.2\n",
            "New data points added - 350\n",
            "Training..\n",
            "Training accuracy: 88.0\n",
            "Testing accuracy at 1 round : 90.8\n",
            "New data points added - 350\n",
            "Training..\n",
            "Training accuracy: 91.10000000000001\n",
            "Testing accuracy at 2 round : 91.4\n",
            "New data points added - 350\n",
            "Training..\n",
            "Training accuracy: 93.30000000000001\n",
            "Testing accuracy at 3 round : 94.39999999999999\n",
            "New data points added - 350\n",
            "Training..\n",
            "Training accuracy: 92.80000000000001\n",
            "Testing accuracy at 4 round : 95.1\n",
            "New data points added - 350\n",
            "Training..\n",
            "Training accuracy: 91.3\n",
            "Testing accuracy at 5 round : 96.0\n",
            "New data points added - 350\n",
            "Training..\n",
            "Training accuracy: 93.30000000000001\n",
            "Testing accuracy at 6 round : 96.89999999999999\n",
            "New data points added - 350\n",
            "Training..\n",
            "Training accuracy: 91.2\n",
            "Testing accuracy at 7 round : 96.7\n",
            "New data points added - 350\n",
            "Training..\n",
            "Training accuracy: 90.60000000000001\n",
            "Testing accuracy at 8 round : 96.6\n",
            "New data points added - 350\n",
            "Training..\n",
            "Training accuracy: 91.3\n",
            "Testing accuracy at 9 round : 96.7\n",
            "New data points added - 350\n",
            "Training..\n",
            "Training accuracy: 92.0\n",
            "Testing accuracy at 10 round : 97.5\n"
          ],
          "name": "stdout"
        }
      ]
    },
    {
      "cell_type": "code",
      "metadata": {
        "colab": {
          "base_uri": "https://localhost:8080/"
        },
        "id": "WEtuF8O29fwh",
        "outputId": "a146ee77-66fe-49e4-9dcd-933a6bd5ba48"
      },
      "source": [
        "net = TwoLayerNet(data_dims, num_cls,100)\n",
        "net.apply(init_weights)\n",
        "\n",
        "strategy_args = {'batch_size' : 12000, 'lr':float(0.001)} \n",
        "strategy = BADGE(None, None, None, net, DataHandler_Points, num_cls, strategy_args)\n",
        "\n",
        "args = {'n_epoch':150, 'lr':float(0.001)}  #Different args than strategy_args\n",
        "n_rounds = 10    ##Number of rounds to run ac\n",
        "budget = int(0.01*x_trn.shape[0])     ##Number of new data points after every iteration\n",
        "\n",
        "#Training Class initialization\n",
        "dt = data_train(None, None, net, DataHandler_Points, args)\n",
        "\n",
        "badge_acc = np.zeros(n_rounds+1)\n",
        "X_unlabeled = deepcopy(x_trn)\n",
        "Y_unlabeled = deepcopy(y_trn)\n",
        "X_tr = None\n",
        "Y_tr = None\n",
        "\n",
        "X_tr,Y_tr,X_unlabeled,Y_unlabeled,badge_acc[0],_ = training_round(strategy,dt,X_tr,Y_tr,X_unlabeled,Y_unlabeled,x_tst,y_tst,first=True)\n",
        "print('Initial Testing accuracy:', round(badge_acc[0], 3)*100, flush=True)\n",
        "\n",
        "for i in range(n_rounds):\n",
        "  X_tr,Y_tr,X_unlabeled,Y_unlabeled,badge_acc[i+1],flag = training_round(strategy,dt,X_tr,Y_tr,X_unlabeled,Y_unlabeled,x_tst,y_tst)\n",
        "  print('Testing accuracy at',i+1,'round :', round(badge_acc[i+1], 3)*100, flush=True)  \n",
        "  if flag:\n",
        "    break\n"
      ],
      "execution_count": 48,
      "outputs": [
        {
          "output_type": "stream",
          "text": [
            "Starting set of points - 350\n",
            "Training..\n",
            "Training accuracy: 92.0\n",
            "Initial Testing accuracy: 91.10000000000001\n",
            "New data points added - 350\n",
            "Training..\n",
            "Training accuracy: 90.4\n",
            "Testing accuracy at 1 round : 92.0\n",
            "New data points added - 350\n",
            "Training..\n",
            "Training accuracy: 89.0\n",
            "Testing accuracy at 2 round : 92.9\n",
            "New data points added - 350\n",
            "Training..\n",
            "Training accuracy: 92.9\n",
            "Testing accuracy at 3 round : 95.3\n",
            "New data points added - 350\n",
            "Training..\n",
            "Training accuracy: 92.2\n",
            "Testing accuracy at 4 round : 96.1\n",
            "New data points added - 350\n",
            "Training..\n",
            "Training accuracy: 91.9\n",
            "Testing accuracy at 5 round : 96.6\n",
            "New data points added - 350\n",
            "Training..\n",
            "Training accuracy: 93.5\n",
            "Testing accuracy at 6 round : 97.0\n",
            "New data points added - 350\n",
            "Training..\n",
            "Training accuracy: 92.7\n",
            "Testing accuracy at 7 round : 97.2\n",
            "New data points added - 350\n",
            "Training..\n",
            "Training accuracy: 92.7\n",
            "Testing accuracy at 8 round : 97.1\n",
            "New data points added - 350\n",
            "Training..\n",
            "Training accuracy: 93.5\n",
            "Testing accuracy at 9 round : 97.2\n",
            "New data points added - 350\n",
            "Training..\n",
            "Training accuracy: 92.7\n",
            "Testing accuracy at 10 round : 97.39999999999999\n"
          ],
          "name": "stdout"
        }
      ]
    },
    {
      "cell_type": "code",
      "metadata": {
        "colab": {
          "base_uri": "https://localhost:8080/",
          "height": 313
        },
        "id": "Hd8PpgnYAYAW",
        "outputId": "816bd7e8-e957-4f09-fb3b-f030212e374b"
      },
      "source": [
        "x_axis = np.array([budget for i in range(n_rounds+1)])\n",
        "x_axis = x_axis*np.array([i for i in range(1,n_rounds+2)])\n",
        "plt.figure()\n",
        "plt.plot(x_axis, glister_acc, 'b-', label='GLISTER',marker='o')\n",
        "plt.plot(x_axis, un_acc, 'g-', label='Uncertanity',marker='o')\n",
        "plt.plot(x_axis, badge_acc, 'c', label='BADGE',marker='o')\n",
        "\n",
        "\n",
        "plt.legend()\n",
        "plt.xlabel('No of points')\n",
        "plt.ylabel('Test Accuracy')\n",
        "plt.title('IJCNN')"
      ],
      "execution_count": 49,
      "outputs": [
        {
          "output_type": "execute_result",
          "data": {
            "text/plain": [
              "Text(0.5, 1.0, 'IJCNN')"
            ]
          },
          "metadata": {
            "tags": []
          },
          "execution_count": 49
        },
        {
          "output_type": "display_data",
          "data": {
            "image/png": "[encoded data removed]",
            "text/plain": [
              "<Figure size 432x288 with 1 Axes>"
            ]
          },
          "metadata": {
            "tags": [],
            "needs_background": "light"
          }
        }
      ]
    }
  ]
}