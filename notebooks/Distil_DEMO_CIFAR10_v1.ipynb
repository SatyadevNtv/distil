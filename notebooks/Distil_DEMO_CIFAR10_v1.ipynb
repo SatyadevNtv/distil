{
  "nbformat": 4,
  "nbformat_minor": 0,
  "metadata": {
    "colab": {
      "name": "Distil_DEMO_CIFAR10_v1.ipynb",
      "provenance": [],
      "collapsed_sections": [
        "WyIVzbwQgrwN",
        "W-Bxn6LmCeEI",
        "jm_ILTinrkLk",
        "BAGqAV0GrwwN"
      ],
      "toc_visible": true
    },
    "kernelspec": {
      "name": "python3",
      "display_name": "Python 3"
    },
    "accelerator": "GPU",
    "widgets": {
      "application/vnd.jupyter.widget-state+json": {
        "72fb089b5cc94d82894f5654bbe2277f": {
          "model_module": "@jupyter-widgets/controls",
          "model_name": "HBoxModel",
          "state": {
            "_view_name": "HBoxView",
            "_dom_classes": [],
            "_model_name": "HBoxModel",
            "_view_module": "@jupyter-widgets/controls",
            "_model_module_version": "1.5.0",
            "_view_count": null,
            "_view_module_version": "1.5.0",
            "box_style": "",
            "layout": "IPY_MODEL_13fe5616b45c4184b3734ec661709679",
            "_model_module": "@jupyter-widgets/controls",
            "children": [
              "IPY_MODEL_41705400314f4bc88a3ec36084904a5f",
              "IPY_MODEL_91fe0074f95a43499458d87539dfc72e"
            ]
          }
        },
        "13fe5616b45c4184b3734ec661709679": {
          "model_module": "@jupyter-widgets/base",
          "model_name": "LayoutModel",
          "state": {
            "_view_name": "LayoutView",
            "grid_template_rows": null,
            "right": null,
            "justify_content": null,
            "_view_module": "@jupyter-widgets/base",
            "overflow": null,
            "_model_module_version": "1.2.0",
            "_view_count": null,
            "flex_flow": null,
            "width": null,
            "min_width": null,
            "border": null,
            "align_items": null,
            "bottom": null,
            "_model_module": "@jupyter-widgets/base",
            "top": null,
            "grid_column": null,
            "overflow_y": null,
            "overflow_x": null,
            "grid_auto_flow": null,
            "grid_area": null,
            "grid_template_columns": null,
            "flex": null,
            "_model_name": "LayoutModel",
            "justify_items": null,
            "grid_row": null,
            "max_height": null,
            "align_content": null,
            "visibility": null,
            "align_self": null,
            "height": null,
            "min_height": null,
            "padding": null,
            "grid_auto_rows": null,
            "grid_gap": null,
            "max_width": null,
            "order": null,
            "_view_module_version": "1.2.0",
            "grid_template_areas": null,
            "object_position": null,
            "object_fit": null,
            "grid_auto_columns": null,
            "margin": null,
            "display": null,
            "left": null
          }
        },
        "41705400314f4bc88a3ec36084904a5f": {
          "model_module": "@jupyter-widgets/controls",
          "model_name": "FloatProgressModel",
          "state": {
            "_view_name": "ProgressView",
            "style": "IPY_MODEL_e3f2339ed7654b53aca46f17eed882de",
            "_dom_classes": [],
            "description": "",
            "_model_name": "FloatProgressModel",
            "bar_style": "success",
            "max": 170498071,
            "_view_module": "@jupyter-widgets/controls",
            "_model_module_version": "1.5.0",
            "value": 170498071,
            "_view_count": null,
            "_view_module_version": "1.5.0",
            "orientation": "horizontal",
            "min": 0,
            "description_tooltip": null,
            "_model_module": "@jupyter-widgets/controls",
            "layout": "IPY_MODEL_f0c310a969964371b0ccf0016f5b0c7a"
          }
        },
        "91fe0074f95a43499458d87539dfc72e": {
          "model_module": "@jupyter-widgets/controls",
          "model_name": "HTMLModel",
          "state": {
            "_view_name": "HTMLView",
            "style": "IPY_MODEL_a1d5fee291eb46379e881f714911e188",
            "_dom_classes": [],
            "description": "",
            "_model_name": "HTMLModel",
            "placeholder": "​",
            "_view_module": "@jupyter-widgets/controls",
            "_model_module_version": "1.5.0",
            "value": " 170499072/? [00:05&lt;00:00, 28699263.19it/s]",
            "_view_count": null,
            "_view_module_version": "1.5.0",
            "description_tooltip": null,
            "_model_module": "@jupyter-widgets/controls",
            "layout": "IPY_MODEL_796ee61d8c934bd3ae2653fd3cd54672"
          }
        },
        "e3f2339ed7654b53aca46f17eed882de": {
          "model_module": "@jupyter-widgets/controls",
          "model_name": "ProgressStyleModel",
          "state": {
            "_view_name": "StyleView",
            "_model_name": "ProgressStyleModel",
            "description_width": "initial",
            "_view_module": "@jupyter-widgets/base",
            "_model_module_version": "1.5.0",
            "_view_count": null,
            "_view_module_version": "1.2.0",
            "bar_color": null,
            "_model_module": "@jupyter-widgets/controls"
          }
        },
        "f0c310a969964371b0ccf0016f5b0c7a": {
          "model_module": "@jupyter-widgets/base",
          "model_name": "LayoutModel",
          "state": {
            "_view_name": "LayoutView",
            "grid_template_rows": null,
            "right": null,
            "justify_content": null,
            "_view_module": "@jupyter-widgets/base",
            "overflow": null,
            "_model_module_version": "1.2.0",
            "_view_count": null,
            "flex_flow": null,
            "width": null,
            "min_width": null,
            "border": null,
            "align_items": null,
            "bottom": null,
            "_model_module": "@jupyter-widgets/base",
            "top": null,
            "grid_column": null,
            "overflow_y": null,
            "overflow_x": null,
            "grid_auto_flow": null,
            "grid_area": null,
            "grid_template_columns": null,
            "flex": null,
            "_model_name": "LayoutModel",
            "justify_items": null,
            "grid_row": null,
            "max_height": null,
            "align_content": null,
            "visibility": null,
            "align_self": null,
            "height": null,
            "min_height": null,
            "padding": null,
            "grid_auto_rows": null,
            "grid_gap": null,
            "max_width": null,
            "order": null,
            "_view_module_version": "1.2.0",
            "grid_template_areas": null,
            "object_position": null,
            "object_fit": null,
            "grid_auto_columns": null,
            "margin": null,
            "display": null,
            "left": null
          }
        },
        "a1d5fee291eb46379e881f714911e188": {
          "model_module": "@jupyter-widgets/controls",
          "model_name": "DescriptionStyleModel",
          "state": {
            "_view_name": "StyleView",
            "_model_name": "DescriptionStyleModel",
            "description_width": "",
            "_view_module": "@jupyter-widgets/base",
            "_model_module_version": "1.5.0",
            "_view_count": null,
            "_view_module_version": "1.2.0",
            "_model_module": "@jupyter-widgets/controls"
          }
        },
        "796ee61d8c934bd3ae2653fd3cd54672": {
          "model_module": "@jupyter-widgets/base",
          "model_name": "LayoutModel",
          "state": {
            "_view_name": "LayoutView",
            "grid_template_rows": null,
            "right": null,
            "justify_content": null,
            "_view_module": "@jupyter-widgets/base",
            "overflow": null,
            "_model_module_version": "1.2.0",
            "_view_count": null,
            "flex_flow": null,
            "width": null,
            "min_width": null,
            "border": null,
            "align_items": null,
            "bottom": null,
            "_model_module": "@jupyter-widgets/base",
            "top": null,
            "grid_column": null,
            "overflow_y": null,
            "overflow_x": null,
            "grid_auto_flow": null,
            "grid_area": null,
            "grid_template_columns": null,
            "flex": null,
            "_model_name": "LayoutModel",
            "justify_items": null,
            "grid_row": null,
            "max_height": null,
            "align_content": null,
            "visibility": null,
            "align_self": null,
            "height": null,
            "min_height": null,
            "padding": null,
            "grid_auto_rows": null,
            "grid_gap": null,
            "max_width": null,
            "order": null,
            "_view_module_version": "1.2.0",
            "grid_template_areas": null,
            "object_position": null,
            "object_fit": null,
            "grid_auto_columns": null,
            "margin": null,
            "display": null,
            "left": null
          }
        },
        "a0149253f4284740bdf43bdf5839de53": {
          "model_module": "@jupyter-widgets/controls",
          "model_name": "HBoxModel",
          "state": {
            "_view_name": "HBoxView",
            "_dom_classes": [],
            "_model_name": "HBoxModel",
            "_view_module": "@jupyter-widgets/controls",
            "_model_module_version": "1.5.0",
            "_view_count": null,
            "_view_module_version": "1.5.0",
            "box_style": "",
            "layout": "IPY_MODEL_22a55a983ddb4aa08018d0d22f1ca9eb",
            "_model_module": "@jupyter-widgets/controls",
            "children": [
              "IPY_MODEL_a3de47acf83a47b3acaf11b5819c1a5b",
              "IPY_MODEL_c50a50064b21469292328e9047e0650a"
            ]
          }
        },
        "22a55a983ddb4aa08018d0d22f1ca9eb": {
          "model_module": "@jupyter-widgets/base",
          "model_name": "LayoutModel",
          "state": {
            "_view_name": "LayoutView",
            "grid_template_rows": null,
            "right": null,
            "justify_content": null,
            "_view_module": "@jupyter-widgets/base",
            "overflow": null,
            "_model_module_version": "1.2.0",
            "_view_count": null,
            "flex_flow": null,
            "width": null,
            "min_width": null,
            "border": null,
            "align_items": null,
            "bottom": null,
            "_model_module": "@jupyter-widgets/base",
            "top": null,
            "grid_column": null,
            "overflow_y": null,
            "overflow_x": null,
            "grid_auto_flow": null,
            "grid_area": null,
            "grid_template_columns": null,
            "flex": null,
            "_model_name": "LayoutModel",
            "justify_items": null,
            "grid_row": null,
            "max_height": null,
            "align_content": null,
            "visibility": null,
            "align_self": null,
            "height": null,
            "min_height": null,
            "padding": null,
            "grid_auto_rows": null,
            "grid_gap": null,
            "max_width": null,
            "order": null,
            "_view_module_version": "1.2.0",
            "grid_template_areas": null,
            "object_position": null,
            "object_fit": null,
            "grid_auto_columns": null,
            "margin": null,
            "display": null,
            "left": null
          }
        },
        "a3de47acf83a47b3acaf11b5819c1a5b": {
          "model_module": "@jupyter-widgets/controls",
          "model_name": "FloatProgressModel",
          "state": {
            "_view_name": "ProgressView",
            "style": "IPY_MODEL_84885b80677642b699c110667331cd40",
            "_dom_classes": [],
            "description": "",
            "_model_name": "FloatProgressModel",
            "bar_style": "success",
            "max": 170498071,
            "_view_module": "@jupyter-widgets/controls",
            "_model_module_version": "1.5.0",
            "value": 170498071,
            "_view_count": null,
            "_view_module_version": "1.5.0",
            "orientation": "horizontal",
            "min": 0,
            "description_tooltip": null,
            "_model_module": "@jupyter-widgets/controls",
            "layout": "IPY_MODEL_3609f8c2be384598b5bc22dac5846607"
          }
        },
        "c50a50064b21469292328e9047e0650a": {
          "model_module": "@jupyter-widgets/controls",
          "model_name": "HTMLModel",
          "state": {
            "_view_name": "HTMLView",
            "style": "IPY_MODEL_16ac1fc6c74b459f938a7553c1e06b4a",
            "_dom_classes": [],
            "description": "",
            "_model_name": "HTMLModel",
            "placeholder": "​",
            "_view_module": "@jupyter-widgets/controls",
            "_model_module_version": "1.5.0",
            "value": " 170499072/? [00:06&lt;00:00, 26892499.36it/s]",
            "_view_count": null,
            "_view_module_version": "1.5.0",
            "description_tooltip": null,
            "_model_module": "@jupyter-widgets/controls",
            "layout": "IPY_MODEL_52b8dbf4e7b744b282e5347f5b4690f9"
          }
        },
        "84885b80677642b699c110667331cd40": {
          "model_module": "@jupyter-widgets/controls",
          "model_name": "ProgressStyleModel",
          "state": {
            "_view_name": "StyleView",
            "_model_name": "ProgressStyleModel",
            "description_width": "initial",
            "_view_module": "@jupyter-widgets/base",
            "_model_module_version": "1.5.0",
            "_view_count": null,
            "_view_module_version": "1.2.0",
            "bar_color": null,
            "_model_module": "@jupyter-widgets/controls"
          }
        },
        "3609f8c2be384598b5bc22dac5846607": {
          "model_module": "@jupyter-widgets/base",
          "model_name": "LayoutModel",
          "state": {
            "_view_name": "LayoutView",
            "grid_template_rows": null,
            "right": null,
            "justify_content": null,
            "_view_module": "@jupyter-widgets/base",
            "overflow": null,
            "_model_module_version": "1.2.0",
            "_view_count": null,
            "flex_flow": null,
            "width": null,
            "min_width": null,
            "border": null,
            "align_items": null,
            "bottom": null,
            "_model_module": "@jupyter-widgets/base",
            "top": null,
            "grid_column": null,
            "overflow_y": null,
            "overflow_x": null,
            "grid_auto_flow": null,
            "grid_area": null,
            "grid_template_columns": null,
            "flex": null,
            "_model_name": "LayoutModel",
            "justify_items": null,
            "grid_row": null,
            "max_height": null,
            "align_content": null,
            "visibility": null,
            "align_self": null,
            "height": null,
            "min_height": null,
            "padding": null,
            "grid_auto_rows": null,
            "grid_gap": null,
            "max_width": null,
            "order": null,
            "_view_module_version": "1.2.0",
            "grid_template_areas": null,
            "object_position": null,
            "object_fit": null,
            "grid_auto_columns": null,
            "margin": null,
            "display": null,
            "left": null
          }
        },
        "16ac1fc6c74b459f938a7553c1e06b4a": {
          "model_module": "@jupyter-widgets/controls",
          "model_name": "DescriptionStyleModel",
          "state": {
            "_view_name": "StyleView",
            "_model_name": "DescriptionStyleModel",
            "description_width": "",
            "_view_module": "@jupyter-widgets/base",
            "_model_module_version": "1.5.0",
            "_view_count": null,
            "_view_module_version": "1.2.0",
            "_model_module": "@jupyter-widgets/controls"
          }
        },
        "52b8dbf4e7b744b282e5347f5b4690f9": {
          "model_module": "@jupyter-widgets/base",
          "model_name": "LayoutModel",
          "state": {
            "_view_name": "LayoutView",
            "grid_template_rows": null,
            "right": null,
            "justify_content": null,
            "_view_module": "@jupyter-widgets/base",
            "overflow": null,
            "_model_module_version": "1.2.0",
            "_view_count": null,
            "flex_flow": null,
            "width": null,
            "min_width": null,
            "border": null,
            "align_items": null,
            "bottom": null,
            "_model_module": "@jupyter-widgets/base",
            "top": null,
            "grid_column": null,
            "overflow_y": null,
            "overflow_x": null,
            "grid_auto_flow": null,
            "grid_area": null,
            "grid_template_columns": null,
            "flex": null,
            "_model_name": "LayoutModel",
            "justify_items": null,
            "grid_row": null,
            "max_height": null,
            "align_content": null,
            "visibility": null,
            "align_self": null,
            "height": null,
            "min_height": null,
            "padding": null,
            "grid_auto_rows": null,
            "grid_gap": null,
            "max_width": null,
            "order": null,
            "_view_module_version": "1.2.0",
            "grid_template_areas": null,
            "object_position": null,
            "object_fit": null,
            "grid_auto_columns": null,
            "margin": null,
            "display": null,
            "left": null
          }
        }
      }
    }
  },
  "cells": [
    {
      "cell_type": "markdown",
      "metadata": {
        "id": "K8AxA7KVfv9m"
      },
      "source": [
        "# **DISTIL Installation**"
      ]
    },
    {
      "cell_type": "code",
      "metadata": {
        "colab": {
          "base_uri": "https://localhost:8080/"
        },
        "id": "9bsVDupO_EOh",
        "outputId": "c343e572-0198-4f61-8f37-e275f0738594"
      },
      "source": [
        "!git clone https://github.com/decile-team/distil.git\n",
        "!pip install apricot-select\n",
        "%cd distil/examples/"
      ],
      "execution_count": null,
      "outputs": [
        {
          "output_type": "stream",
          "text": [
            "Cloning into 'distil'...\n",
            "remote: Enumerating objects: 2126, done.\u001b[K\n",
            "remote: Counting objects: 100% (46/46), done.\u001b[K\n",
            "remote: Compressing objects: 100% (46/46), done.\u001b[K\n",
            "remote: Total 2126 (delta 8), reused 0 (delta 0), pack-reused 2080\u001b[K\n",
            "Receiving objects: 100% (2126/2126), 14.94 MiB | 27.56 MiB/s, done.\n",
            "Resolving deltas: 100% (1311/1311), done.\n",
            "Collecting apricot-select\n",
            "  Downloading https://files.pythonhosted.org/packages/b8/96/7d9aec6ab622449aad7556101e90c2ef67b72b7cf33ded6cc9326a41e169/apricot-select-0.6.1.tar.gz\n",
            "Requirement already satisfied: numpy>=1.14.2 in /usr/local/lib/python3.7/dist-packages (from apricot-select) (1.19.5)\n",
            "Requirement already satisfied: scipy>=1.0.0 in /usr/local/lib/python3.7/dist-packages (from apricot-select) (1.4.1)\n",
            "Requirement already satisfied: numba>=0.43.0 in /usr/local/lib/python3.7/dist-packages (from apricot-select) (0.51.2)\n",
            "Requirement already satisfied: tqdm>=4.24.0 in /usr/local/lib/python3.7/dist-packages (from apricot-select) (4.41.1)\n",
            "Collecting nose\n",
            "\u001b[?25l  Downloading https://files.pythonhosted.org/packages/15/d8/dd071918c040f50fa1cf80da16423af51ff8ce4a0f2399b7bf8de45ac3d9/nose-1.3.7-py3-none-any.whl (154kB)\n",
            "\u001b[K     |████████████████████████████████| 163kB 4.5MB/s \n",
            "\u001b[?25hRequirement already satisfied: setuptools in /usr/local/lib/python3.7/dist-packages (from numba>=0.43.0->apricot-select) (56.0.0)\n",
            "Requirement already satisfied: llvmlite<0.35,>=0.34.0.dev0 in /usr/local/lib/python3.7/dist-packages (from numba>=0.43.0->apricot-select) (0.34.0)\n",
            "Building wheels for collected packages: apricot-select\n",
            "  Building wheel for apricot-select (setup.py) ... \u001b[?25l\u001b[?25hdone\n",
            "  Created wheel for apricot-select: filename=apricot_select-0.6.1-cp37-none-any.whl size=48789 sha256=1fa4bae0e6b2d24f04ae8170e342c86955392e208f1d836360dc7a4c24d9cfc5\n",
            "  Stored in directory: /root/.cache/pip/wheels/27/53/c1/67fd7b8bd5be9d506fdac6bb9b73b5c69734da8210833998fa\n",
            "Successfully built apricot-select\n",
            "Installing collected packages: nose, apricot-select\n",
            "Successfully installed apricot-select-0.6.1 nose-1.3.7\n",
            "/content/distil/examples\n"
          ],
          "name": "stdout"
        }
      ]
    },
    {
      "cell_type": "markdown",
      "metadata": {
        "id": "kchiw_zcf4tE"
      },
      "source": [
        "**Imports**"
      ]
    },
    {
      "cell_type": "code",
      "metadata": {
        "id": "X7l1LUx6CSyx",
        "colab": {
          "base_uri": "https://localhost:8080/"
        },
        "outputId": "ff776da4-2a71-460a-d8fd-f0a7af7ef2d2"
      },
      "source": [
        "import pandas as pd \n",
        "import numpy as np\n",
        "from torch.utils.data import Dataset\n",
        "from torch.utils.data import DataLoader\n",
        "import torch.nn.functional as F\n",
        "from torch import nn\n",
        "from torchvision import transforms\n",
        "import torch\n",
        "import torch.optim as optim\n",
        "from torch.autograd import Variable\n",
        "import sys\n",
        "import os\n",
        "from google.colab import drive\n",
        "sys.path.append('../')\n",
        "from distil.active_learning_strategies import GLISTER, BADGE, EntropySampling, RandomSampling\n",
        "\n",
        "from distil.utils.models.resnet import ResNet18\n",
        "from distil.utils.data_handler import DataHandler_CIFAR10\n",
        "from distil.utils.dataset import get_dataset\n",
        "from distil.utils.train_helper import data_train"
      ],
      "execution_count": null,
      "outputs": [
        {
          "output_type": "stream",
          "text": [
            "/usr/local/lib/python3.7/dist-packages/numba/np/ufunc/parallel.py:363: NumbaWarning: The TBB threading layer requires TBB version 2019.5 or later i.e., TBB_INTERFACE_VERSION >= 11005. Found TBB_INTERFACE_VERSION = 9107. The TBB threading layer is disabled.\n",
            "  warnings.warn(problem)\n"
          ],
          "name": "stderr"
        }
      ]
    },
    {
      "cell_type": "markdown",
      "metadata": {
        "id": "Vvn_Dal4gb8S"
      },
      "source": [
        "# **Data, Model & Directory Configuration**\n",
        "\n",
        "The CIFAR-10 dataset contains 60,000 32x32 color images in 10 different classes.The 10 different classes represent airplanes, cars, birds, cats, deer, dogs, frogs, horses, ships, and trucks. There are 6,000 images of each class. The training set contains 50,000 images and test set contains 10,000 images. We will use DISTIL's custom data handler for CIFAR10:- DataHandler_CIFAR10 to load the labeled as well as unlabeled data."
      ]
    },
    {
      "cell_type": "code",
      "metadata": {
        "colab": {
          "base_uri": "https://localhost:8080/",
          "height": 117,
          "referenced_widgets": [
            "72fb089b5cc94d82894f5654bbe2277f",
            "13fe5616b45c4184b3734ec661709679",
            "41705400314f4bc88a3ec36084904a5f",
            "91fe0074f95a43499458d87539dfc72e",
            "e3f2339ed7654b53aca46f17eed882de",
            "f0c310a969964371b0ccf0016f5b0c7a",
            "a1d5fee291eb46379e881f714911e188",
            "796ee61d8c934bd3ae2653fd3cd54672"
          ]
        },
        "id": "jdLy9wyjCuT-",
        "outputId": "33694dc4-add5-42c9-8a9e-03f6b814c2d0"
      },
      "source": [
        "data_set_name = 'CIFAR10'\n",
        "download_path = '../downloaded_data/'\n",
        "X, y, X_test, y_test = get_dataset(data_set_name, download_path)\n",
        "dim = np.shape(X)[1:]\n",
        "handler = DataHandler_CIFAR10\n",
        "\n",
        "X_tr = X[:1000]\n",
        "y_tr = y[:1000]\n",
        "X_unlabeled = X[1000:]\n",
        "y_unlabeled = y[1000:]\n",
        "\n",
        "X_test = X_test\n",
        "y_test = y_test.numpy()\n",
        "\n",
        "nclasses = 10\n",
        "n_rounds = 9    ##Number of rounds to run active learning\n",
        "budget = 3000 \n",
        "\n",
        "net = ResNet18()"
      ],
      "execution_count": null,
      "outputs": [
        {
          "output_type": "stream",
          "text": [
            "Downloading https://www.cs.toronto.edu/~kriz/cifar-10-python.tar.gz to ../downloaded_data//CIFAR10/cifar-10-python.tar.gz\n"
          ],
          "name": "stdout"
        },
        {
          "output_type": "display_data",
          "data": {
            "application/vnd.jupyter.widget-view+json": {
              "model_id": "72fb089b5cc94d82894f5654bbe2277f",
              "version_minor": 0,
              "version_major": 2
            },
            "text/plain": [
              "HBox(children=(FloatProgress(value=0.0, max=170498071.0), HTML(value='')))"
            ]
          },
          "metadata": {
            "tags": []
          }
        },
        {
          "output_type": "stream",
          "text": [
            "\n",
            "Extracting ../downloaded_data//CIFAR10/cifar-10-python.tar.gz to ../downloaded_data//CIFAR10\n",
            "Files already downloaded and verified\n"
          ],
          "name": "stdout"
        }
      ]
    },
    {
      "cell_type": "code",
      "metadata": {
        "colab": {
          "base_uri": "https://localhost:8080/"
        },
        "id": "YWHNtN2rDtsZ",
        "outputId": "e40a6fa8-9315-419e-f4bf-2662a18c9167"
      },
      "source": [
        "#Mount Storage\n",
        "colab_model_storage_mount = \"/content/drive\"\n",
        "drive.mount(colab_model_storage_mount)\n",
        "\n",
        "#Model Directory\n",
        "base_dir = \"/content/drive/MyDrive/distil_experiments/cifar10/\"\n",
        "os.makedirs(base_dir, exist_ok = True)\n",
        "model_directory = os.path.join(base_dir, 'base_model.pth')"
      ],
      "execution_count": null,
      "outputs": [
        {
          "output_type": "stream",
          "text": [
            "Mounted at /content/drive\n"
          ],
          "name": "stdout"
        }
      ]
    },
    {
      "cell_type": "markdown",
      "metadata": {
        "id": "spOTFeWgfm4b"
      },
      "source": [
        "# **INITIAL MODEL TRAINING**\n",
        "Run only if you don't have a base model or when you are running it for the first time. Otherwise, you skip this cell and load model by running the below cell"
      ]
    },
    {
      "cell_type": "code",
      "metadata": {
        "colab": {
          "base_uri": "https://localhost:8080/"
        },
        "id": "Ru5tj6u8fwEi",
        "outputId": "22983a10-9e1e-40b6-e769-cfb597506b76"
      },
      "source": [
        "args = {'n_epoch':300, 'lr':float(0.01), 'batch_size':20, 'max_accuracy':0.99, 'optimizer':'sgd'} \n",
        "dt = data_train(X_tr, y_tr, net, handler, args)\n",
        "clf = dt.train()\n",
        "torch.save(clf.state_dict(), model_directory)"
      ],
      "execution_count": null,
      "outputs": [
        {
          "output_type": "stream",
          "text": [
            "Training..\n",
            "Epoch: 110 Training accuracy: 0.993\n"
          ],
          "name": "stdout"
        }
      ]
    },
    {
      "cell_type": "markdown",
      "metadata": {
        "id": "WyIVzbwQgrwN"
      },
      "source": [
        "# **LOAD BASE MODEL**"
      ]
    },
    {
      "cell_type": "code",
      "metadata": {
        "id": "Dd-ieb7RgyJY"
      },
      "source": [
        "base_dir = \"/content/drive/MyDrive/distil_experiments/cifar10/\"\n",
        "model_directory = os.path.join(base_dir, 'base_model.pth')\n",
        "net.load_state_dict(torch.load(model_directory))\n",
        "clf = net"
      ],
      "execution_count": null,
      "outputs": []
    },
    {
      "cell_type": "markdown",
      "metadata": {
        "id": "W-Bxn6LmCeEI"
      },
      "source": [
        "# **RANDOM SAMPLING**\n",
        "This strategy is often used as a baseline, where we pick a set of unlabled points randomly. Here we create a instance of distil.active_learning_strategies.random_sampling.RandomSampling by passing following parameters:\n",
        "\n",
        "**X (Numpy array)** – Features of the labled set of points\n",
        "\n",
        "**Y (Numpy array)** – Lables of the labled set of points\n",
        "\n",
        "**unlabeled_x (Numpy array)** – Features of the unlabled set of points\n",
        "\n",
        "**net (class object)** – Model architecture used for training. Could be instance of models defined in distil.utils.models or something similar.\n",
        "\n",
        "**handler (class object)** – It should be a subclass of torch.utils.data.Dataset i.e, have __getitem__ and __len__ methods implemented, so that is could be passed to pytorch DataLoader.Could be instance of handlers defined in distil.utils.DataHandler or something similar.\n",
        "\n",
        "**nclasses (int)** – No. of classes in tha dataset\n",
        "\n",
        "**args (dictionary)**– This dictionary should have ‘batch_size’ as a key. 'batch_size' should be such that one can exploit the benefits of tensorization while honouring the resourse constraits. This ‘batch_size’ therefore can be different than the one used for training.\n",
        "\n",
        "We initally pass None for X,Y and unlabeled_x. Later we update using update functions of training class and RandomSampling class. \n"
      ]
    },
    {
      "cell_type": "code",
      "metadata": {
        "colab": {
          "base_uri": "https://localhost:8080/"
        },
        "id": "j8OdeQ63DZuP",
        "outputId": "bcffa293-cfe5-47ea-f212-f453364b3043"
      },
      "source": [
        "#Initializing Strategy Class\n",
        "strategy_args = {'batch_size' : 1000}\n",
        "strategy = RandomSampling(X_tr, y_tr, X_unlabeled, net, handler, nclasses, strategy_args)\n",
        "\n",
        "#Initial Training\n",
        "args = {'n_epoch':300, 'lr':float(0.01), 'batch_size':20, 'max_accuracy':0.99, 'optimizer':'sgd'} \n",
        "dt = data_train(X_tr, y_tr, clf, handler, args)\n",
        "\n",
        "#Updating the trained model in strategy class\n",
        "strategy.update_model(clf)\n",
        "\n",
        "# y_pred = strategy.predict(X_test).numpy()\n",
        "acc = np.zeros(n_rounds)\n",
        "acc[0] = dt.get_acc_on_set(X_test, y_test)\n",
        "print('Initial Testing accuracy:', round(acc[0]*100, 2), flush=True)\n",
        "\n",
        "##User Controlled Loop\n",
        "for rd in range(1, n_rounds):\n",
        "    print('-------------------------------------------------')\n",
        "    print('Round', rd) \n",
        "    print('-------------------------------------------------')\n",
        "\n",
        "    #Using select function for getting next set of data points\n",
        "    idx = strategy.select(budget)\n",
        "\n",
        "    #Saving state of model, since labeling new points might take time\n",
        "    strategy.save_state('./state.pkl')\n",
        "\n",
        "    #Adding new points to training set\n",
        "    X_tr = np.concatenate((X_tr, X_unlabeled[idx]), axis=0)\n",
        "    X_unlabeled = np.delete(X_unlabeled, idx, axis = 0)\n",
        "\n",
        "    #Human In Loop, Assuming user adds new labels here\n",
        "    y_tr = np.concatenate((y_tr, y_unlabeled[idx]), axis = 0)\n",
        "    y_unlabeled = np.delete(y_unlabeled, idx, axis = 0)\n",
        "    print('Number of training points -',X_tr.shape[0])\n",
        "\n",
        "    #Reload state and start training\n",
        "    strategy.load_state('./state.pkl')\n",
        "    strategy.update_data(X_tr, y_tr, X_unlabeled)\n",
        "    dt.update_data(X_tr, y_tr)\n",
        "\n",
        "    clf = dt.train()\n",
        "    strategy.update_model(clf)\n",
        "    acc[rd] = dt.get_acc_on_set(X_test, y_test)\n",
        "    print('Testing accuracy:', round(acc[rd]*100, 2), flush=True)\n",
        "    if acc[rd] > 0.98:\n",
        "        print('Testing accuracy reached above 98%, stopping training!')\n",
        "        break\n",
        "\n",
        "print('Training Completed')\n",
        "\n",
        "#Saving accuracies for further analysis\n",
        "with open(os.path.join(base_dir,'random.txt'), 'w') as f:\n",
        "    for item in acc:\n",
        "        f.write(\"%s\\n\" % item)"
      ],
      "execution_count": null,
      "outputs": [
        {
          "output_type": "stream",
          "text": [
            "Initial Testing accuracy: 56.49\n",
            "-------------------------------------------------\n",
            "Round 1\n",
            "-------------------------------------------------\n",
            "Number of training points - 4000\n",
            "Training..\n",
            "Epoch: 112 Training accuracy: 0.992\n",
            "Testing accuracy: 77.09\n",
            "-------------------------------------------------\n",
            "Round 2\n",
            "-------------------------------------------------\n",
            "Number of training points - 7000\n",
            "Training..\n",
            "Epoch: 137 Training accuracy: 0.99\n",
            "Testing accuracy: 81.44\n",
            "-------------------------------------------------\n",
            "Round 3\n",
            "-------------------------------------------------\n",
            "Number of training points - 10000\n",
            "Training..\n",
            "Epoch: 162 Training accuracy: 0.991\n",
            "Testing accuracy: 85.57\n",
            "-------------------------------------------------\n",
            "Round 4\n",
            "-------------------------------------------------\n",
            "Number of training points - 13000\n",
            "Training..\n",
            "Epoch: 179 Training accuracy: 0.992\n",
            "Testing accuracy: 87.38\n",
            "-------------------------------------------------\n",
            "Round 5\n",
            "-------------------------------------------------\n",
            "Number of training points - 16000\n",
            "Training..\n",
            "Epoch: 185 Training accuracy: 0.99\n",
            "Testing accuracy: 87.71\n",
            "-------------------------------------------------\n",
            "Round 6\n",
            "-------------------------------------------------\n",
            "Number of training points - 19000\n",
            "Training..\n",
            "Epoch: 192 Training accuracy: 0.991\n",
            "Testing accuracy: 89.28\n",
            "-------------------------------------------------\n",
            "Round 7\n",
            "-------------------------------------------------\n",
            "Number of training points - 22000\n",
            "Training..\n",
            "Epoch: 196 Training accuracy: 0.991\n",
            "Testing accuracy: 90.35\n",
            "-------------------------------------------------\n",
            "Round 8\n",
            "-------------------------------------------------\n",
            "Number of training points - 25000\n",
            "Training..\n",
            "Epoch: 196 Training accuracy: 0.99\n",
            "Testing accuracy: 91.54\n",
            "Training Completed\n"
          ],
          "name": "stdout"
        }
      ]
    },
    {
      "cell_type": "markdown",
      "metadata": {
        "id": "jm_ILTinrkLk"
      },
      "source": [
        "# **Uncertanity based Active learning Strategy**\n",
        "\n",
        "The most basic active learning strategy, where we select samples about which the model is most uncertain. To quantify the uncertainity we use entropy, therefore select points which have maximum entropy. Let $z_i$ be output from the model then the correponding softmax would be $$\\sigma(z_i) = \\frac{e^{z_i}}{\\sum_j e^{z_j}}$$. Then entropy can be calculated as, $$ENTROPY = -\\sum_j \\sigma(z_j)*log(\\sigma(z_i))$$\n",
        "\n",
        "Here we create a instance of distil.active_learning_strategies.entropy_sampling.EntropySampling with same parameters passed to distil.active_learning_strategies.random_sampling.RandomSampling."
      ]
    },
    {
      "cell_type": "markdown",
      "metadata": {
        "id": "ieS3rs-TC8bE"
      },
      "source": [
        "**Reloading Base Model & Data**"
      ]
    },
    {
      "cell_type": "code",
      "metadata": {
        "colab": {
          "base_uri": "https://localhost:8080/",
          "height": 117,
          "referenced_widgets": [
            "a0149253f4284740bdf43bdf5839de53",
            "22a55a983ddb4aa08018d0d22f1ca9eb",
            "a3de47acf83a47b3acaf11b5819c1a5b",
            "c50a50064b21469292328e9047e0650a",
            "84885b80677642b699c110667331cd40",
            "3609f8c2be384598b5bc22dac5846607",
            "16ac1fc6c74b459f938a7553c1e06b4a",
            "52b8dbf4e7b744b282e5347f5b4690f9"
          ]
        },
        "id": "pJ59h8axDFEt",
        "outputId": "0ef4e987-c810-47be-ea49-26b518b961b6"
      },
      "source": [
        "data_set_name = 'CIFAR10'\n",
        "download_path = '../downloaded_data/'\n",
        "X, y, X_test, y_test = get_dataset(data_set_name, download_path)\n",
        "dim = np.shape(X)[1:]\n",
        "handler = DataHandler_CIFAR10\n",
        "\n",
        "X_tr = X[:1000]\n",
        "y_tr = y[:1000]\n",
        "X_unlabeled = X[1000:]\n",
        "y_unlabeled = y[1000:]\n",
        "\n",
        "X_test = X_test\n",
        "y_test = y_test.numpy()\n",
        "\n",
        "nclasses = 10\n",
        "n_rounds = 9    ##Number of rounds to run active learning\n",
        "budget = 3000 \n",
        "\n",
        "net = ResNet18()\n",
        "\n",
        "base_dir = \"/content/drive/MyDrive/distil_experiments/cifar10/\"\n",
        "model_directory = os.path.join(base_dir, 'base_model.pth')\n",
        "net.load_state_dict(torch.load(model_directory))\n",
        "clf = net"
      ],
      "execution_count": null,
      "outputs": [
        {
          "output_type": "stream",
          "text": [
            "Downloading https://www.cs.toronto.edu/~kriz/cifar-10-python.tar.gz to ../downloaded_data//CIFAR10/cifar-10-python.tar.gz\n"
          ],
          "name": "stdout"
        },
        {
          "output_type": "display_data",
          "data": {
            "application/vnd.jupyter.widget-view+json": {
              "model_id": "a0149253f4284740bdf43bdf5839de53",
              "version_minor": 0,
              "version_major": 2
            },
            "text/plain": [
              "HBox(children=(FloatProgress(value=0.0, max=170498071.0), HTML(value='')))"
            ]
          },
          "metadata": {
            "tags": []
          }
        },
        {
          "output_type": "stream",
          "text": [
            "\n",
            "Extracting ../downloaded_data//CIFAR10/cifar-10-python.tar.gz to ../downloaded_data//CIFAR10\n",
            "Files already downloaded and verified\n"
          ],
          "name": "stdout"
        }
      ]
    },
    {
      "cell_type": "code",
      "metadata": {
        "colab": {
          "base_uri": "https://localhost:8080/"
        },
        "id": "DwgnCuSlrO2V",
        "outputId": "cbe82a70-4ca2-44d3-e0e4-c4b455b1aaa6"
      },
      "source": [
        "#Initializing Strategy Class\n",
        "strategy_args = {'batch_size' : 1000}\n",
        "strategy = EntropySampling(X_tr, y_tr, X_unlabeled, clf, handler, nclasses, strategy_args)\n",
        "\n",
        "#Initial Training\n",
        "args = {'n_epoch':300, 'lr':float(0.01), 'batch_size':20, 'max_accuracy':0.99, 'optimizer':'sgd'}\n",
        "dt = data_train(X_tr, y_tr, clf, handler, args)\n",
        "\n",
        "#Updating the trained model in strategy class\n",
        "strategy.update_model(clf)\n",
        "\n",
        "acc = np.zeros(n_rounds)\n",
        "acc[0] = dt.get_acc_on_set(X_test, y_test)\n",
        "print('Initial Testing accuracy:', round(acc[0]*100, 2), flush=True)\n",
        "\n",
        "##User Controlled Loop\n",
        "for rd in range(1, n_rounds):\n",
        "    print('-------------------------------------------------')\n",
        "    print('Round', rd) \n",
        "    print('-------------------------------------------------')\n",
        "\n",
        "    #Using select function for getting next set of data points\n",
        "    idx = strategy.select(budget)\n",
        "\n",
        "    #Saving state of model, since labeling new points might take time\n",
        "    strategy.save_state('./state.pkl')\n",
        "\n",
        "    #Adding new points to training set\n",
        "    X_tr = np.concatenate((X_tr, X_unlabeled[idx]), axis=0)\n",
        "    X_unlabeled = np.delete(X_unlabeled, idx, axis = 0)\n",
        "\n",
        "    #Human In Loop, Assuming user adds new labels here\n",
        "    y_tr = np.concatenate((y_tr, y_unlabeled[idx]), axis = 0)\n",
        "    y_unlabeled = np.delete(y_unlabeled, idx, axis = 0)\n",
        "    print('Number of training points -',X_tr.shape[0])\n",
        "\n",
        "    #Reload state and start training\n",
        "    strategy.load_state('./state.pkl')\n",
        "    strategy.update_data(X_tr, y_tr, X_unlabeled)\n",
        "    dt.update_data(X_tr, y_tr)\n",
        "\n",
        "    clf = dt.train()\n",
        "    strategy.update_model(clf)\n",
        "    acc[rd] = dt.get_acc_on_set(X_test, y_test)\n",
        "    print('Testing accuracy:', round(acc[rd]*100, 2), flush=True)\n",
        "    if acc[rd] > 0.98:\n",
        "        print('Testing accuracy reached above 98%, stopping training!')\n",
        "        break\n",
        "\n",
        "print('Training Completed')\n",
        "\n",
        "#Saving accuracies for further analysis\n",
        "with open(os.path.join(base_dir,'entropy.txt'), 'w') as f:\n",
        "    for item in acc:\n",
        "        f.write(\"%s\\n\" % item)"
      ],
      "execution_count": null,
      "outputs": [
        {
          "output_type": "stream",
          "text": [
            "Initial Testing accuracy: 56.49\n",
            "-------------------------------------------------\n",
            "Round 1\n",
            "-------------------------------------------------\n",
            "Number of training points - 4000\n",
            "Training..\n",
            "Epoch: 123 Training accuracy: 0.991\n",
            "Testing accuracy: 78.79\n",
            "-------------------------------------------------\n",
            "Round 2\n",
            "-------------------------------------------------\n",
            "Number of training points - 7000\n",
            "Training..\n",
            "Epoch: 163 Training accuracy: 0.991\n",
            "Testing accuracy: 85.0\n",
            "-------------------------------------------------\n",
            "Round 3\n",
            "-------------------------------------------------\n",
            "Number of training points - 10000\n",
            "Training..\n",
            "Epoch: 180 Training accuracy: 0.99\n",
            "Testing accuracy: 88.72\n",
            "-------------------------------------------------\n",
            "Round 4\n",
            "-------------------------------------------------\n",
            "Number of training points - 13000\n",
            "Training..\n",
            "Epoch: 198 Training accuracy: 0.992\n",
            "Testing accuracy: 90.82\n",
            "-------------------------------------------------\n",
            "Round 5\n",
            "-------------------------------------------------\n",
            "Number of training points - 16000\n",
            "Training..\n",
            "Epoch: 204 Training accuracy: 0.99\n",
            "Testing accuracy: 91.62\n",
            "-------------------------------------------------\n",
            "Round 6\n",
            "-------------------------------------------------\n",
            "Number of training points - 19000\n",
            "Training..\n",
            "Epoch: 211 Training accuracy: 0.99\n",
            "Testing accuracy: 92.76\n",
            "-------------------------------------------------\n",
            "Round 7\n",
            "-------------------------------------------------\n",
            "Number of training points - 22000\n",
            "Training..\n",
            "Epoch: 212 Training accuracy: 0.99\n",
            "Testing accuracy: 93.28\n",
            "-------------------------------------------------\n",
            "Round 8\n",
            "-------------------------------------------------\n",
            "Number of training points - 25000\n",
            "Training..\n",
            "Epoch: 218 Training accuracy: 0.99\n",
            "Testing accuracy: 93.22\n",
            "Training Completed\n"
          ],
          "name": "stdout"
        }
      ]
    },
    {
      "cell_type": "markdown",
      "metadata": {
        "id": "BAGqAV0GrwwN"
      },
      "source": [
        "# **BADGE**\n",
        "This method is based on the paper [Deep Batch Active Learning by Diverse, Uncertain Gradient Lower Bounds](https://arxiv.org/abs/1906.03671). Here at each around of selection loss gradients are computed using the hypothesised lables. Then to points to be labled are selected by applying k-means++ on these loss gradients. \n",
        "\n",
        "Here we create a instance of distil.active_learning_strategies.badge.BADGE with same parameters passed to distil.active_learning_strategies.random_sampling.RandomSampling."
      ]
    },
    {
      "cell_type": "markdown",
      "metadata": {
        "id": "7Z2N1gsCGE8U"
      },
      "source": [
        "**Reloading Base Model & Data**"
      ]
    },
    {
      "cell_type": "code",
      "metadata": {
        "colab": {
          "base_uri": "https://localhost:8080/"
        },
        "id": "_WpXZIpIF9M9",
        "outputId": "51bcf0fa-a03b-496a-bf06-be4a18261230"
      },
      "source": [
        "data_set_name = 'CIFAR10'\n",
        "download_path = '../downloaded_data/'\n",
        "X, y, X_test, y_test = get_dataset(data_set_name, download_path)\n",
        "dim = np.shape(X)[1:]\n",
        "handler = DataHandler_CIFAR10\n",
        "\n",
        "X_tr = X[:1000]\n",
        "y_tr = y[:1000]\n",
        "X_unlabeled = X[1000:]\n",
        "y_unlabeled = y[1000:]\n",
        "\n",
        "X_test = X_test\n",
        "y_test = y_test.numpy()\n",
        "\n",
        "nclasses = 10\n",
        "n_rounds = 9    ##Number of rounds to run active learning\n",
        "budget = 3000 \n",
        "\n",
        "net = ResNet18()\n",
        "\n",
        "base_dir = \"/content/drive/MyDrive/distil_experiments/cifar10/\"\n",
        "model_directory = os.path.join(base_dir, 'base_model.pth')\n",
        "net.load_state_dict(torch.load(model_directory))\n",
        "clf = net"
      ],
      "execution_count": null,
      "outputs": [
        {
          "output_type": "stream",
          "text": [
            "Files already downloaded and verified\n",
            "Files already downloaded and verified\n"
          ],
          "name": "stdout"
        }
      ]
    },
    {
      "cell_type": "code",
      "metadata": {
        "colab": {
          "base_uri": "https://localhost:8080/"
        },
        "id": "yE1XYS29g0rD",
        "outputId": "193b4f3e-939b-4394-ede8-d16d37f422cc"
      },
      "source": [
        "strategy_args = {'batch_size' : 1000}\n",
        "strategy = BADGE(X_tr, y_tr, X_unlabeled, clf, handler, nclasses, strategy_args)\n",
        "\n",
        "args = {'n_epoch':300, 'lr':float(0.01), 'batch_size':20, 'max_accuracy':0.99, 'optimizer':'sgd'}\n",
        "dt = data_train(X_tr, y_tr, clf, handler, args)\n",
        "\n",
        "strategy.update_model(clf)\n",
        "\n",
        "acc = np.zeros(n_rounds)\n",
        "acc[0] = dt.get_acc_on_set(X_test, y_test)\n",
        "print('Initial Testing accuracy:', round(acc[0]*100, 2), flush=True)\n",
        "\n",
        "##User Controlled Loop\n",
        "for rd in range(1, n_rounds):\n",
        "    print('-------------------------------------------------')\n",
        "    print('Round', rd) \n",
        "    print('-------------------------------------------------')\n",
        "    idx = strategy.select(budget)\n",
        "    strategy.save_state('./state.pkl')\n",
        "\n",
        "    #Adding new points to training set\n",
        "    X_tr = np.concatenate((X_tr, X_unlabeled[idx]), axis=0)\n",
        "    X_unlabeled = np.delete(X_unlabeled, idx, axis = 0)\n",
        "\n",
        "    #Human In Loop, Assuming user adds new labels here\n",
        "    y_tr = np.concatenate((y_tr, y_unlabeled[idx]), axis = 0)\n",
        "    y_unlabeled = np.delete(y_unlabeled, idx, axis = 0)\n",
        "    print('Number of training points -',X_tr.shape[0])\n",
        "\n",
        "    #Reload state and start training\n",
        "    strategy.load_state('./state.pkl')\n",
        "    strategy.update_data(X_tr, y_tr, X_unlabeled)\n",
        "    dt.update_data(X_tr, y_tr)\n",
        "\n",
        "    clf = dt.train()\n",
        "    strategy.update_model(clf)\n",
        "\n",
        "    acc[rd] = dt.get_acc_on_set(X_test, y_test)\n",
        "    print('Testing accuracy:', round(acc[rd]*100, 2), flush=True)\n",
        "    if acc[rd] > 0.98:\n",
        "        print('Testing accuracy reached above 98%, stopping training!')\n",
        "        break\n",
        "        \n",
        "print('Training Completed')\n",
        "with open(os.path.join(base_dir,'badge.txt'), 'w') as f:\n",
        "    for item in acc:\n",
        "        f.write(\"%s\\n\" % item)"
      ],
      "execution_count": null,
      "outputs": [
        {
          "output_type": "stream",
          "text": [
            "Initial Testing accuracy: 56.49\n",
            "-------------------------------------------------\n",
            "Round 1\n",
            "-------------------------------------------------\n",
            "Number of training points - 4000\n",
            "Training..\n",
            "Epoch: 114 Training accuracy: 0.991\n",
            "Testing accuracy: 78.71\n",
            "-------------------------------------------------\n",
            "Round 2\n",
            "-------------------------------------------------\n",
            "Number of training points - 7000\n",
            "Training..\n",
            "Epoch: 157 Training accuracy: 0.991\n",
            "Testing accuracy: 85.15\n",
            "-------------------------------------------------\n",
            "Round 3\n",
            "-------------------------------------------------\n",
            "Number of training points - 10000\n",
            "Training..\n",
            "Epoch: 184 Training accuracy: 0.993\n",
            "Testing accuracy: 88.43\n",
            "-------------------------------------------------\n",
            "Round 4\n",
            "-------------------------------------------------\n",
            "Number of training points - 13000\n",
            "Training..\n",
            "Epoch: 190 Training accuracy: 0.99\n",
            "Testing accuracy: 90.51\n",
            "-------------------------------------------------\n",
            "Round 5\n",
            "-------------------------------------------------\n",
            "Number of training points - 16000\n",
            "Training..\n",
            "Epoch: 204 Training accuracy: 0.991\n",
            "Testing accuracy: 91.45\n",
            "-------------------------------------------------\n",
            "Round 6\n",
            "-------------------------------------------------\n",
            "Number of training points - 19000\n",
            "Training..\n",
            "Epoch: 203 Training accuracy: 0.991\n",
            "Testing accuracy: 92.44\n",
            "-------------------------------------------------\n",
            "Round 7\n",
            "-------------------------------------------------\n",
            "Number of training points - 22000\n",
            "Training..\n",
            "Epoch: 213 Training accuracy: 0.991\n",
            "Testing accuracy: 92.53\n",
            "-------------------------------------------------\n",
            "Round 8\n",
            "-------------------------------------------------\n",
            "Number of training points - 25000\n",
            "Training..\n",
            "Epoch: 216 Training accuracy: 0.99\n",
            "Testing accuracy: 93.1\n",
            "Training Completed\n"
          ],
          "name": "stdout"
        }
      ]
    },
    {
      "cell_type": "markdown",
      "metadata": {
        "id": "DuIa_yJdiDOh"
      },
      "source": [
        "# **GLISTER**\n",
        "This is implemetation of GLISTER-ACTIVE from the paper [GLISTER: Generalization based Data Subset Selection for Efficient and Robust Learning](https://arxiv.org/abs/2012.10630). GLISTER methods tries to solve a bi-level optimisation problem.\n",
        "\\begin{equation*}\n",
        "\\overbrace{\\underset{{S \\subseteq {\\mathcal U}, |S| \\leq k}}{\\operatorname{argmax\\hspace{0.7mm}}} LL_V(\\underbrace{\\underset{\\theta}{\\operatorname{argmax\\hspace{0.7mm}}} LL_T( \\theta, S)}_{inner-level}, {\\mathcal V})}^{outer-level}\n",
        "\\end{equation*}\n",
        "where is $S$ is set of points selected at each round,${\\mathcal V}$ could be a dedicated validation set with labled points or could be union of labeled and unlabeled points with hypothesised labels, $k$ is the budget.\n",
        "To set ${\\mathcal V}$ to be validation set, while calling **GLISTER** class in the toolkit set _valid=TRUE_ and pass validation set otherwise set _valid=False_.\n",
        "\n",
        "Solving this problem directly is almost impossible, therefore we resort to one-step approxiations.We start we $S^0$ as empty set and bulid it as $S^k = S^{k-1} \\cup e$, where $e$ is $\\underset{e}{\\operatorname{argmax\\hspace{0.7mm}}} G_{\\theta}(e | S^k)$. We define,$$G_{\\theta}(e | S^k) = LL_{V}(\\theta^{k}, {\\mathcal V})$$ and update $$\\theta^k \\leftarrow \\theta^{k-1} -  \\eta \\nabla_{\\theta} LL_T(\\hat{\\theta}, e)$$ where $\\hat{\\theta}$ is the parameters of the model at the begining of the selection.\n",
        "To prevent overfitting, we can add regularizer to GLISTER, which can be set by **_typeOf_**. **_typeOf_** can be set to - **'none'**(which is default) for normal GLISTER,**'Rand'** for replacing **_lam_** fraction of points replaced by random points, **'Diversity'** adding diversity set function while computing gain and **'FacLoc'** adding Facility Location set function while computing gain. **_lam_** for both **'Diversity'** and **'FacLoc'** determines the weightage given to them while computing the gain.\n",
        "\n",
        "Here we create a instance of distil.active_learning_strategies.glister.GLISTER( with same parameters passed to distil.active_learning_strategies.random_sampling.RandomSampling, we slight change that, **args** dictionary should have keys ‘batch_size’ and ‘lr’. ‘lr’ should be the learning rate used for training. In addition to those folowing additional parameters may be passed:\n",
        "\n",
        "**valid (boolean)** – Whether validation set is passed or not\n",
        "\n",
        "**X_val (Numpy array, optional)** – Features of the points in the validation set. Mandatory if valid=True.\n",
        "\n",
        "**Y_val (Numpy array, optional)** – Lables of the points in the validation set. Mandatory if valid=True.\n",
        "\n",
        "**loss_criterion (class object, optional)** – The type of loss criterion. Default is torch.nn.CrossEntropyLoss()\n",
        "\n",
        "**typeOf (str, optional)** – Determines the type of regulariser to be used. Default is ‘none’. For random regulariser use ‘Rand’. To use Facility Location set functiom as a regulariser use ‘FacLoc’. To use Diversity set functiom as a regulariser use ‘Diversity’.\n",
        "\n",
        "**lam (float, optional)** – Determines the amount of regularisation to be applied. Mandatory if is not typeOf=’none’ and by default set to None. For random regulariser use values should be between 0 and 1 as it determines fraction of points replaced by random points. For both ‘Diversity’ and ‘FacLoc’ lam determines the weightage given to them while computing the gain.\n",
        "\n",
        "**kernel_batch_size (int, optional)** – For 'Diversity' and 'FacLoc' regualrizer versions, similarity kernel is to be computed, which entails creating a 3d torch tensor of dimenssions $kernel\\_batch\\_size^{2}*(feature\\ dimenssion)$. Again kernel_batch_size should be such that one can exploit the benefits of tensorization while honouring the resourse constraits."
      ]
    },
    {
      "cell_type": "markdown",
      "metadata": {
        "id": "6Hfo3xvHGJog"
      },
      "source": [
        "**Reloading Base Model & Data**"
      ]
    },
    {
      "cell_type": "code",
      "metadata": {
        "colab": {
          "base_uri": "https://localhost:8080/"
        },
        "id": "XhVkIG7YF_Rd",
        "outputId": "80b4d31e-99da-4b5e-cfdd-689e130e730d"
      },
      "source": [
        "data_set_name = 'CIFAR10'\n",
        "download_path = '../downloaded_data/'\n",
        "X, y, X_test, y_test = get_dataset(data_set_name, download_path)\n",
        "dim = np.shape(X)[1:]\n",
        "handler = DataHandler_CIFAR10\n",
        "\n",
        "X_tr = X[:1000]\n",
        "y_tr = y[:1000]\n",
        "X_unlabeled = X[1000:]\n",
        "y_unlabeled = y[1000:]\n",
        "\n",
        "X_test = X_test\n",
        "y_test = y_test.numpy()\n",
        "\n",
        "nclasses = 10\n",
        "n_rounds = 9    ##Number of rounds to run active learning\n",
        "budget = 3000 \n",
        "\n",
        "net = ResNet18()\n",
        "\n",
        "base_dir = \"/content/drive/MyDrive/distil_experiments/cifar10/\"\n",
        "model_directory = os.path.join(base_dir, 'base_model.pth')\n",
        "net.load_state_dict(torch.load(model_directory))\n",
        "clf = net"
      ],
      "execution_count": null,
      "outputs": [
        {
          "output_type": "stream",
          "text": [
            "Files already downloaded and verified\n",
            "Files already downloaded and verified\n"
          ],
          "name": "stdout"
        }
      ]
    },
    {
      "cell_type": "code",
      "metadata": {
        "colab": {
          "base_uri": "https://localhost:8080/"
        },
        "id": "4TS2ZbQcV7KM",
        "outputId": "5a1e2a58-37bf-43cc-e78f-38d39535abc8"
      },
      "source": [
        "import warnings\n",
        "warnings.filterwarnings(\"ignore\")\n",
        "strategy_args = {'batch_size' : 20, 'lr':float(0.01)}\n",
        "strategy = GLISTER(X_tr, y_tr, X_unlabeled, clf, handler, nclasses, strategy_args,valid=False, typeOf='rand', lam=0.1)\n",
        "\n",
        "args = {'n_epoch':300, 'lr':float(0.01), 'batch_size':20, 'max_accuracy':0.99, 'optimizer':'sgd'}\n",
        "dt = data_train(X_tr, y_tr, clf, handler, args)\n",
        "\n",
        "strategy.update_model(clf)\n",
        "\n",
        "acc = np.zeros(n_rounds)\n",
        "acc[0] = dt.get_acc_on_set(X_test, y_test)\n",
        "print('Initial Testing accuracy:', round(acc[0]*100, 2), flush=True)\n",
        "\n",
        "##User Controlled Loop\n",
        "for rd in range(1, n_rounds):\n",
        "    print('-------------------------------------------------')\n",
        "    print('Round', rd) \n",
        "    print('-------------------------------------------------')\n",
        "    idx = strategy.select(budget)\n",
        "    strategy.save_state('./state.pkl')\n",
        "\n",
        "    #Adding new points to training set\n",
        "    X_tr = np.concatenate((X_tr, X_unlabeled[idx]), axis=0)\n",
        "    X_unlabeled = np.delete(X_unlabeled, idx, axis = 0)\n",
        "\n",
        "    #Human In Loop, Assuming user adds new labels here\n",
        "    y_tr = np.concatenate((y_tr, y_unlabeled[idx]), axis = 0)\n",
        "    y_unlabeled = np.delete(y_unlabeled, idx, axis = 0)\n",
        "    print('Number of training points -',X_tr.shape[0])\n",
        "\n",
        "    #Reload state and start training\n",
        "    strategy.load_state('./state.pkl')\n",
        "    strategy.update_data(X_tr, y_tr, X_unlabeled)\n",
        "    dt.update_data(X_tr, y_tr)\n",
        "\n",
        "    clf = dt.train()\n",
        "    strategy.update_model(clf)\n",
        "\n",
        "    acc[rd] = dt.get_acc_on_set(X_test, y_test)\n",
        "    print('Testing accuracy:', round(acc[rd]*100, 2), flush=True)\n",
        "    if acc[rd] > 0.98:\n",
        "        print('Testing accuracy reached above 98%, stopping training!')\n",
        "        break\n",
        "        \n",
        "print('Training Completed')\n",
        "with open(os.path.join(base_dir,'glister.txt'), 'w') as f:\n",
        "    for item in acc:\n",
        "        f.write(\"%s\\n\" % item)"
      ],
      "execution_count": null,
      "outputs": [
        {
          "output_type": "stream",
          "text": [
            "Initial Testing accuracy: 56.49\n",
            "-------------------------------------------------\n",
            "Round 1\n",
            "-------------------------------------------------\n",
            "Number of training points - 4000\n",
            "Training..\n",
            "Epoch: 106 Training accuracy: 0.991\n",
            "Testing accuracy: 78.96\n",
            "-------------------------------------------------\n",
            "Round 2\n",
            "-------------------------------------------------\n",
            "Number of training points - 7000\n",
            "Training..\n",
            "Epoch: 153 Training accuracy: 0.99\n",
            "Testing accuracy: 83.24\n",
            "-------------------------------------------------\n",
            "Round 3\n",
            "-------------------------------------------------\n",
            "Number of training points - 10000\n",
            "Training..\n",
            "Epoch: 176 Training accuracy: 0.991\n",
            "Testing accuracy: 88.07\n",
            "-------------------------------------------------\n",
            "Round 4\n",
            "-------------------------------------------------\n",
            "Number of training points - 13000\n",
            "Training..\n",
            "Epoch: 190 Training accuracy: 0.991\n",
            "Testing accuracy: 89.54\n",
            "-------------------------------------------------\n",
            "Round 5\n",
            "-------------------------------------------------\n",
            "Number of training points - 16000\n",
            "Training..\n",
            "Epoch: 198 Training accuracy: 0.99\n",
            "Testing accuracy: 91.04\n",
            "-------------------------------------------------\n",
            "Round 6\n",
            "-------------------------------------------------\n",
            "Number of training points - 19000\n",
            "Training..\n",
            "Epoch: 205 Training accuracy: 0.99\n",
            "Testing accuracy: 91.5\n",
            "-------------------------------------------------\n",
            "Round 7\n",
            "-------------------------------------------------\n",
            "Number of training points - 22000\n",
            "Training..\n",
            "Epoch: 212 Training accuracy: 0.991\n",
            "Testing accuracy: 92.65\n",
            "-------------------------------------------------\n",
            "Round 8\n",
            "-------------------------------------------------\n",
            "Number of training points - 25000\n",
            "Training..\n",
            "Epoch: 214 Training accuracy: 0.992\n",
            "Testing accuracy: 92.61\n",
            "Training Completed\n"
          ],
          "name": "stdout"
        }
      ]
    },
    {
      "cell_type": "markdown",
      "metadata": {
        "id": "jNZjPPO7java"
      },
      "source": [
        "**VISUALISATION**"
      ]
    },
    {
      "cell_type": "code",
      "metadata": {
        "colab": {
          "base_uri": "https://localhost:8080/",
          "height": 312
        },
        "id": "6vn65GnhZosp",
        "outputId": "054c4b8f-f70f-40de-943d-1e5b2f96e480"
      },
      "source": [
        "#Loading accuracies\n",
        "with open(os.path.join(base_dir,'entropy.txt'), 'r') as f:\n",
        "  acc_ = f.readlines()\n",
        "acc_en = [round(float(x)*100, 2) for x in acc_]\n",
        "with open(os.path.join(base_dir,'badge.txt'), 'r') as f:\n",
        "  acc_ = f.readlines()\n",
        "acc_bd = [round(float(x)*100, 2) for x in acc_]\n",
        "with open(os.path.join(base_dir,'glister.txt'), 'r') as f:\n",
        "  acc_ = f.readlines()\n",
        "acc_gl = [round(float(x)*100, 2) for x in acc_]\n",
        "with open(os.path.join(base_dir,'random.txt'), 'r') as f:\n",
        "  acc_ = f.readlines()\n",
        "acc_rd = [round(float(x)*100, 2) for x in acc_]\n",
        "\n",
        "#Plotting\n",
        "import matplotlib.pyplot as plt\n",
        "budget = 3000 \n",
        "n_rounds = 9\n",
        "x_axis = np.array([1000+budget*i for i in range(n_rounds)])\n",
        "plt.figure()\n",
        "plt.plot(x_axis, acc_gl, 'b-', label='GLISTER RAND',marker='o')\n",
        "plt.plot(x_axis, acc_en, 'g-', label='UNCERTAINITY',marker='o')\n",
        "plt.plot(x_axis, acc_bd, 'c', label='BADGE',marker='o')\n",
        "plt.plot(x_axis, acc_rd, 'r', label='RANDOM',marker='o')\n",
        "\n",
        "\n",
        "plt.legend()\n",
        "plt.xlabel('No of Images')\n",
        "plt.ylabel('Test Accuracy')\n",
        "plt.title('DISTIL_CIFAR10')"
      ],
      "execution_count": null,
      "outputs": [
        {
          "output_type": "execute_result",
          "data": {
            "text/plain": [
              "Text(0.5, 1.0, 'DISTIL_CIFAR10')"
            ]
          },
          "metadata": {
            "tags": []
          },
          "execution_count": 9
        },
        {
          "output_type": "display_data",
          "data": {
            "image/png": "[encoded data removed]",
            "text/plain": [
              "<Figure size 432x288 with 1 Axes>"
            ]
          },
          "metadata": {
            "tags": [],
            "needs_background": "light"
          }
        }
      ]
    }
  ]
}