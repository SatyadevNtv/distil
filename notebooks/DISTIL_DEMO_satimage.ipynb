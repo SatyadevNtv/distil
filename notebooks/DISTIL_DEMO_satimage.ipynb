{
  "nbformat": 4,
  "nbformat_minor": 0,
  "metadata": {
    "colab": {
      "name": "DISTIL_DEMO_satimage.ipynb",
      "provenance": [],
      "collapsed_sections": []
    },
    "kernelspec": {
      "name": "python3",
      "display_name": "Python 3"
    },
    "accelerator": "GPU"
  },
  "cells": [
    {
      "cell_type": "markdown",
      "metadata": {
        "id": "grxlgJoCwsWp"
      },
      "source": [
        "# **Instaling Prerequisites**"
      ]
    },
    {
      "cell_type": "code",
      "metadata": {
        "colab": {
          "base_uri": "https://localhost:8080/"
        },
        "id": "xfupEX13xGD5",
        "outputId": "ae69fa36-2b96-413d-c8cb-b79098ed9f94"
      },
      "source": [
        "#pip install --extra-index-url https://test.pypi.org/simple/ decile-distil\n",
        "#!rm -rf distil\n",
        "!git clone https://github.com/decile-team/distil.git\n",
        "!git clone https://github.com/decile-team/datasets.git\n",
        "!pip install apricot-select"
      ],
      "execution_count": null,
      "outputs": [
        {
          "output_type": "stream",
          "text": [
            "fatal: destination path 'distil' already exists and is not an empty directory.\n",
            "Requirement already satisfied: apricot-select in /usr/local/lib/python3.7/dist-packages (0.6.1)\n",
            "Requirement already satisfied: numpy>=1.14.2 in /usr/local/lib/python3.7/dist-packages (from apricot-select) (1.19.5)\n",
            "Requirement already satisfied: tqdm>=4.24.0 in /usr/local/lib/python3.7/dist-packages (from apricot-select) (4.41.1)\n",
            "Requirement already satisfied: scipy>=1.0.0 in /usr/local/lib/python3.7/dist-packages (from apricot-select) (1.4.1)\n",
            "Requirement already satisfied: numba>=0.43.0 in /usr/local/lib/python3.7/dist-packages (from apricot-select) (0.51.2)\n",
            "Requirement already satisfied: nose in /usr/local/lib/python3.7/dist-packages (from apricot-select) (1.3.7)\n",
            "Requirement already satisfied: llvmlite<0.35,>=0.34.0.dev0 in /usr/local/lib/python3.7/dist-packages (from numba>=0.43.0->apricot-select) (0.34.0)\n",
            "Requirement already satisfied: setuptools in /usr/local/lib/python3.7/dist-packages (from numba>=0.43.0->apricot-select) (54.0.0)\n"
          ],
          "name": "stdout"
        }
      ]
    },
    {
      "cell_type": "code",
      "metadata": {
        "colab": {
          "base_uri": "https://localhost:8080/"
        },
        "id": "z3YtEwTJxGD6",
        "outputId": "5357b9ef-5f54-4dd0-fa67-ca451b852c46"
      },
      "source": [
        "from tensorflow.python.client import device_lib\n",
        "device_lib.list_local_devices()"
      ],
      "execution_count": null,
      "outputs": [
        {
          "output_type": "execute_result",
          "data": {
            "text/plain": [
              "[name: \"/device:CPU:0\"\n",
              " device_type: \"CPU\"\n",
              " memory_limit: 268435456\n",
              " locality {\n",
              " }\n",
              " incarnation: 18129857121524384003, name: \"/device:GPU:0\"\n",
              " device_type: \"GPU\"\n",
              " memory_limit: 15703311680\n",
              " locality {\n",
              "   bus_id: 1\n",
              "   links {\n",
              "   }\n",
              " }\n",
              " incarnation: 11591535193946987010\n",
              " physical_device_desc: \"device: 0, name: Tesla P100-PCIE-16GB, pci bus id: 0000:00:04.0, compute capability: 6.0\"]"
            ]
          },
          "metadata": {
            "tags": []
          },
          "execution_count": 2
        }
      ]
    },
    {
      "cell_type": "code",
      "metadata": {
        "id": "QuLv4USxxGD6",
        "colab": {
          "base_uri": "https://localhost:8080/"
        },
        "outputId": "7bfad608-16d8-4b7c-9006-175b87a8fcaf"
      },
      "source": [
        "import numpy as np\n",
        "from torch.utils.data import Dataset\n",
        "from torch.utils.data import DataLoader\n",
        "import torch.nn.functional as F\n",
        "from torch import nn\n",
        "from torchvision import transforms\n",
        "import torch\n",
        "import torch.optim as optim\n",
        "from torch.autograd import Variable\n",
        "import sys\n",
        "from sklearn.preprocessing import StandardScaler\n",
        "from sklearn.model_selection import train_test_split\n",
        "from copy import deepcopy\n",
        "\n",
        "from distil.distil.utils.DataHandler import DataHandler_Points\n",
        "from distil.distil.active_learning_strategies import GLISTER,BADGE,EntropySampling,RandomSampling\n",
        "from distil.distil.active_learning_strategies import SubmodSampling\n",
        "from distil.distil.utils.models.simpleNN_net import TwoLayerNet\n",
        "from matplotlib import pyplot as plt"
      ],
      "execution_count": null,
      "outputs": [
        {
          "output_type": "stream",
          "text": [
            "/usr/local/lib/python3.7/dist-packages/numba/np/ufunc/parallel.py:363: NumbaWarning: The TBB threading layer requires TBB version 2019.5 or later i.e., TBB_INTERFACE_VERSION >= 11005. Found TBB_INTERFACE_VERSION = 9107. The TBB threading layer is disabled.\n",
            "  warnings.warn(problem)\n"
          ],
          "name": "stderr"
        }
      ]
    },
    {
      "cell_type": "markdown",
      "metadata": {
        "id": "99MZGxVOxGD7"
      },
      "source": [
        "### **Loading data**\n",
        "Satimage is dataset with 6 class, 4,435 samples and 36 features. The following code snippet can be used to read datasets in the svmlight/libsvm format into numpy arrays."
      ]
    },
    {
      "cell_type": "code",
      "metadata": {
        "id": "s_AENUurxGD7"
      },
      "source": [
        "def libsvm_file_load(path,dim, save_data=False):\n",
        "    data = []\n",
        "    target = []\n",
        "    with open(path) as fp:\n",
        "       line = fp.readline()\n",
        "       while line:\n",
        "        temp = [i for i in line.strip().split(\" \")]\n",
        "        target.append(int(float(temp[0]))) # Class Number. # Not assumed to be in (0, K-1)\n",
        "        temp_data = [0]*dim\n",
        "        \n",
        "        for i in temp[1:]:\n",
        "            ind,val = i.split(':')\n",
        "            temp_data[int(ind)-1] = float(val)\n",
        "        data.append(temp_data)\n",
        "        line = fp.readline()\n",
        "    X_data = np.array(data,dtype=np.float32)\n",
        "    Y_label = np.array(target)\n",
        "    if save_data:\n",
        "        # Save the numpy files to the folder where they come from\n",
        "        data_np_path = path + '.data.npy'\n",
        "        target_np_path = path + '.label.npy'\n",
        "        np.save(data_np_path, X_data)\n",
        "        np.save(target_np_path, Y_label)\n",
        "    return (X_data, Y_label)\n",
        "\n",
        "    \n",
        "trn_file = 'datasets/satimage/satimage.scale.trn'\n",
        "val_file = 'datasets/satimage/satimage.scale.val'\n",
        "tst_file = 'datasets/satimage/satimage.scale.tst'\n",
        "data_dims = 36\n",
        "num_cls = 6\n",
        "\n",
        "x_trn, y_trn = libsvm_file_load(trn_file, dim=data_dims)\n",
        "x_val, y_val = libsvm_file_load(val_file, dim=data_dims)\n",
        "x_tst, y_tst = libsvm_file_load(tst_file, dim=data_dims)\n",
        "\n",
        "y_trn -= 1  # First Class should be zero\n",
        "y_val -= 1\n",
        "y_tst -= 1  # First Class should be zero\n",
        "\n",
        "sc = StandardScaler()\n",
        "x_trn = sc.fit_transform(x_trn)\n",
        "x_val = sc.transform(x_val)\n",
        "x_tst = sc.transform(x_tst)\n"
      ],
      "execution_count": null,
      "outputs": []
    },
    {
      "cell_type": "markdown",
      "metadata": {
        "id": "D6WzkbujxGD7"
      },
      "source": [
        "# **Class for training**\n",
        "\n",
        "Although in this tutorial we mimic real world active learning setting with datasets which has all the labels, usually in a active learning settings it may take quite some time to label new set points. Therefore it is a good idea to create training class which can store current model state which can be restored later."
      ]
    },
    {
      "cell_type": "code",
      "metadata": {
        "id": "xz-i8PxgxGD8"
      },
      "source": [
        "def init_weights(m):\n",
        "    torch.manual_seed(42)\n",
        "    if type(m) == nn.Linear:\n",
        "        torch.nn.init.xavier_uniform_(m.weight)\n",
        "        m.bias.data.fill_(0.01)\n",
        "\n",
        "class data_train:\n",
        "\n",
        "    def __init__(self, X, Y, net, handler, args):\n",
        "\n",
        "        self.X = X\n",
        "        self.Y = Y\n",
        "        self.net = net\n",
        "        self.handler = handler\n",
        "        self.args = args\n",
        "        self.use_cuda = torch.cuda.is_available()\n",
        "\n",
        "    def update_index(self, idxs_lb):\n",
        "        self.idxs_lb = idxs_lb\n",
        "\n",
        "    def update_data(self, X, Y):\n",
        "      \n",
        "      self.X = X\n",
        "      self.Y = Y\n",
        "      self.n_pool = len(Y)\n",
        "\n",
        "    def _train(self, epoch, loader_tr, optimizer):\n",
        "        self.clf.train()\n",
        "        accFinal = 0.\n",
        "\n",
        "        for batch_id, (x, y, idxs) in enumerate(loader_tr):\n",
        "            if self.use_cuda:\n",
        "                x, y = Variable(x.cuda()), Variable(y.cuda())\n",
        "            else:\n",
        "                x, y = Variable(x), Variable(y)\n",
        "            optimizer.zero_grad()\n",
        "            out = self.clf(x)\n",
        "            loss = F.cross_entropy(out, y)\n",
        "            accFinal += torch.sum((torch.max(out,1)[1] == y).float()).data.item()\n",
        "            loss.backward()\n",
        "\n",
        "            # clamp gradients, just in case\n",
        "            # for p in filter(lambda p: p.grad is not None, self.clf.parameters()): p.grad.data.clamp_(min=-.1, max=.1)\n",
        "\n",
        "            optimizer.step()\n",
        "        return accFinal / len(loader_tr.dataset.X)\n",
        "\n",
        "    \n",
        "    def train(self):\n",
        "\n",
        "        #print('Training..')\n",
        "        def weight_reset(m):\n",
        "            if isinstance(m, nn.Conv2d) or isinstance(m, nn.Linear):\n",
        "                m.reset_parameters()\n",
        "\n",
        "        n_epoch = self.args['n_epoch']\n",
        "        if self.use_cuda:\n",
        "            self.clf =  self.net.apply(weight_reset).cuda()\n",
        "        else:\n",
        "            self.clf =  self.net.apply(weight_reset)\n",
        "\n",
        "        optimizer = optim.Adam(self.clf.parameters(), lr = self.args['lr'], weight_decay=0)\n",
        "        loader_tr = DataLoader(self.handler(self.X, self.Y, False),shuffle=True, batch_size = args['batch_size'])\n",
        "        epoch = 1\n",
        "        accCurrent = 0\n",
        "        while accCurrent < 0.95 and epoch < n_epoch: \n",
        "            accCurrent = self._train(epoch, loader_tr, optimizer)\n",
        "            epoch += 1\n",
        "            # print(str(epoch) + ' training accuracy: ' + str(accCurrent), flush=True)\n",
        "            \n",
        "            if (epoch % 50 == 0) and (accCurrent < 0.2): # resetif not converging\n",
        "                self.clf = self.net.apply(weight_reset)\n",
        "                optimizer = optim.Adam(self.clf.parameters(), lr = self.args['lr'], weight_decay=0)\n",
        "\n",
        "        print('Training accuracy:',round(accCurrent, 3)*100, flush=True) #'Epoch:', str(epoch),\n",
        "        return self.clf"
      ],
      "execution_count": null,
      "outputs": []
    },
    {
      "cell_type": "markdown",
      "metadata": {
        "id": "oYkqCifdxGD8"
      },
      "source": [
        "# **Trainig loop for active learning**"
      ]
    },
    {
      "cell_type": "code",
      "metadata": {
        "id": "AFSUWxuHxGD8"
      },
      "source": [
        "def training_round(strategy,dt,X_tr,Y_tr,X_unlabeled,Y_unlabeled,x_tst,y_tst,first=False):\n",
        "\n",
        "    flag = False\n",
        "    if first:\n",
        "\n",
        "      nSamps, dim = np.shape(X_unlabeled)\n",
        "\n",
        "      np.random.seed(42)\n",
        "      start_idxs = np.random.choice(nSamps, size=int(0.01*nSamps), replace=False)\n",
        "\n",
        "      X_tr = X_unlabeled[start_idxs]\n",
        "      X_unlabeled = np.delete(X_unlabeled, start_idxs, axis = 0)\n",
        "\n",
        "      Y_tr = Y_unlabeled[start_idxs]\n",
        "      Y_unlabeled = np.delete(Y_unlabeled, start_idxs, axis = 0)\n",
        "\n",
        "      print('Starting set of points -', len(start_idxs))\n",
        "\n",
        "    else:    \n",
        "\n",
        "      #Human In Loop, Assuming user adds new labels here\n",
        "      idx = strategy.select(budget)\n",
        "      \n",
        "      #Adding new points to training set\n",
        "      X_tr = np.concatenate((X_tr, X_unlabeled[idx]), axis=0)\n",
        "      X_unlabeled = np.delete(X_unlabeled, idx, axis = 0)\n",
        "\n",
        "      Y_tr = np.concatenate((Y_tr, Y_unlabeled[idx]), axis = 0)\n",
        "      Y_unlabeled = np.delete(Y_unlabeled, idx, axis = 0)\n",
        "\n",
        "      print('Number of training points -',X_tr.shape[0])\n",
        "    \n",
        "    strategy.update_data(X_tr, Y_tr, X_unlabeled)\n",
        "    dt.update_data(X_tr, Y_tr)\n",
        "\n",
        "    clf = dt.train()\n",
        "    strategy.update_model(clf)\n",
        "    y_pred = strategy.predict(x_tst).numpy()\n",
        "    acc = round(1.0 * (y_tst == y_pred).sum().item() / len(y_tst), 3)\n",
        "    #print('Testing accuracy:', acc, flush=True)\n",
        "    if acc > 0.98:\n",
        "        flag = True\n",
        "        print('Testing accuracy reached above 98%')\n",
        "\n",
        "    return X_tr,Y_tr,X_unlabeled,Y_unlabeled,acc, flag"
      ],
      "execution_count": null,
      "outputs": []
    },
    {
      "cell_type": "code",
      "metadata": {
        "colab": {
          "base_uri": "https://localhost:8080/"
        },
        "id": "eRuF_nsEmXPs",
        "outputId": "5d8bcce6-04b7-474f-8278-96e4866539b7"
      },
      "source": [
        "net = TwoLayerNet(data_dims, num_cls,40)\n",
        "net.apply(init_weights)\n",
        "\n",
        "#strategy_args = {'batch_size' : 1000, 'lr':float(0.001)} \n",
        "strategy = SubmodSampling(None, None, None, net, DataHandler_Points, num_cls,'graph_cut',\\\n",
        "                          'Supervised',if_grad=True) #Supervised 'Disparity-min'\n",
        "\n",
        "#strategy = SubmodSampling(None, None, None, net, DataHandler_Points, num_cls,'Disparity-min',\\\n",
        "#                         'Supervised',if_grad=True)\n",
        "\n",
        "args = {'n_epoch':200, 'lr':float(0.001),'batch_size':100}  #Different args than strategy_args\n",
        "n_rounds = 10    ##Number of rounds to run ac\n",
        "budget = int(0.01*x_trn.shape[0])    ##Number of new data points after every iteration\n",
        "\n",
        "#Training Class initialization\n",
        "dt = data_train(None, None, net, DataHandler_Points, args)\n",
        "\n",
        "dis_min_acc = np.zeros(n_rounds+1)\n",
        "X_unlabeled = deepcopy(x_trn)\n",
        "Y_unlabeled = deepcopy(y_trn)\n",
        "X_tr = None\n",
        "Y_tr = None\n",
        "\n",
        "X_tr,Y_tr,X_unlabeled,Y_unlabeled,dis_min_acc[0],_ = training_round(strategy,dt,X_tr,Y_tr,X_unlabeled,Y_unlabeled,x_tst,y_tst,first=True)\n",
        "print('Initial Testing accuracy:', round(dis_min_acc[0], 3)*100, flush=True)\n",
        "\n",
        "for i in range(n_rounds):\n",
        "   print('-------------------------------------------------')\n",
        "   print('Round', i+1) \n",
        "   print('-------------------------------------------------')\n",
        "   \n",
        "   X_tr,Y_tr,X_unlabeled,Y_unlabeled,dis_min_acc[i+1],flag = training_round(strategy,dt,X_tr,Y_tr,X_unlabeled,Y_unlabeled,x_tst,y_tst)\n",
        "   print('Testing accuracy at',i+1,'round :', round(dis_min_acc[i+1], 3)*100, flush=True)  \n",
        "   \n",
        "   if flag:\n",
        "     break"
      ],
      "execution_count": null,
      "outputs": [
        {
          "output_type": "stream",
          "text": [
            "Starting set of points - 31\n",
            "Training accuracy: 96.8\n",
            "Initial Testing accuracy: 77.2\n",
            "-------------------------------------------------\n",
            "Round 1\n",
            "-------------------------------------------------\n"
          ],
          "name": "stdout"
        },
        {
          "output_type": "stream",
          "text": [
            "/content/distil/distil/utils/Similarity_mat.py:116: VisibleDeprecationWarning: Creating an ndarray from ragged nested sequences (which is a list-or-tuple of lists-or-tuples-or ndarrays with different lengths or shapes) is deprecated. If you meant to do this, you must specify 'dtype=object' when creating the ndarray\n",
            "  [list(BatchSampler(SequentialSampler(np.arange(len(y_temp))), self.batch_size, drop_last=False))][0])\n"
          ],
          "name": "stderr"
        },
        {
          "output_type": "stream",
          "text": [
            "Number of training points - 62\n",
            "Training accuracy: 93.5\n",
            "Testing accuracy at 1 round : 80.2\n",
            "-------------------------------------------------\n",
            "Round 2\n",
            "-------------------------------------------------\n"
          ],
          "name": "stdout"
        },
        {
          "output_type": "stream",
          "text": [
            "/content/distil/distil/utils/Similarity_mat.py:116: VisibleDeprecationWarning: Creating an ndarray from ragged nested sequences (which is a list-or-tuple of lists-or-tuples-or ndarrays with different lengths or shapes) is deprecated. If you meant to do this, you must specify 'dtype=object' when creating the ndarray\n",
            "  [list(BatchSampler(SequentialSampler(np.arange(len(y_temp))), self.batch_size, drop_last=False))][0])\n"
          ],
          "name": "stderr"
        },
        {
          "output_type": "stream",
          "text": [
            "Number of training points - 93\n",
            "Training accuracy: 94.6\n",
            "Testing accuracy at 2 round : 79.2\n",
            "-------------------------------------------------\n",
            "Round 3\n",
            "-------------------------------------------------\n"
          ],
          "name": "stdout"
        },
        {
          "output_type": "stream",
          "text": [
            "/content/distil/distil/utils/Similarity_mat.py:116: VisibleDeprecationWarning: Creating an ndarray from ragged nested sequences (which is a list-or-tuple of lists-or-tuples-or ndarrays with different lengths or shapes) is deprecated. If you meant to do this, you must specify 'dtype=object' when creating the ndarray\n",
            "  [list(BatchSampler(SequentialSampler(np.arange(len(y_temp))), self.batch_size, drop_last=False))][0])\n"
          ],
          "name": "stderr"
        },
        {
          "output_type": "stream",
          "text": [
            "Number of training points - 124\n",
            "Training accuracy: 95.19999999999999\n",
            "Testing accuracy at 3 round : 77.7\n",
            "-------------------------------------------------\n",
            "Round 4\n",
            "-------------------------------------------------\n"
          ],
          "name": "stdout"
        },
        {
          "output_type": "stream",
          "text": [
            "/content/distil/distil/utils/Similarity_mat.py:116: VisibleDeprecationWarning: Creating an ndarray from ragged nested sequences (which is a list-or-tuple of lists-or-tuples-or ndarrays with different lengths or shapes) is deprecated. If you meant to do this, you must specify 'dtype=object' when creating the ndarray\n",
            "  [list(BatchSampler(SequentialSampler(np.arange(len(y_temp))), self.batch_size, drop_last=False))][0])\n"
          ],
          "name": "stderr"
        },
        {
          "output_type": "stream",
          "text": [
            "Number of training points - 155\n",
            "Training accuracy: 95.5\n",
            "Testing accuracy at 4 round : 77.9\n",
            "-------------------------------------------------\n",
            "Round 5\n",
            "-------------------------------------------------\n"
          ],
          "name": "stdout"
        },
        {
          "output_type": "stream",
          "text": [
            "/content/distil/distil/utils/Similarity_mat.py:116: VisibleDeprecationWarning: Creating an ndarray from ragged nested sequences (which is a list-or-tuple of lists-or-tuples-or ndarrays with different lengths or shapes) is deprecated. If you meant to do this, you must specify 'dtype=object' when creating the ndarray\n",
            "  [list(BatchSampler(SequentialSampler(np.arange(len(y_temp))), self.batch_size, drop_last=False))][0])\n"
          ],
          "name": "stderr"
        },
        {
          "output_type": "stream",
          "text": [
            "Number of training points - 186\n",
            "Training accuracy: 95.19999999999999\n",
            "Testing accuracy at 5 round : 77.8\n",
            "-------------------------------------------------\n",
            "Round 6\n",
            "-------------------------------------------------\n"
          ],
          "name": "stdout"
        },
        {
          "output_type": "stream",
          "text": [
            "/content/distil/distil/utils/Similarity_mat.py:116: VisibleDeprecationWarning: Creating an ndarray from ragged nested sequences (which is a list-or-tuple of lists-or-tuples-or ndarrays with different lengths or shapes) is deprecated. If you meant to do this, you must specify 'dtype=object' when creating the ndarray\n",
            "  [list(BatchSampler(SequentialSampler(np.arange(len(y_temp))), self.batch_size, drop_last=False))][0])\n"
          ],
          "name": "stderr"
        },
        {
          "output_type": "stream",
          "text": [
            "Number of training points - 217\n",
            "Training accuracy: 95.39999999999999\n",
            "Testing accuracy at 6 round : 74.0\n",
            "-------------------------------------------------\n",
            "Round 7\n",
            "-------------------------------------------------\n"
          ],
          "name": "stdout"
        },
        {
          "output_type": "stream",
          "text": [
            "/content/distil/distil/utils/Similarity_mat.py:116: VisibleDeprecationWarning: Creating an ndarray from ragged nested sequences (which is a list-or-tuple of lists-or-tuples-or ndarrays with different lengths or shapes) is deprecated. If you meant to do this, you must specify 'dtype=object' when creating the ndarray\n",
            "  [list(BatchSampler(SequentialSampler(np.arange(len(y_temp))), self.batch_size, drop_last=False))][0])\n"
          ],
          "name": "stderr"
        },
        {
          "output_type": "stream",
          "text": [
            "Number of training points - 248\n",
            "Training accuracy: 95.19999999999999\n",
            "Testing accuracy at 7 round : 77.0\n",
            "-------------------------------------------------\n",
            "Round 8\n",
            "-------------------------------------------------\n"
          ],
          "name": "stdout"
        },
        {
          "output_type": "stream",
          "text": [
            "/content/distil/distil/utils/Similarity_mat.py:116: VisibleDeprecationWarning: Creating an ndarray from ragged nested sequences (which is a list-or-tuple of lists-or-tuples-or ndarrays with different lengths or shapes) is deprecated. If you meant to do this, you must specify 'dtype=object' when creating the ndarray\n",
            "  [list(BatchSampler(SequentialSampler(np.arange(len(y_temp))), self.batch_size, drop_last=False))][0])\n"
          ],
          "name": "stderr"
        },
        {
          "output_type": "stream",
          "text": [
            "Number of training points - 279\n",
            "Training accuracy: 95.3\n",
            "Testing accuracy at 8 round : 76.8\n",
            "-------------------------------------------------\n",
            "Round 9\n",
            "-------------------------------------------------\n"
          ],
          "name": "stdout"
        },
        {
          "output_type": "stream",
          "text": [
            "/content/distil/distil/utils/Similarity_mat.py:116: VisibleDeprecationWarning: Creating an ndarray from ragged nested sequences (which is a list-or-tuple of lists-or-tuples-or ndarrays with different lengths or shapes) is deprecated. If you meant to do this, you must specify 'dtype=object' when creating the ndarray\n",
            "  [list(BatchSampler(SequentialSampler(np.arange(len(y_temp))), self.batch_size, drop_last=False))][0])\n"
          ],
          "name": "stderr"
        },
        {
          "output_type": "stream",
          "text": [
            "Number of training points - 310\n",
            "Training accuracy: 95.5\n",
            "Testing accuracy at 9 round : 74.8\n",
            "-------------------------------------------------\n",
            "Round 10\n",
            "-------------------------------------------------\n"
          ],
          "name": "stdout"
        },
        {
          "output_type": "stream",
          "text": [
            "/content/distil/distil/utils/Similarity_mat.py:116: VisibleDeprecationWarning: Creating an ndarray from ragged nested sequences (which is a list-or-tuple of lists-or-tuples-or ndarrays with different lengths or shapes) is deprecated. If you meant to do this, you must specify 'dtype=object' when creating the ndarray\n",
            "  [list(BatchSampler(SequentialSampler(np.arange(len(y_temp))), self.batch_size, drop_last=False))][0])\n"
          ],
          "name": "stderr"
        },
        {
          "output_type": "stream",
          "text": [
            "Number of training points - 341\n",
            "Training accuracy: 95.0\n",
            "Testing accuracy at 10 round : 76.5\n"
          ],
          "name": "stdout"
        }
      ]
    },
    {
      "cell_type": "markdown",
      "metadata": {
        "id": "WKku6WwAxGD-"
      },
      "source": [
        "# **Random**\n",
        "This strategy is often used as a baseline, where we pick a set of unlabled points randomly. Here we create a instance of distil.active_learning_strategies.random_sampling.RandomSampling by passig following parameters:\n",
        "\n",
        "**X (Numpy array)** – Features of the labled set of points\n",
        "\n",
        "**Y (Numpy array)** – Lables of the labled set of points\n",
        "\n",
        "**unlabeled_x (Numpy array)** – Features of the unlabled set of points\n",
        "\n",
        "**net (class object)** – Model architecture used for training. Could be instance of models defined in distil.utils.models or something similar.\n",
        "\n",
        "**handler (class object)** – It should be a subclass of torch.utils.data.Dataset i.e, have __getitem__ and __len__ methods implemented, so that is could be passed to pytorch DataLoader.Could be instance of handlers defined in distil.utils.DataHandler or something similar.\n",
        "\n",
        "**nclasses (int)** – No. of classes in tha dataset\n",
        "\n",
        "**args (dictionary)**– This dictionary should have ‘batch_size’ as a key. 'batch_size' should be such that one can exploit the benefits of tensorization while honouring the resourse constraits. This ‘batch_size’ therefore can be different than the one used for training.\n",
        "\n",
        "We initally pass None for X,Y and unlabeled_x. Later we update using update functions of training class and RandomSampling class. "
      ]
    },
    {
      "cell_type": "code",
      "metadata": {
        "colab": {
          "base_uri": "https://localhost:8080/"
        },
        "id": "G50qMRvLxGD-",
        "outputId": "9a00adc5-ebd0-4a45-e6c6-1c128272e29b"
      },
      "source": [
        "net = TwoLayerNet(data_dims, num_cls,40)\n",
        "net.apply(init_weights)\n",
        "\n",
        "strategy_args = {'batch_size' : 1000, 'lr':float(0.001)} \n",
        "strategy = RandomSampling(None, None, None, net, DataHandler_Points, num_cls, strategy_args)\n",
        "\n",
        "args = {'n_epoch':200, 'lr':float(0.001),'batch_size':100}  #Different args than strategy_args\n",
        "n_rounds = 10    ##Number of rounds to run ac\n",
        "budget = int(0.01*x_trn.shape[0])    ##Number of new data points after every iteration\n",
        "\n",
        "#Training Class initialization\n",
        "dt = data_train(None, None, net, DataHandler_Points, args)\n",
        "\n",
        "rand_acc = np.zeros(n_rounds+1)\n",
        "X_unlabeled = deepcopy(x_trn)\n",
        "Y_unlabeled = deepcopy(y_trn)\n",
        "X_tr = None\n",
        "Y_tr = None\n",
        "\n",
        "X_tr,Y_tr,X_unlabeled,Y_unlabeled,rand_acc[0],_ = training_round(strategy,dt,X_tr,Y_tr,X_unlabeled,Y_unlabeled,x_tst,y_tst,first=True)\n",
        "print('Initial Testing accuracy:', round(rand_acc[0], 3)*100, flush=True)\n",
        "\n",
        "for i in range(n_rounds):\n",
        "   print('-------------------------------------------------')\n",
        "   print('Round', i+1) \n",
        "   print('-------------------------------------------------')\n",
        "   \n",
        "   X_tr,Y_tr,X_unlabeled,Y_unlabeled,rand_acc[i+1],flag = training_round(strategy,dt,X_tr,Y_tr,X_unlabeled,Y_unlabeled,x_tst,y_tst)\n",
        "   print('Testing accuracy at',i+1,'round :', round(rand_acc[i+1], 3)*100, flush=True)  \n",
        "   \n",
        "   if flag:\n",
        "     break\n"
      ],
      "execution_count": null,
      "outputs": [
        {
          "output_type": "stream",
          "text": [
            "Starting set of points - 31\n",
            "Training accuracy: 96.8\n",
            "Initial Testing accuracy: 77.2\n",
            "-------------------------------------------------\n",
            "Round 1\n",
            "-------------------------------------------------\n",
            "Number of training points - 62\n",
            "Training accuracy: 93.5\n",
            "Testing accuracy at 1 round : 82.8\n",
            "-------------------------------------------------\n",
            "Round 2\n",
            "-------------------------------------------------\n",
            "Number of training points - 93\n",
            "Training accuracy: 93.5\n",
            "Testing accuracy at 2 round : 82.1\n",
            "-------------------------------------------------\n",
            "Round 3\n",
            "-------------------------------------------------\n",
            "Number of training points - 124\n",
            "Training accuracy: 95.19999999999999\n",
            "Testing accuracy at 3 round : 82.6\n",
            "-------------------------------------------------\n",
            "Round 4\n",
            "-------------------------------------------------\n",
            "Number of training points - 155\n",
            "Training accuracy: 95.5\n",
            "Testing accuracy at 4 round : 83.89999999999999\n",
            "-------------------------------------------------\n",
            "Round 5\n",
            "-------------------------------------------------\n",
            "Number of training points - 186\n",
            "Training accuracy: 94.6\n",
            "Testing accuracy at 5 round : 84.39999999999999\n",
            "-------------------------------------------------\n",
            "Round 6\n",
            "-------------------------------------------------\n",
            "Number of training points - 217\n",
            "Training accuracy: 92.2\n",
            "Testing accuracy at 6 round : 84.5\n",
            "-------------------------------------------------\n",
            "Round 7\n",
            "-------------------------------------------------\n",
            "Number of training points - 248\n",
            "Training accuracy: 92.7\n",
            "Testing accuracy at 7 round : 84.7\n",
            "-------------------------------------------------\n",
            "Round 8\n",
            "-------------------------------------------------\n",
            "Number of training points - 279\n",
            "Training accuracy: 92.80000000000001\n",
            "Testing accuracy at 8 round : 83.7\n",
            "-------------------------------------------------\n",
            "Round 9\n",
            "-------------------------------------------------\n",
            "Number of training points - 310\n",
            "Training accuracy: 92.60000000000001\n",
            "Testing accuracy at 9 round : 83.0\n",
            "-------------------------------------------------\n",
            "Round 10\n",
            "-------------------------------------------------\n",
            "Number of training points - 341\n",
            "Training accuracy: 91.8\n",
            "Testing accuracy at 10 round : 83.89999999999999\n"
          ],
          "name": "stdout"
        }
      ]
    },
    {
      "cell_type": "code",
      "metadata": {
        "colab": {
          "base_uri": "https://localhost:8080/"
        },
        "id": "sdaLMDiUiCwx",
        "outputId": "f6eb0d61-9bed-42dd-e35d-728f4e1c6873"
      },
      "source": [
        "net = TwoLayerNet(data_dims, num_cls,40)\n",
        "net.apply(init_weights)\n",
        "\n",
        "#strategy_args = {'batch_size' : 1000, 'lr':float(0.001)} \n",
        "strategy = SubmodSampling(None, None, None, net, DataHandler_Points, num_cls,'facility_location',\\\n",
        "                          'Full',if_grad=True)\n",
        "\n",
        "args = {'n_epoch':200, 'lr':float(0.001),'batch_size':100}  #Different args than strategy_args\n",
        "n_rounds = 10    ##Number of rounds to run ac\n",
        "budget = int(0.01*x_trn.shape[0])    ##Number of new data points after every iteration\n",
        "\n",
        "#Training Class initialization\n",
        "dt = data_train(None, None, net, DataHandler_Points, args)\n",
        "\n",
        "FL_acc = np.zeros(n_rounds+1)\n",
        "X_unlabeled = deepcopy(x_trn)\n",
        "Y_unlabeled = deepcopy(y_trn)\n",
        "X_tr = None\n",
        "Y_tr = None\n",
        "\n",
        "X_tr,Y_tr,X_unlabeled,Y_unlabeled,FL_acc[0],_ = training_round(strategy,dt,X_tr,Y_tr,X_unlabeled,Y_unlabeled,x_tst,y_tst,first=True)\n",
        "print('Initial Testing accuracy:', round(FL_acc[0], 3)*100, flush=True)\n",
        "\n",
        "for i in range(n_rounds):\n",
        "   print('-------------------------------------------------')\n",
        "   print('Round', i+1) \n",
        "   print('-------------------------------------------------')\n",
        "   \n",
        "   X_tr,Y_tr,X_unlabeled,Y_unlabeled,FL_acc[i+1],flag = training_round(strategy,dt,X_tr,Y_tr,X_unlabeled,Y_unlabeled,x_tst,y_tst)\n",
        "   print('Testing accuracy at',i+1,'round :', round(FL_acc[i+1], 3)*100, flush=True)  \n",
        "   \n",
        "   if flag:\n",
        "     break"
      ],
      "execution_count": null,
      "outputs": [
        {
          "output_type": "stream",
          "text": [
            "Starting set of points - 31\n",
            "Training accuracy: 96.8\n",
            "Initial Testing accuracy: 77.2\n",
            "-------------------------------------------------\n",
            "Round 1\n",
            "-------------------------------------------------\n"
          ],
          "name": "stdout"
        },
        {
          "output_type": "stream",
          "text": [
            "/content/distil/distil/utils/Similarity_mat.py:116: VisibleDeprecationWarning: Creating an ndarray from ragged nested sequences (which is a list-or-tuple of lists-or-tuples-or ndarrays with different lengths or shapes) is deprecated. If you meant to do this, you must specify 'dtype=object' when creating the ndarray\n",
            "  [list(BatchSampler(SequentialSampler(np.arange(len(y_temp))), self.batch_size, drop_last=False))][0])\n"
          ],
          "name": "stderr"
        },
        {
          "output_type": "stream",
          "text": [
            "Number of training points - 62\n",
            "Training accuracy: 95.19999999999999\n",
            "Testing accuracy at 1 round : 82.39999999999999\n",
            "-------------------------------------------------\n",
            "Round 2\n",
            "-------------------------------------------------\n"
          ],
          "name": "stdout"
        },
        {
          "output_type": "stream",
          "text": [
            "/content/distil/distil/utils/Similarity_mat.py:116: VisibleDeprecationWarning: Creating an ndarray from ragged nested sequences (which is a list-or-tuple of lists-or-tuples-or ndarrays with different lengths or shapes) is deprecated. If you meant to do this, you must specify 'dtype=object' when creating the ndarray\n",
            "  [list(BatchSampler(SequentialSampler(np.arange(len(y_temp))), self.batch_size, drop_last=False))][0])\n"
          ],
          "name": "stderr"
        },
        {
          "output_type": "stream",
          "text": [
            "Number of training points - 93\n",
            "Training accuracy: 93.5\n",
            "Testing accuracy at 2 round : 82.6\n",
            "-------------------------------------------------\n",
            "Round 3\n",
            "-------------------------------------------------\n"
          ],
          "name": "stdout"
        },
        {
          "output_type": "stream",
          "text": [
            "/content/distil/distil/utils/Similarity_mat.py:116: VisibleDeprecationWarning: Creating an ndarray from ragged nested sequences (which is a list-or-tuple of lists-or-tuples-or ndarrays with different lengths or shapes) is deprecated. If you meant to do this, you must specify 'dtype=object' when creating the ndarray\n",
            "  [list(BatchSampler(SequentialSampler(np.arange(len(y_temp))), self.batch_size, drop_last=False))][0])\n"
          ],
          "name": "stderr"
        },
        {
          "output_type": "stream",
          "text": [
            "Number of training points - 124\n",
            "Training accuracy: 89.5\n",
            "Testing accuracy at 3 round : 82.3\n",
            "-------------------------------------------------\n",
            "Round 4\n",
            "-------------------------------------------------\n"
          ],
          "name": "stdout"
        },
        {
          "output_type": "stream",
          "text": [
            "/content/distil/distil/utils/Similarity_mat.py:116: VisibleDeprecationWarning: Creating an ndarray from ragged nested sequences (which is a list-or-tuple of lists-or-tuples-or ndarrays with different lengths or shapes) is deprecated. If you meant to do this, you must specify 'dtype=object' when creating the ndarray\n",
            "  [list(BatchSampler(SequentialSampler(np.arange(len(y_temp))), self.batch_size, drop_last=False))][0])\n"
          ],
          "name": "stderr"
        },
        {
          "output_type": "stream",
          "text": [
            "Number of training points - 155\n",
            "Training accuracy: 91.60000000000001\n",
            "Testing accuracy at 4 round : 83.0\n",
            "-------------------------------------------------\n",
            "Round 5\n",
            "-------------------------------------------------\n"
          ],
          "name": "stdout"
        },
        {
          "output_type": "stream",
          "text": [
            "/content/distil/distil/utils/Similarity_mat.py:116: VisibleDeprecationWarning: Creating an ndarray from ragged nested sequences (which is a list-or-tuple of lists-or-tuples-or ndarrays with different lengths or shapes) is deprecated. If you meant to do this, you must specify 'dtype=object' when creating the ndarray\n",
            "  [list(BatchSampler(SequentialSampler(np.arange(len(y_temp))), self.batch_size, drop_last=False))][0])\n"
          ],
          "name": "stderr"
        },
        {
          "output_type": "stream",
          "text": [
            "Number of training points - 186\n",
            "Training accuracy: 89.8\n",
            "Testing accuracy at 5 round : 82.8\n",
            "-------------------------------------------------\n",
            "Round 6\n",
            "-------------------------------------------------\n"
          ],
          "name": "stdout"
        },
        {
          "output_type": "stream",
          "text": [
            "/content/distil/distil/utils/Similarity_mat.py:116: VisibleDeprecationWarning: Creating an ndarray from ragged nested sequences (which is a list-or-tuple of lists-or-tuples-or ndarrays with different lengths or shapes) is deprecated. If you meant to do this, you must specify 'dtype=object' when creating the ndarray\n",
            "  [list(BatchSampler(SequentialSampler(np.arange(len(y_temp))), self.batch_size, drop_last=False))][0])\n"
          ],
          "name": "stderr"
        },
        {
          "output_type": "stream",
          "text": [
            "Number of training points - 217\n",
            "Training accuracy: 89.9\n",
            "Testing accuracy at 6 round : 83.2\n",
            "-------------------------------------------------\n",
            "Round 7\n",
            "-------------------------------------------------\n"
          ],
          "name": "stdout"
        },
        {
          "output_type": "stream",
          "text": [
            "/content/distil/distil/utils/Similarity_mat.py:116: VisibleDeprecationWarning: Creating an ndarray from ragged nested sequences (which is a list-or-tuple of lists-or-tuples-or ndarrays with different lengths or shapes) is deprecated. If you meant to do this, you must specify 'dtype=object' when creating the ndarray\n",
            "  [list(BatchSampler(SequentialSampler(np.arange(len(y_temp))), self.batch_size, drop_last=False))][0])\n"
          ],
          "name": "stderr"
        },
        {
          "output_type": "stream",
          "text": [
            "Number of training points - 248\n",
            "Training accuracy: 90.7\n",
            "Testing accuracy at 7 round : 83.89999999999999\n",
            "-------------------------------------------------\n",
            "Round 8\n",
            "-------------------------------------------------\n"
          ],
          "name": "stdout"
        },
        {
          "output_type": "stream",
          "text": [
            "/content/distil/distil/utils/Similarity_mat.py:116: VisibleDeprecationWarning: Creating an ndarray from ragged nested sequences (which is a list-or-tuple of lists-or-tuples-or ndarrays with different lengths or shapes) is deprecated. If you meant to do this, you must specify 'dtype=object' when creating the ndarray\n",
            "  [list(BatchSampler(SequentialSampler(np.arange(len(y_temp))), self.batch_size, drop_last=False))][0])\n"
          ],
          "name": "stderr"
        },
        {
          "output_type": "stream",
          "text": [
            "Number of training points - 279\n",
            "Training accuracy: 88.5\n",
            "Testing accuracy at 8 round : 83.8\n",
            "-------------------------------------------------\n",
            "Round 9\n",
            "-------------------------------------------------\n"
          ],
          "name": "stdout"
        },
        {
          "output_type": "stream",
          "text": [
            "/content/distil/distil/utils/Similarity_mat.py:116: VisibleDeprecationWarning: Creating an ndarray from ragged nested sequences (which is a list-or-tuple of lists-or-tuples-or ndarrays with different lengths or shapes) is deprecated. If you meant to do this, you must specify 'dtype=object' when creating the ndarray\n",
            "  [list(BatchSampler(SequentialSampler(np.arange(len(y_temp))), self.batch_size, drop_last=False))][0])\n"
          ],
          "name": "stderr"
        },
        {
          "output_type": "stream",
          "text": [
            "Number of training points - 310\n",
            "Training accuracy: 87.4\n",
            "Testing accuracy at 9 round : 84.8\n",
            "-------------------------------------------------\n",
            "Round 10\n",
            "-------------------------------------------------\n"
          ],
          "name": "stdout"
        },
        {
          "output_type": "stream",
          "text": [
            "/content/distil/distil/utils/Similarity_mat.py:116: VisibleDeprecationWarning: Creating an ndarray from ragged nested sequences (which is a list-or-tuple of lists-or-tuples-or ndarrays with different lengths or shapes) is deprecated. If you meant to do this, you must specify 'dtype=object' when creating the ndarray\n",
            "  [list(BatchSampler(SequentialSampler(np.arange(len(y_temp))), self.batch_size, drop_last=False))][0])\n"
          ],
          "name": "stderr"
        },
        {
          "output_type": "stream",
          "text": [
            "Number of training points - 341\n",
            "Training accuracy: 88.6\n",
            "Testing accuracy at 10 round : 85.1\n"
          ],
          "name": "stdout"
        }
      ]
    },
    {
      "cell_type": "markdown",
      "metadata": {
        "id": "BXvkBg4UxGD9"
      },
      "source": [
        "# **Uncertanity based Active learning Strategy**\n",
        "\n",
        "The most basic active learning strategy, where we select samples about which the model is most uncertain. To quantify the uncertainity we use entropy, therefore select points which have maximum entropy. Let $z_i$ be output from the model then the correponding softmax would be $$\\sigma(z_i) = \\frac{e^{z_i}}{\\sum_j e^{z_j}}$$. Then entropy can be calculated as, $$ENTROPY = -\\sum_j \\sigma(z_j)*log(\\sigma(z_i))$$\n",
        "\n",
        "Here we create a instance of distil.active_learning_strategies.entropy_sampling.EntropySampling with same parameters passed to distil.active_learning_strategies.random_sampling.RandomSampling."
      ]
    },
    {
      "cell_type": "code",
      "metadata": {
        "colab": {
          "base_uri": "https://localhost:8080/"
        },
        "id": "XB6icq20xGD9",
        "outputId": "44428bb9-278b-4960-e97b-a31b557ab5de"
      },
      "source": [
        "net = TwoLayerNet(data_dims, num_cls,40)\n",
        "net.apply(init_weights)\n",
        "\n",
        "strategy_args = {'batch_size' : 1000, 'lr':float(0.001)} \n",
        "strategy = EntropySampling(None, None, None, net, DataHandler_Points, num_cls, strategy_args)\n",
        "\n",
        "args = {'n_epoch':200, 'lr':float(0.001),'batch_size':100}  #Different args than strategy_args\n",
        "n_rounds = 10    ##Number of rounds to run ac\n",
        "budget = int(0.01*x_trn.shape[0])    ##Number of new data points after every iteration\n",
        "\n",
        "#Training Class initialization\n",
        "dt = data_train(None, None, net, DataHandler_Points, args)\n",
        "\n",
        "un_acc = np.zeros(n_rounds+1)\n",
        "X_unlabeled = deepcopy(x_trn)\n",
        "Y_unlabeled = deepcopy(y_trn)\n",
        "X_tr = None\n",
        "Y_tr = None\n",
        "\n",
        "X_tr,Y_tr,X_unlabeled,Y_unlabeled,un_acc[0],_ = training_round(strategy,dt,X_tr,Y_tr,X_unlabeled,Y_unlabeled,x_tst,y_tst,first=True)\n",
        "print('Initial Testing accuracy:', round(un_acc[0], 3)*100, flush=True)\n",
        "\n",
        "for i in range(n_rounds):\n",
        "   print('-------------------------------------------------')\n",
        "   print('Round', i+1) \n",
        "   print('-------------------------------------------------')\n",
        "   \n",
        "   X_tr,Y_tr,X_unlabeled,Y_unlabeled,un_acc[i+1],flag = training_round(strategy,dt,X_tr,Y_tr,X_unlabeled,Y_unlabeled,x_tst,y_tst)\n",
        "   print('Testing accuracy at',i+1,'round :', round(un_acc[i+1], 3)*100, flush=True)  \n",
        "   \n",
        "   if flag:\n",
        "     break\n"
      ],
      "execution_count": null,
      "outputs": [
        {
          "output_type": "stream",
          "text": [
            "Starting set of points - 31\n",
            "Training accuracy: 96.8\n",
            "Initial Testing accuracy: 77.2\n",
            "-------------------------------------------------\n",
            "Round 1\n",
            "-------------------------------------------------\n",
            "Number of training points - 62\n",
            "Training accuracy: 95.19999999999999\n",
            "Testing accuracy at 1 round : 79.5\n",
            "-------------------------------------------------\n",
            "Round 2\n",
            "-------------------------------------------------\n",
            "Number of training points - 93\n",
            "Training accuracy: 95.7\n",
            "Testing accuracy at 2 round : 79.80000000000001\n",
            "-------------------------------------------------\n",
            "Round 3\n",
            "-------------------------------------------------\n",
            "Number of training points - 124\n",
            "Training accuracy: 95.19999999999999\n",
            "Testing accuracy at 3 round : 83.8\n",
            "-------------------------------------------------\n",
            "Round 4\n",
            "-------------------------------------------------\n",
            "Number of training points - 155\n",
            "Training accuracy: 95.5\n",
            "Testing accuracy at 4 round : 77.7\n",
            "-------------------------------------------------\n",
            "Round 5\n",
            "-------------------------------------------------\n",
            "Number of training points - 186\n",
            "Training accuracy: 94.1\n",
            "Testing accuracy at 5 round : 77.9\n",
            "-------------------------------------------------\n",
            "Round 6\n",
            "-------------------------------------------------\n",
            "Number of training points - 217\n",
            "Training accuracy: 87.6\n",
            "Testing accuracy at 6 round : 82.19999999999999\n",
            "-------------------------------------------------\n",
            "Round 7\n",
            "-------------------------------------------------\n",
            "Number of training points - 248\n",
            "Training accuracy: 88.3\n",
            "Testing accuracy at 7 round : 79.9\n",
            "-------------------------------------------------\n",
            "Round 8\n",
            "-------------------------------------------------\n",
            "Number of training points - 279\n",
            "Training accuracy: 88.2\n",
            "Testing accuracy at 8 round : 82.5\n",
            "-------------------------------------------------\n",
            "Round 9\n",
            "-------------------------------------------------\n",
            "Number of training points - 310\n",
            "Training accuracy: 85.8\n",
            "Testing accuracy at 9 round : 79.60000000000001\n",
            "-------------------------------------------------\n",
            "Round 10\n",
            "-------------------------------------------------\n",
            "Number of training points - 341\n",
            "Training accuracy: 88.3\n",
            "Testing accuracy at 10 round : 80.10000000000001\n"
          ],
          "name": "stdout"
        }
      ]
    },
    {
      "cell_type": "markdown",
      "metadata": {
        "id": "7s6lmMmoxGD-"
      },
      "source": [
        "# **GLISTER**\n",
        "This is implemetation of GLISTER-ACTIVE from the paper [GLISTER: Generalization based Data Subset Selection for Efficient and Robust Learning](https://arxiv.org/abs/2012.10630). GLISTER methods tries to solve a bi-level optimisation problem.\n",
        "\\begin{equation*}\n",
        "\\overbrace{\\underset{{S \\subseteq {\\mathcal U}, |S| \\leq k}}{\\operatorname{argmax\\hspace{0.7mm}}} LL_V(\\underbrace{\\underset{\\theta}{\\operatorname{argmax\\hspace{0.7mm}}} LL_T( \\theta, S)}_{inner-level}, {\\mathcal V})}^{outer-level}\n",
        "\\end{equation*}\n",
        "where is $S$ is set of points selected at each round,${\\mathcal V}$ could be a dedicated validation set with labled points or could be union of labeled and unlabeled points with hypothesised labels, $k$ is the budget.\n",
        "To set ${\\mathcal V}$ to be validation set, while calling **GLISTER** class in the toolkit set _valid=TRUE_ and pass validation set otherwise set _valid=False_.\n",
        "\n",
        "Solving this problem directly is almost impossible, therefore we resort to one-step approxiations.We start we $S^0$ as empty set and bulid it as $S^k = S^{k-1} \\cup e$, where $e$ is $\\underset{e}{\\operatorname{argmax\\hspace{0.7mm}}} G_{\\theta}(e | S^k)$. We define,$$G_{\\theta}(e | S^k) = LL_{V}(\\theta^{k}, {\\mathcal V})$$ and update $$\\theta^k \\leftarrow \\theta^{k-1} -  \\eta \\nabla_{\\theta} LL_T(\\hat{\\theta}, e)$$ where $\\hat{\\theta}$ is the parameters of the model at the begining of the selection.\n",
        "To prevent overfitting, we can add regularizer to GLISTER, which can be set by **_typeOf_**. **_typeOf_** can be set to - **'none'**(which is default) for normal GLISTER,**'Rand'** for replacing **_lam_** fraction of points replaced by random points, **'Diversity'** adding diversity set function while computing gain and **'FacLoc'** adding Facility Location set function while computing gain. **_lam_** for both **'Diversity'** and **'FacLoc'** determines the weightage given to them while computing the gain.\n",
        "\n",
        "Here we create a instance of distil.active_learning_strategies.glister.GLISTER( with same parameters passed to distil.active_learning_strategies.random_sampling.RandomSampling, we slight change that, **args** dictionary should have keys ‘batch_size’ and ‘lr’. ‘lr’ should be the learning rate used for training. In addition to those folowing additional parameters may be passed:\n",
        "\n",
        "**valid (boolean)** – Whether validation set is passed or not\n",
        "\n",
        "**X_val (Numpy array, optional)** – Features of the points in the validation set. Mandatory if valid=True.\n",
        "\n",
        "**Y_val (Numpy array, optional)** – Lables of the points in the validation set. Mandatory if valid=True.\n",
        "\n",
        "**loss_criterion (class object, optional)** – The type of loss criterion. Default is torch.nn.CrossEntropyLoss()\n",
        "\n",
        "**typeOf (str, optional)** – Determines the type of regulariser to be used. Default is ‘none’. For random regulariser use ‘Rand’. To use Facility Location set functiom as a regulariser use ‘FacLoc’. To use Diversity set functiom as a regulariser use ‘Diversity’.\n",
        "\n",
        "**lam (float, optional)** – Determines the amount of regularisation to be applied. Mandatory if is not typeOf=’none’ and by default set to None. For random regulariser use values should be between 0 and 1 as it determines fraction of points replaced by random points. For both ‘Diversity’ and ‘FacLoc’ lam determines the weightage given to them while computing the gain.\n",
        "\n",
        "**kernel_batch_size (int, optional)** – For 'Diversity' and 'FacLoc' regualrizer versions, similarity kernel is to be computed, which entails creating a 3d torch tensor of dimenssions $kernel\\_batch\\_size^{2}*(feature\\ dimenssion)$. Again kernel_batch_size should be such that one can exploit the benefits of tensorization while honouring the resourse constraits."
      ]
    },
    {
      "cell_type": "code",
      "metadata": {
        "colab": {
          "base_uri": "https://localhost:8080/"
        },
        "id": "Q2rky4zZxGD_",
        "outputId": "69e6e77b-e3ec-414d-d364-5458de83dba1"
      },
      "source": [
        "net = TwoLayerNet(data_dims, num_cls,40)\n",
        "net.apply(init_weights)\n",
        "\n",
        "strategy_args = {'batch_size' : 12000, 'lr':float(0.001)} \n",
        "strategy = GLISTER(None, None, None, net, DataHandler_Points, num_cls, strategy_args,True,x_val,y_val,typeOf='Diversity',lam=20)\n",
        "\n",
        "args = {'n_epoch':200, 'lr':float(0.001),'batch_size':100}  #Different args than strategy_args\n",
        "n_rounds = 10    ##Number of rounds to run ac\n",
        "budget = int(0.01*x_trn.shape[0])     ##Number of new data points after every iteration\n",
        "\n",
        "#Training Class initialization\n",
        "dt = data_train(None, None, net, DataHandler_Points, args)\n",
        "\n",
        "glister_acc = np.zeros(n_rounds+1)\n",
        "X_unlabeled = deepcopy(x_trn)\n",
        "Y_unlabeled = deepcopy(y_trn)\n",
        "X_tr = None\n",
        "Y_tr = None\n",
        "\n",
        "X_tr,Y_tr,X_unlabeled,Y_unlabeled,glister_acc[0],_ = training_round(strategy,dt,X_tr,Y_tr,X_unlabeled,Y_unlabeled,x_tst,y_tst,first=True)\n",
        "print('Initial Testing accuracy:', round(glister_acc[0], 3)*100, flush=True)\n",
        "\n",
        "for i in range(n_rounds):\n",
        "  \n",
        "  print('-------------------------------------------------')\n",
        "  print('Round', i+1) \n",
        "  print('-------------------------------------------------')\n",
        "\n",
        "  X_tr,Y_tr,X_unlabeled,Y_unlabeled,glister_acc[i+1],flag = training_round(strategy,dt,X_tr,Y_tr,X_unlabeled,Y_unlabeled,x_tst,y_tst)\n",
        "  print('Testing accuracy at',i+1,'round :', round(glister_acc[i+1], 3)*100, flush=True)  \n",
        "  if flag:\n",
        "    break\n"
      ],
      "execution_count": null,
      "outputs": [
        {
          "output_type": "stream",
          "text": [
            "Starting set of points - 31\n",
            "Training accuracy: 96.8\n",
            "Initial Testing accuracy: 77.2\n",
            "-------------------------------------------------\n",
            "Round 1\n",
            "-------------------------------------------------\n",
            "Number of training points - 62\n",
            "Training accuracy: 95.19999999999999\n",
            "Testing accuracy at 1 round : 82.1\n",
            "-------------------------------------------------\n",
            "Round 2\n",
            "-------------------------------------------------\n",
            "Number of training points - 93\n",
            "Training accuracy: 94.6\n",
            "Testing accuracy at 2 round : 82.6\n",
            "-------------------------------------------------\n",
            "Round 3\n",
            "-------------------------------------------------\n",
            "Number of training points - 124\n",
            "Training accuracy: 95.19999999999999\n",
            "Testing accuracy at 3 round : 83.5\n",
            "-------------------------------------------------\n",
            "Round 4\n",
            "-------------------------------------------------\n",
            "Number of training points - 155\n",
            "Training accuracy: 93.5\n",
            "Testing accuracy at 4 round : 83.8\n",
            "-------------------------------------------------\n",
            "Round 5\n",
            "-------------------------------------------------\n",
            "Number of training points - 186\n",
            "Training accuracy: 94.1\n",
            "Testing accuracy at 5 round : 84.5\n",
            "-------------------------------------------------\n",
            "Round 6\n",
            "-------------------------------------------------\n",
            "Number of training points - 217\n",
            "Training accuracy: 91.2\n",
            "Testing accuracy at 6 round : 85.6\n",
            "-------------------------------------------------\n",
            "Round 7\n",
            "-------------------------------------------------\n",
            "Number of training points - 248\n",
            "Training accuracy: 92.7\n",
            "Testing accuracy at 7 round : 85.7\n",
            "-------------------------------------------------\n",
            "Round 8\n",
            "-------------------------------------------------\n",
            "Number of training points - 279\n",
            "Training accuracy: 89.60000000000001\n",
            "Testing accuracy at 8 round : 86.0\n",
            "-------------------------------------------------\n",
            "Round 9\n",
            "-------------------------------------------------\n",
            "Number of training points - 310\n",
            "Training accuracy: 89.0\n",
            "Testing accuracy at 9 round : 87.1\n",
            "-------------------------------------------------\n",
            "Round 10\n",
            "-------------------------------------------------\n",
            "Number of training points - 341\n",
            "Training accuracy: 91.5\n",
            "Testing accuracy at 10 round : 87.9\n"
          ],
          "name": "stdout"
        }
      ]
    },
    {
      "cell_type": "markdown",
      "metadata": {
        "id": "T1lpQKt9xGEB"
      },
      "source": [
        "# **BADGE**\n",
        "This method is based on the paper [Deep Batch Active Learning by Diverse, Uncertain Gradient Lower Bounds](https://arxiv.org/abs/1906.03671). Here at each around of selection loss gradients are computed using the hypothesised lables. Then to points to be labled are selected by applying k-means++ on these loss gradients. \n",
        "\n",
        "Here we create a instance of distil.active_learning_strategies.badge.BADGE with same parameters passed to distil.active_learning_strategies.random_sampling.RandomSampling."
      ]
    },
    {
      "cell_type": "code",
      "metadata": {
        "colab": {
          "base_uri": "https://localhost:8080/"
        },
        "id": "XNxtnRivxGEB",
        "outputId": "9fdfd0ad-b591-478d-9b09-ff6522a209d1"
      },
      "source": [
        "net = TwoLayerNet(data_dims, num_cls,40)\n",
        "net.apply(init_weights)\n",
        "\n",
        "strategy_args = {'batch_size' : 12000, 'lr':float(0.001)} \n",
        "strategy = BADGE(None, None, None, net, DataHandler_Points, num_cls, strategy_args)\n",
        "\n",
        "args = {'n_epoch':200, 'lr':float(0.001),'batch_size':100}  #Different args than strategy_args\n",
        "n_rounds = 10    ##Number of rounds to run ac\n",
        "budget = int(0.01*x_trn.shape[0])     ##Number of new data points after every iteration\n",
        "\n",
        "#Training Class initialization\n",
        "dt = data_train(None, None, net, DataHandler_Points, args)\n",
        "\n",
        "badge_acc = np.zeros(n_rounds+1)\n",
        "X_unlabeled = deepcopy(x_trn)\n",
        "Y_unlabeled = deepcopy(y_trn)\n",
        "X_tr = None\n",
        "Y_tr = None\n",
        "\n",
        "X_tr,Y_tr,X_unlabeled,Y_unlabeled,badge_acc[0],_ = training_round(strategy,dt,X_tr,Y_tr,X_unlabeled,Y_unlabeled,x_tst,y_tst,first=True)\n",
        "print('Initial Testing accuracy:', round(badge_acc[0], 3)*100, flush=True)\n",
        "\n",
        "for i in range(n_rounds):\n",
        "  print('-------------------------------------------------')\n",
        "  print('Round', i+1) \n",
        "  print('-------------------------------------------------')\n",
        "\n",
        "  X_tr,Y_tr,X_unlabeled,Y_unlabeled,badge_acc[i+1],flag = training_round(strategy,dt,X_tr,Y_tr,X_unlabeled,Y_unlabeled,x_tst,y_tst)\n",
        "  print('Testing accuracy at',i+1,'round :', round(badge_acc[i+1], 3)*100, flush=True)  \n",
        "  if flag:\n",
        "    break\n"
      ],
      "execution_count": null,
      "outputs": [
        {
          "output_type": "stream",
          "text": [
            "Starting set of points - 31\n",
            "Training accuracy: 96.8\n",
            "Initial Testing accuracy: 77.2\n",
            "-------------------------------------------------\n",
            "Round 1\n",
            "-------------------------------------------------\n",
            "Number of training points - 62\n",
            "Training accuracy: 95.19999999999999\n",
            "Testing accuracy at 1 round : 82.8\n",
            "-------------------------------------------------\n",
            "Round 2\n",
            "-------------------------------------------------\n",
            "Number of training points - 93\n",
            "Training accuracy: 95.7\n",
            "Testing accuracy at 2 round : 83.1\n",
            "-------------------------------------------------\n",
            "Round 3\n",
            "-------------------------------------------------\n",
            "Number of training points - 124\n",
            "Training accuracy: 89.5\n",
            "Testing accuracy at 3 round : 82.6\n",
            "-------------------------------------------------\n",
            "Round 4\n",
            "-------------------------------------------------\n",
            "Number of training points - 155\n",
            "Training accuracy: 91.0\n",
            "Testing accuracy at 4 round : 84.89999999999999\n",
            "-------------------------------------------------\n",
            "Round 5\n",
            "-------------------------------------------------\n",
            "Number of training points - 186\n",
            "Training accuracy: 93.0\n",
            "Testing accuracy at 5 round : 84.39999999999999\n",
            "-------------------------------------------------\n",
            "Round 6\n",
            "-------------------------------------------------\n",
            "Number of training points - 217\n",
            "Training accuracy: 88.9\n",
            "Testing accuracy at 6 round : 84.7\n",
            "-------------------------------------------------\n",
            "Round 7\n",
            "-------------------------------------------------\n",
            "Number of training points - 248\n",
            "Training accuracy: 91.10000000000001\n",
            "Testing accuracy at 7 round : 84.8\n",
            "-------------------------------------------------\n",
            "Round 8\n",
            "-------------------------------------------------\n",
            "Number of training points - 279\n",
            "Training accuracy: 90.3\n",
            "Testing accuracy at 8 round : 84.8\n",
            "-------------------------------------------------\n",
            "Round 9\n",
            "-------------------------------------------------\n",
            "Number of training points - 310\n",
            "Training accuracy: 89.4\n",
            "Testing accuracy at 9 round : 84.8\n",
            "-------------------------------------------------\n",
            "Round 10\n",
            "-------------------------------------------------\n",
            "Number of training points - 341\n",
            "Training accuracy: 90.9\n",
            "Testing accuracy at 10 round : 86.2\n"
          ],
          "name": "stdout"
        }
      ]
    },
    {
      "cell_type": "code",
      "metadata": {
        "colab": {
          "base_uri": "https://localhost:8080/",
          "height": 313
        },
        "id": "DDCZ4dv-xGEC",
        "outputId": "e21fd661-51ac-4257-f134-7b92bda34946"
      },
      "source": [
        "x_axis = np.array([budget for i in range(n_rounds+1)])\n",
        "x_axis = x_axis*np.array([i for i in range(1,n_rounds+2)])\n",
        "plt.figure()\n",
        "plt.plot(x_axis, glister_acc*100, 'b-', label='GLISTER-Diversity-with-Val',marker='o')\n",
        "plt.plot(x_axis, un_acc*100, 'g-', label='Uncertanity',marker='o')\n",
        "plt.plot(x_axis, badge_acc*100, 'c', label='BADGE',marker='o')\n",
        "plt.plot(x_axis, rand_acc*100, 'r', label='Random',marker='o')\n",
        "\n",
        "plt.legend()\n",
        "plt.xlabel('No of points')\n",
        "plt.ylabel('Test Accuracy')\n",
        "plt.title('Satimage')"
      ],
      "execution_count": null,
      "outputs": [
        {
          "output_type": "execute_result",
          "data": {
            "text/plain": [
              "Text(0.5, 1.0, 'Satimage')"
            ]
          },
          "metadata": {
            "tags": []
          },
          "execution_count": 20
        },
        {
          "output_type": "display_data",
          "data": {
            "image/png": "[encoded data removed]",
            "text/plain": [
              "<Figure size 432x288 with 1 Axes>"
            ]
          },
          "metadata": {
            "tags": [],
            "needs_background": "light"
          }
        }
      ]
    }
  ]
}