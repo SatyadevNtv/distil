{
  "nbformat": 4,
  "nbformat_minor": 0,
  "metadata": {
    "colab": {
      "name": "ActLearn_SimpleNN_ijcnn1.ipynb",
      "provenance": [],
      "collapsed_sections": []
    },
    "kernelspec": {
      "name": "python3",
      "display_name": "Python 3"
    },
    "accelerator": "GPU"
  },
  "cells": [
    {
      "cell_type": "code",
      "metadata": {
        "colab": {
          "base_uri": "https://localhost:8080/"
        },
        "id": "NUq3Jx0yl_7R",
        "outputId": "5007da8c-411a-4a96-d442-a5d2b64e0559"
      },
      "source": [
        "!pip install apricot-select"
      ],
      "execution_count": 3,
      "outputs": [
        {
          "output_type": "stream",
          "text": [
            "Collecting apricot-select\n",
            "\u001b[?25l  Downloading https://files.pythonhosted.org/packages/76/c4/07c964d8f48204a74e98032b3dbfa82f37cafc638fe99a962b6eb9ea0d80/apricot_select-0.6.0-py3-none-any.whl (55kB)\n",
            "\r\u001b[K     |█████▉                          | 10kB 27.4MB/s eta 0:00:01\r\u001b[K     |███████████▊                    | 20kB 32.1MB/s eta 0:00:01\r\u001b[K     |█████████████████▋              | 30kB 19.2MB/s eta 0:00:01\r\u001b[K     |███████████████████████▌        | 40kB 16.3MB/s eta 0:00:01\r\u001b[K     |█████████████████████████████▍  | 51kB 13.0MB/s eta 0:00:01\r\u001b[K     |████████████████████████████████| 61kB 6.9MB/s \n",
            "\u001b[?25hRequirement already satisfied: numba>=0.43.0 in /usr/local/lib/python3.6/dist-packages (from apricot-select) (0.48.0)\n",
            "Requirement already satisfied: tqdm>=4.24.0 in /usr/local/lib/python3.6/dist-packages (from apricot-select) (4.41.1)\n",
            "Requirement already satisfied: numpy>=1.14.2 in /usr/local/lib/python3.6/dist-packages (from apricot-select) (1.19.4)\n",
            "Requirement already satisfied: scipy>=1.0.0 in /usr/local/lib/python3.6/dist-packages (from apricot-select) (1.4.1)\n",
            "Collecting nose\n",
            "\u001b[?25l  Downloading https://files.pythonhosted.org/packages/15/d8/dd071918c040f50fa1cf80da16423af51ff8ce4a0f2399b7bf8de45ac3d9/nose-1.3.7-py3-none-any.whl (154kB)\n",
            "\u001b[K     |████████████████████████████████| 163kB 23.1MB/s \n",
            "\u001b[?25hRequirement already satisfied: llvmlite<0.32.0,>=0.31.0dev0 in /usr/local/lib/python3.6/dist-packages (from numba>=0.43.0->apricot-select) (0.31.0)\n",
            "Requirement already satisfied: setuptools in /usr/local/lib/python3.6/dist-packages (from numba>=0.43.0->apricot-select) (51.0.0)\n",
            "Installing collected packages: nose, apricot-select\n",
            "Successfully installed apricot-select-0.6.0 nose-1.3.7\n"
          ],
          "name": "stdout"
        }
      ]
    },
    {
      "cell_type": "code",
      "metadata": {
        "colab": {
          "base_uri": "https://localhost:8080/"
        },
        "id": "2FGBiR9n44ZH",
        "outputId": "75d0e6b0-568c-458a-98f3-589dc993f922"
      },
      "source": [
        "from tensorflow.python.client import device_lib\n",
        "device_lib.list_local_devices()"
      ],
      "execution_count": 4,
      "outputs": [
        {
          "output_type": "execute_result",
          "data": {
            "text/plain": [
              "[name: \"/device:CPU:0\"\n",
              " device_type: \"CPU\"\n",
              " memory_limit: 268435456\n",
              " locality {\n",
              " }\n",
              " incarnation: 11259464761440483968, name: \"/device:GPU:0\"\n",
              " device_type: \"GPU\"\n",
              " memory_limit: 14638920512\n",
              " locality {\n",
              "   bus_id: 1\n",
              "   links {\n",
              "   }\n",
              " }\n",
              " incarnation: 5190286820990662021\n",
              " physical_device_desc: \"device: 0, name: Tesla T4, pci bus id: 0000:00:04.0, compute capability: 7.5\"]"
            ]
          },
          "metadata": {
            "tags": []
          },
          "execution_count": 4
        }
      ]
    },
    {
      "cell_type": "code",
      "metadata": {
        "id": "Hh4KW8FCKGUM"
      },
      "source": [
        "import numpy as np\n",
        "from torch.utils.data import Dataset\n",
        "from torch.utils.data import DataLoader\n",
        "import torch.nn.functional as F\n",
        "from torch import nn\n",
        "from torchvision import transforms\n",
        "import torch\n",
        "import torch.optim as optim\n",
        "from torch.autograd import Variable\n",
        "import sys\n",
        "from sklearn.preprocessing import StandardScaler\n",
        "from sklearn.model_selection import train_test_split\n",
        "from copy import deepcopy\n",
        "\n",
        "from drive.MyDrive.distil.utils.DataHandler import DataHandler_Points\n",
        "from drive.MyDrive.distil.active_learning_strategies import GLISTER,BADGE,EntropySampling\n",
        "from drive.MyDrive.distil.utils.models.simpleNN_net import TwoLayerNet\n",
        "from matplotlib import pyplot as plt"
      ],
      "execution_count": 5,
      "outputs": []
    },
    {
      "cell_type": "markdown",
      "metadata": {
        "id": "EWTSW0qchnap"
      },
      "source": [
        "### **Loading data**\n",
        "IJCNN1 is a binary classification Dataset with 49,990 samples and 22 features. The following code snippet can be used to read datasets in the svmlight / libsvm format into numpy arrays."
      ]
    },
    {
      "cell_type": "code",
      "metadata": {
        "id": "Y7jR5KBikpbg"
      },
      "source": [
        "def libsvm_file_load(path,dim, save_data=False):\n",
        "    data = []\n",
        "    target = []\n",
        "    with open(path) as fp:\n",
        "       line = fp.readline()\n",
        "       while line:\n",
        "        temp = [i for i in line.strip().split(\" \")]\n",
        "        target.append(int(float(temp[0]))) # Class Number. # Not assumed to be in (0, K-1)\n",
        "        temp_data = [0]*dim\n",
        "        \n",
        "        for i in temp[1:]:\n",
        "            ind,val = i.split(':')\n",
        "            temp_data[int(ind)-1] = float(val)\n",
        "        data.append(temp_data)\n",
        "        line = fp.readline()\n",
        "    X_data = np.array(data,dtype=np.float32)\n",
        "    Y_label = np.array(target)\n",
        "    if save_data:\n",
        "        # Save the numpy files to the folder where they come from\n",
        "        data_np_path = path + '.data.npy'\n",
        "        target_np_path = path + '.label.npy'\n",
        "        np.save(data_np_path, X_data)\n",
        "        np.save(target_np_path, Y_label)\n",
        "    return (X_data, Y_label)\n",
        "\n",
        "    \n",
        "trn_file = 'drive/MyDrive/distil/datasets/ijcnn1/ijcnn1.trn'\n",
        "val_file = 'drive/MyDrive/distil/datasets/ijcnn1/ijcnn1.val'\n",
        "tst_file = 'drive/MyDrive/distil/datasets/ijcnn1/ijcnn1.tst'\n",
        "data_dims = 22\n",
        "num_cls = 2\n",
        "x_trn, y_trn = libsvm_file_load(trn_file, dim=data_dims)\n",
        "x_val, y_val = libsvm_file_load(val_file, dim=data_dims)\n",
        "x_tst, y_tst = libsvm_file_load(tst_file, dim=data_dims)\n",
        "\n",
        "# The class labels are (-1,1). Make them to (0,1)\n",
        "y_trn[y_trn < 0] = 0\n",
        "y_val[y_val < 0] = 0\n",
        "y_tst[y_tst < 0] = 0    \n",
        "\n",
        "sc = StandardScaler()\n",
        "x_trn = sc.fit_transform(x_trn)\n",
        "x_val = sc.transform(x_val)\n",
        "x_tst = sc.transform(x_tst)\n"
      ],
      "execution_count": 6,
      "outputs": []
    },
    {
      "cell_type": "markdown",
      "metadata": {
        "id": "8t6z0vY7nNP5"
      },
      "source": [
        "# **Class for training**\n",
        "\n",
        "Although in this tutorial we mimic real world active learning setting with datasets which has all the labels, usually in a active learning settings it may take quite some time to label new set points. Therefore it is a good idea to create training class which can store current model state which can be restored later."
      ]
    },
    {
      "cell_type": "code",
      "metadata": {
        "id": "lbof4G2hnbpg"
      },
      "source": [
        "def init_weights(m):\n",
        "    torch.manual_seed(42)\n",
        "    if type(m) == nn.Linear:\n",
        "        torch.nn.init.xavier_uniform_(m.weight)\n",
        "        m.bias.data.fill_(0.01)\n",
        "\n",
        "class data_train:\n",
        "\n",
        "    def __init__(self, X, Y, net, handler, args):\n",
        "\n",
        "        self.X = X\n",
        "        self.Y = Y\n",
        "        self.net = net\n",
        "        self.handler = handler\n",
        "        self.args = args\n",
        "        self.use_cuda = torch.cuda.is_available()\n",
        "\n",
        "    def update_index(self, idxs_lb):\n",
        "        self.idxs_lb = idxs_lb\n",
        "\n",
        "    def update_data(self, X, Y):\n",
        "      \n",
        "      self.X = X\n",
        "      self.Y = Y\n",
        "      self.n_pool = len(Y)\n",
        "\n",
        "    def _train(self, epoch, loader_tr, optimizer):\n",
        "        self.clf.train()\n",
        "        accFinal = 0.\n",
        "\n",
        "        for batch_id, (x, y, idxs) in enumerate(loader_tr):\n",
        "            if self.use_cuda:\n",
        "                x, y = Variable(x.cuda()), Variable(y.cuda())\n",
        "            else:\n",
        "                x, y = Variable(x), Variable(y)\n",
        "            optimizer.zero_grad()\n",
        "            out = self.clf(x)\n",
        "            loss = F.cross_entropy(out, y)\n",
        "            accFinal += torch.sum((torch.max(out,1)[1] == y).float()).data.item()\n",
        "            loss.backward()\n",
        "\n",
        "            # clamp gradients, just in case\n",
        "            # for p in filter(lambda p: p.grad is not None, self.clf.parameters()): p.grad.data.clamp_(min=-.1, max=.1)\n",
        "\n",
        "            optimizer.step()\n",
        "        return accFinal / len(loader_tr.dataset.X)\n",
        "\n",
        "    \n",
        "    def train(self):\n",
        "\n",
        "        print('Training..')\n",
        "        def weight_reset(m):\n",
        "            if isinstance(m, nn.Conv2d) or isinstance(m, nn.Linear):\n",
        "                m.reset_parameters()\n",
        "\n",
        "        n_epoch = self.args['n_epoch']\n",
        "        if self.use_cuda:\n",
        "            self.clf =  self.net.apply(weight_reset).cuda()\n",
        "        else:\n",
        "            self.clf =  self.net.apply(weight_reset)\n",
        "\n",
        "        optimizer = optim.Adam(self.clf.parameters(), lr = self.args['lr'], weight_decay=0)\n",
        "        loader_tr = DataLoader(self.handler(self.X, self.Y, False),batch_size =1000)\n",
        "        epoch = 1\n",
        "        accCurrent = 0\n",
        "        while accCurrent < 0.95 and epoch < n_epoch: \n",
        "            accCurrent = self._train(epoch, loader_tr, optimizer)\n",
        "            epoch += 1\n",
        "            # print(str(epoch) + ' training accuracy: ' + str(accCurrent), flush=True)\n",
        "            \n",
        "            if (epoch % 50 == 0) and (accCurrent < 0.2): # resetif not converging\n",
        "                self.clf = self.net.apply(weight_reset)\n",
        "                optimizer = optim.Adam(self.clf.parameters(), lr = self.args['lr'], weight_decay=0)\n",
        "\n",
        "        print('Training accuracy:',round(accCurrent, 3)*100, flush=True) #'Epoch:', str(epoch),\n",
        "        return self.clf"
      ],
      "execution_count": 7,
      "outputs": []
    },
    {
      "cell_type": "markdown",
      "metadata": {
        "id": "4KrEWA8ln4BO"
      },
      "source": [
        "# **Trainig loop for active learning**"
      ]
    },
    {
      "cell_type": "code",
      "metadata": {
        "id": "OJIZ-mtqn3qQ"
      },
      "source": [
        "def training_round(strategy,dt,X_tr,Y_tr,X_unlabeled,Y_unlabeled,x_tst,y_tst,first=False):\n",
        "\n",
        "    flag = False\n",
        "    if first:\n",
        "\n",
        "      nSamps, dim = np.shape(X_unlabeled)\n",
        "\n",
        "      np.random.seed(42)\n",
        "      start_idxs = np.random.choice(nSamps, size=int(0.01*nSamps), replace=False)\n",
        "\n",
        "      X_tr = X_unlabeled[start_idxs]\n",
        "      X_unlabeled = np.delete(X_unlabeled, start_idxs, axis = 0)\n",
        "\n",
        "      Y_tr = Y_unlabeled[start_idxs]\n",
        "      Y_unlabeled = np.delete(Y_unlabeled, start_idxs, axis = 0)\n",
        "\n",
        "      print('Starting set of points -', len(start_idxs))\n",
        "\n",
        "    else:    \n",
        "\n",
        "      #Human In Loop, Assuming user adds new labels here\n",
        "      idx = strategy.select(budget)\n",
        "      \n",
        "      #Adding new points to training set\n",
        "      X_tr = np.concatenate((X_tr, X_unlabeled[idx]), axis=0)\n",
        "      X_unlabeled = np.delete(X_unlabeled, idx, axis = 0)\n",
        "\n",
        "      Y_tr = np.concatenate((Y_tr, Y_unlabeled[idx]), axis = 0)\n",
        "      Y_unlabeled = np.delete(Y_unlabeled, idx, axis = 0)\n",
        "\n",
        "      print('New data points added -', len(idx))\n",
        "    \n",
        "    strategy.update_data(X_tr, Y_tr, X_unlabeled)\n",
        "    dt.update_data(X_tr, Y_tr)\n",
        "\n",
        "    clf = dt.train()\n",
        "    strategy.update_model(clf)\n",
        "    y_pred = strategy.predict(x_tst).numpy()\n",
        "    acc = round(1.0 * (y_tst == y_pred).sum().item() / len(y_tst), 3)\n",
        "    #print('Testing accuracy:', acc, flush=True)\n",
        "    if acc > 0.98:\n",
        "        flag = True\n",
        "        print('Testing accuracy reached above 98%')\n",
        "\n",
        "    return X_tr,Y_tr,X_unlabeled,Y_unlabeled,acc, flag"
      ],
      "execution_count": 8,
      "outputs": []
    },
    {
      "cell_type": "markdown",
      "metadata": {
        "id": "cRm2tsuwqQEP"
      },
      "source": [
        "# **Uncertanity based Active learning Strategy**\n",
        "\n",
        "The most basic active learning strategy, where we select samples about which the model is most uncertain. To quantify the uncertainity we use entropy, therefore select points which have maximum entropy. Let $z_i$ be output from the model then the correponding softmax would be $$\\sigma(z_i) = \\frac{e^{z_i}}{\\sum_j e^{z_j}}$$. Then entropy can be calculated as, $$ENTROPY = -\\sum_j \\sigma(z_j)*log(\\sigma(z_i))$$"
      ]
    },
    {
      "cell_type": "code",
      "metadata": {
        "colab": {
          "base_uri": "https://localhost:8080/"
        },
        "id": "zSBY1RRKqPye",
        "outputId": "5dbd36e5-0f58-4564-ff46-edc155e9bc77"
      },
      "source": [
        "net = TwoLayerNet(data_dims, num_cls,40)\n",
        "net.apply(init_weights)\n",
        "\n",
        "strategy_args = {'batch_size' : 1000, 'lr':float(0.001)} \n",
        "strategy = EntropySampling(None, None, None, net, DataHandler_Points, num_cls, strategy_args)\n",
        "\n",
        "args = {'n_epoch':100, 'lr':float(0.001)}  #Different args than strategy_args\n",
        "n_rounds = 10    ##Number of rounds to run ac\n",
        "budget = int(0.01*x_trn.shape[0])    ##Number of new data points after every iteration\n",
        "\n",
        "#Training Class initialization\n",
        "dt = data_train(None, None, net, DataHandler_Points, args)\n",
        "\n",
        "un_acc = np.zeros(n_rounds+1)\n",
        "X_unlabeled = deepcopy(x_trn)\n",
        "Y_unlabeled = deepcopy(y_trn)\n",
        "X_tr = None\n",
        "Y_tr = None\n",
        "\n",
        "X_tr,Y_tr,X_unlabeled,Y_unlabeled,un_acc[0],_ = training_round(strategy,dt,X_tr,Y_tr,X_unlabeled,Y_unlabeled,x_tst,y_tst,first=True)\n",
        "print('Initial Testing accuracy:', round(un_acc[0], 3)*100, flush=True)\n",
        "\n",
        "for i in range(n_rounds):\n",
        "  X_tr,Y_tr,X_unlabeled,Y_unlabeled,un_acc[i+1],flag = training_round(strategy,dt,X_tr,Y_tr,X_unlabeled,Y_unlabeled,x_tst,y_tst)\n",
        "  print('Testing accuracy at',i+1,'round :', round(un_acc[i+1], 3)*100, flush=True)  \n",
        "  if flag:\n",
        "    break\n"
      ],
      "execution_count": 14,
      "outputs": [
        {
          "output_type": "stream",
          "text": [
            "Starting set of points - 350\n",
            "Training..\n",
            "Training accuracy: 88.6\n",
            "Initial Testing accuracy: 90.5\n",
            "New data points added - 350\n",
            "Training..\n",
            "Training accuracy: 86.9\n",
            "Testing accuracy at 1 round : 89.8\n",
            "New data points added - 350\n",
            "Training..\n",
            "Training accuracy: 83.0\n",
            "Testing accuracy at 2 round : 90.0\n",
            "New data points added - 350\n",
            "Training..\n",
            "Training accuracy: 81.69999999999999\n",
            "Testing accuracy at 3 round : 89.3\n",
            "New data points added - 350\n",
            "Training..\n",
            "Training accuracy: 85.0\n",
            "Testing accuracy at 4 round : 91.60000000000001\n",
            "New data points added - 350\n",
            "Training..\n",
            "Training accuracy: 86.7\n",
            "Testing accuracy at 5 round : 93.2\n",
            "New data points added - 350\n",
            "Training..\n",
            "Training accuracy: 88.0\n",
            "Testing accuracy at 6 round : 94.6\n",
            "New data points added - 350\n",
            "Training..\n",
            "Training accuracy: 87.9\n",
            "Testing accuracy at 7 round : 94.69999999999999\n",
            "New data points added - 350\n",
            "Training..\n",
            "Training accuracy: 85.0\n",
            "Testing accuracy at 8 round : 91.4\n",
            "New data points added - 350\n",
            "Training..\n",
            "Training accuracy: 88.5\n",
            "Testing accuracy at 9 round : 95.89999999999999\n",
            "New data points added - 350\n",
            "Training..\n",
            "Training accuracy: 86.0\n",
            "Testing accuracy at 10 round : 95.7\n"
          ],
          "name": "stdout"
        }
      ]
    },
    {
      "cell_type": "markdown",
      "metadata": {
        "id": "8C-rsSkOqdKA"
      },
      "source": [
        "# **GLISTER**\n",
        "This is implemetation of GLISTER-ACTIVE from the paper [GLISTER: Generalization based Data Subset Selection for Efficient and Robust Learning](https://arxiv.org/abs/2012.10630). GLISTER methods tries to solve a bi-level optimisation problem.\n",
        "\\begin{equation*}\n",
        "\\overbrace{\\underset{{S \\subseteq {\\mathcal U}, |S| \\leq k}}{\\operatorname{argmax\\hspace{0.7mm}}} LL_V(\\underbrace{\\underset{\\theta}{\\operatorname{argmax\\hspace{0.7mm}}} LL_T( \\theta, S)}_{inner-level}, {\\mathcal V})}^{outer-level}\n",
        "\\end{equation*}\n",
        "where is $S$ is set of points selected at each round,${\\mathcal V}$ could be a dedicated validation set with labled points or could be union of labeled and unlabeled points with hypothesised labels, $k$ is the budget.\n",
        "To set ${\\mathcal V}$ to be validation set, while calling **GLISTER** class in the toolkit set _valid=TRUE_ and pass validation set otherwise set _valid=False_.\n",
        "\n",
        "Solving this problem directly is almost impossible, therefore we resort to one-step approxiations.We start we $S^0$ as empty set and bulid it as $S^k = S^{k-1} \\cup e$, where $e$ is $\\underset{e}{\\operatorname{argmax\\hspace{0.7mm}}} G_{\\theta}(e | S^k)$. We define,$$G_{\\theta}(e | S^k) = LL_{V}(\\theta^{k}, {\\mathcal V})$$ and update $$\\theta^k \\leftarrow \\theta^{k-1} -  \\eta \\nabla_{\\theta} LL_T(\\hat{\\theta}, e)$$ where $\\hat{\\theta}$ is the parameters of the model at the begining of the selection.\n",
        "To prevent overfitting, we can add regularizer to GLISTER, which can be set by **_typeOf_**. **_typeOf_** can be set to - **'none'**(which is default) for normal GLISTER,**'Rand'** for replacing **_lam_** fraction of points by random points, **'Diversity'** adding diversity set function while computing gain and **'FacLoc'** adding Facility Location set function while computing gain. **_lam_** for both **'Diversity'** and **'FacLoc'** determines the weightage given to them while computing the gain."
      ]
    },
    {
      "cell_type": "code",
      "metadata": {
        "colab": {
          "base_uri": "https://localhost:8080/"
        },
        "id": "r_gJF_i7TdrD",
        "outputId": "99cbca8a-5e72-4a32-b998-d6c42cc8f88c"
      },
      "source": [
        "net = TwoLayerNet(data_dims, num_cls,40)\n",
        "net.apply(init_weights)\n",
        "\n",
        "strategy_args = {'batch_size' : 12000, 'lr':float(0.001)} \n",
        "strategy = GLISTER(None, None, None, net, DataHandler_Points, num_cls, strategy_args,valid=False,typeOf='Diversity',lam=5)\n",
        "\n",
        "args = {'n_epoch':100, 'lr':float(0.001)}  #Different args than strategy_args\n",
        "n_rounds = 10    ##Number of rounds to run ac\n",
        "budget = int(0.01*x_trn.shape[0])     ##Number of new data points after every iteration\n",
        "\n",
        "#Training Class initialization\n",
        "dt = data_train(None, None, net, DataHandler_Points, args)\n",
        "\n",
        "glister_acc = np.zeros(n_rounds+1)\n",
        "X_unlabeled = deepcopy(x_trn)\n",
        "Y_unlabeled = deepcopy(y_trn)\n",
        "X_tr = None\n",
        "Y_tr = None\n",
        "\n",
        "X_tr,Y_tr,X_unlabeled,Y_unlabeled,glister_acc[0],_ = training_round(strategy,dt,X_tr,Y_tr,X_unlabeled,Y_unlabeled,x_tst,y_tst,first=True)\n",
        "print('Initial Testing accuracy:', round(glister_acc[0], 3)*100, flush=True)\n",
        "\n",
        "for i in range(n_rounds):\n",
        "  X_tr,Y_tr,X_unlabeled,Y_unlabeled,glister_acc[i+1],flag = training_round(strategy,dt,X_tr,Y_tr,X_unlabeled,Y_unlabeled,x_tst,y_tst)\n",
        "  print('Testing accuracy at',i+1,'round :', round(glister_acc[i+1], 3)*100, flush=True)  \n",
        "  if flag:\n",
        "    break\n"
      ],
      "execution_count": 18,
      "outputs": [
        {
          "output_type": "stream",
          "text": [
            "Starting set of points - 350\n",
            "Training..\n",
            "Training accuracy: 88.6\n",
            "Initial Testing accuracy: 90.5\n",
            "New data points added - 350\n",
            "Training..\n",
            "Training accuracy: 88.4\n",
            "Testing accuracy at 1 round : 86.6\n",
            "New data points added - 350\n",
            "Training..\n",
            "Training accuracy: 84.3\n",
            "Testing accuracy at 2 round : 88.0\n",
            "New data points added - 350\n",
            "Training..\n",
            "Training accuracy: 90.10000000000001\n",
            "Testing accuracy at 3 round : 90.7\n",
            "New data points added - 350\n",
            "Training..\n",
            "Training accuracy: 88.4\n",
            "Testing accuracy at 4 round : 92.4\n",
            "New data points added - 350\n",
            "Training..\n",
            "Training accuracy: 86.5\n",
            "Testing accuracy at 5 round : 92.9\n",
            "New data points added - 350\n",
            "Training..\n",
            "Training accuracy: 87.6\n",
            "Testing accuracy at 6 round : 91.60000000000001\n",
            "New data points added - 350\n",
            "Training..\n",
            "Training accuracy: 88.3\n",
            "Testing accuracy at 7 round : 95.1\n",
            "New data points added - 350\n",
            "Training..\n",
            "Training accuracy: 86.8\n",
            "Testing accuracy at 8 round : 94.89999999999999\n",
            "New data points added - 350\n",
            "Training..\n",
            "Training accuracy: 87.2\n",
            "Testing accuracy at 9 round : 95.6\n",
            "New data points added - 350\n",
            "Training..\n",
            "Training accuracy: 86.4\n",
            "Testing accuracy at 10 round : 95.39999999999999\n"
          ],
          "name": "stdout"
        }
      ]
    },
    {
      "cell_type": "markdown",
      "metadata": {
        "id": "WwrpLSGRUYZw"
      },
      "source": [
        "# **BADGE**\n",
        "This method is based on the paper [Deep Batch Active Learning by Diverse, Uncertain Gradient Lower Bounds](https://arxiv.org/abs/1906.03671). Here at each around of selection loss gradients are computed using the hypothesised lables. Then to points to be labled are selected by applying k-means++ on these loss gradients. "
      ]
    },
    {
      "cell_type": "code",
      "metadata": {
        "colab": {
          "base_uri": "https://localhost:8080/"
        },
        "id": "WEtuF8O29fwh",
        "outputId": "a136391d-79f0-4078-8de2-1dd63157afef"
      },
      "source": [
        "net = TwoLayerNet(data_dims, num_cls,40)\n",
        "net.apply(init_weights)\n",
        "\n",
        "strategy_args = {'batch_size' : 12000, 'lr':float(0.001)} \n",
        "strategy = BADGE(None, None, None, net, DataHandler_Points, num_cls, strategy_args)\n",
        "\n",
        "args = {'n_epoch':100, 'lr':float(0.001)}  #Different args than strategy_args\n",
        "n_rounds = 10    ##Number of rounds to run ac\n",
        "budget = int(0.01*x_trn.shape[0])     ##Number of new data points after every iteration\n",
        "\n",
        "#Training Class initialization\n",
        "dt = data_train(None, None, net, DataHandler_Points, args)\n",
        "\n",
        "badge_acc = np.zeros(n_rounds+1)\n",
        "X_unlabeled = deepcopy(x_trn)\n",
        "Y_unlabeled = deepcopy(y_trn)\n",
        "X_tr = None\n",
        "Y_tr = None\n",
        "\n",
        "X_tr,Y_tr,X_unlabeled,Y_unlabeled,badge_acc[0],_ = training_round(strategy,dt,X_tr,Y_tr,X_unlabeled,Y_unlabeled,x_tst,y_tst,first=True)\n",
        "print('Initial Testing accuracy:', round(badge_acc[0], 3)*100, flush=True)\n",
        "\n",
        "for i in range(n_rounds):\n",
        "  X_tr,Y_tr,X_unlabeled,Y_unlabeled,badge_acc[i+1],flag = training_round(strategy,dt,X_tr,Y_tr,X_unlabeled,Y_unlabeled,x_tst,y_tst)\n",
        "  print('Testing accuracy at',i+1,'round :', round(badge_acc[i+1], 3)*100, flush=True)  \n",
        "  if flag:\n",
        "    break\n"
      ],
      "execution_count": 16,
      "outputs": [
        {
          "output_type": "stream",
          "text": [
            "Starting set of points - 350\n",
            "Training..\n",
            "Training accuracy: 88.6\n",
            "Initial Testing accuracy: 90.5\n",
            "New data points added - 350\n",
            "Training..\n",
            "Training accuracy: 85.6\n",
            "Testing accuracy at 1 round : 91.0\n",
            "New data points added - 350\n",
            "Training..\n",
            "Training accuracy: 89.8\n",
            "Testing accuracy at 2 round : 91.3\n",
            "New data points added - 350\n",
            "Training..\n",
            "Training accuracy: 88.6\n",
            "Testing accuracy at 3 round : 91.7\n",
            "New data points added - 350\n",
            "Training..\n",
            "Training accuracy: 86.1\n",
            "Testing accuracy at 4 round : 91.7\n",
            "New data points added - 350\n",
            "Training..\n",
            "Training accuracy: 86.0\n",
            "Testing accuracy at 5 round : 92.4\n",
            "New data points added - 350\n",
            "Training..\n",
            "Training accuracy: 87.8\n",
            "Testing accuracy at 6 round : 93.8\n",
            "New data points added - 350\n",
            "Training..\n",
            "Training accuracy: 88.1\n",
            "Testing accuracy at 7 round : 93.7\n",
            "New data points added - 350\n",
            "Training..\n",
            "Training accuracy: 89.2\n",
            "Testing accuracy at 8 round : 94.6\n",
            "New data points added - 350\n",
            "Training..\n",
            "Training accuracy: 89.2\n",
            "Testing accuracy at 9 round : 94.89999999999999\n",
            "New data points added - 350\n",
            "Training..\n",
            "Training accuracy: 87.8\n",
            "Testing accuracy at 10 round : 94.39999999999999\n"
          ],
          "name": "stdout"
        }
      ]
    },
    {
      "cell_type": "code",
      "metadata": {
        "colab": {
          "base_uri": "https://localhost:8080/",
          "height": 313
        },
        "id": "Hd8PpgnYAYAW",
        "outputId": "2e619f51-65c7-4ee7-ad4e-3df4bd56d643"
      },
      "source": [
        "x_axis = np.array([budget for i in range(n_rounds+1)])\n",
        "x_axis = x_axis*np.array([i for i in range(1,n_rounds+2)])\n",
        "plt.figure()\n",
        "plt.plot(x_axis, glister_acc, 'b-', label='GLISTER',marker='o')\n",
        "plt.plot(x_axis, un_acc, 'g-', label='Uncertanity',marker='o')\n",
        "plt.plot(x_axis, badge_acc, 'c', label='BADGE',marker='o')\n",
        "\n",
        "\n",
        "plt.legend()\n",
        "plt.xlabel('No of points')\n",
        "plt.ylabel('Test Accuracy')\n",
        "plt.title('IJCNN1')"
      ],
      "execution_count": 19,
      "outputs": [
        {
          "output_type": "execute_result",
          "data": {
            "text/plain": [
              "Text(0.5, 1.0, 'IJCNN1')"
            ]
          },
          "metadata": {
            "tags": []
          },
          "execution_count": 19
        },
        {
          "output_type": "display_data",
          "data": {
            "image/png": "[encoded data removed]",
            "text/plain": [
              "<Figure size 432x288 with 1 Axes>"
            ]
          },
          "metadata": {
            "tags": [],
            "needs_background": "light"
          }
        }
      ]
    }
  ]
}