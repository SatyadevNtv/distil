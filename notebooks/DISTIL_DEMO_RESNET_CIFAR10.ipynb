{
  "nbformat": 4,
  "nbformat_minor": 0,
  "metadata": {
    "colab": {
      "name": "Distil_CIFAR10.ipynb",
      "provenance": []
    },
    "kernelspec": {
      "name": "python3",
      "display_name": "Python 3"
    },
    "accelerator": "GPU"
  },
  "cells": [
    {
      "cell_type": "markdown",
      "metadata": {
        "id": "K8AxA7KVfv9m"
      },
      "source": [
        "**Distil Installation**"
      ]
    },
    {
      "cell_type": "code",
      "metadata": {
        "colab": {
          "base_uri": "https://localhost:8080/"
        },
        "id": "9bsVDupO_EOh",
        "outputId": "168c1ae0-a8e0-4161-b49e-ffb995cdc913"
      },
      "source": [
        "!git clone https://github.com/decile-team/distil.git\r\n",
        "!pip install apricot-select\r\n",
        "%cd distil/examples/"
      ],
      "execution_count": 1,
      "outputs": [
        {
          "output_type": "stream",
          "text": [
            "Cloning into 'distil'...\n",
            "remote: Enumerating objects: 655, done.\u001b[K\n",
            "remote: Counting objects: 100% (655/655), done.\u001b[K\n",
            "remote: Compressing objects: 100% (414/414), done.\u001b[K\n",
            "remote: Total 655 (delta 319), reused 547 (delta 223), pack-reused 0\u001b[K\n",
            "Receiving objects: 100% (655/655), 13.16 MiB | 6.04 MiB/s, done.\n",
            "Resolving deltas: 100% (319/319), done.\n",
            "Collecting apricot-select\n",
            "\u001b[?25l  Downloading https://files.pythonhosted.org/packages/76/c4/07c964d8f48204a74e98032b3dbfa82f37cafc638fe99a962b6eb9ea0d80/apricot_select-0.6.0-py3-none-any.whl (55kB)\n",
            "\u001b[K     |████████████████████████████████| 61kB 3.4MB/s \n",
            "\u001b[?25hCollecting nose\n",
            "\u001b[?25l  Downloading https://files.pythonhosted.org/packages/15/d8/dd071918c040f50fa1cf80da16423af51ff8ce4a0f2399b7bf8de45ac3d9/nose-1.3.7-py3-none-any.whl (154kB)\n",
            "\u001b[K     |████████████████████████████████| 163kB 6.8MB/s \n",
            "\u001b[?25hRequirement already satisfied: numba>=0.43.0 in /usr/local/lib/python3.6/dist-packages (from apricot-select) (0.48.0)\n",
            "Requirement already satisfied: numpy>=1.14.2 in /usr/local/lib/python3.6/dist-packages (from apricot-select) (1.19.4)\n",
            "Requirement already satisfied: tqdm>=4.24.0 in /usr/local/lib/python3.6/dist-packages (from apricot-select) (4.41.1)\n",
            "Requirement already satisfied: scipy>=1.0.0 in /usr/local/lib/python3.6/dist-packages (from apricot-select) (1.4.1)\n",
            "Requirement already satisfied: llvmlite<0.32.0,>=0.31.0dev0 in /usr/local/lib/python3.6/dist-packages (from numba>=0.43.0->apricot-select) (0.31.0)\n",
            "Requirement already satisfied: setuptools in /usr/local/lib/python3.6/dist-packages (from numba>=0.43.0->apricot-select) (51.0.0)\n",
            "Installing collected packages: nose, apricot-select\n",
            "Successfully installed apricot-select-0.6.0 nose-1.3.7\n",
            "/content/distil/examples\n"
          ],
          "name": "stdout"
        }
      ]
    },
    {
      "cell_type": "markdown",
      "metadata": {
        "id": "kchiw_zcf4tE"
      },
      "source": [
        "**Imports**"
      ]
    },
    {
      "cell_type": "code",
      "metadata": {
        "id": "X7l1LUx6CSyx"
      },
      "source": [
        "import pandas as pd \r\n",
        "import numpy as np\r\n",
        "from torch.utils.data import Dataset\r\n",
        "from torch.utils.data import DataLoader\r\n",
        "import torch.nn.functional as F\r\n",
        "from torch import nn\r\n",
        "from torchvision import transforms\r\n",
        "import torch\r\n",
        "import torch.optim as optim\r\n",
        "from torch.autograd import Variable\r\n",
        "import sys\r\n",
        "sys.path.append('../')\r\n",
        "from distil.active_learning_strategies import EntropySampling, BADGE,GLISTER, RandomSampling\r\n",
        "from distil.utils.models.mnist_net import MnistNet\r\n",
        "from distil.utils.models.cifar10net import CifarNet\r\n",
        "from distil.utils.models.resnet import ResNet18\r\n",
        "from distil.utils.DataHandler import DataHandler_MNIST, DataHandler_CIFAR10\r\n",
        "from distil.utils.dataset import get_dataset"
      ],
      "execution_count": 2,
      "outputs": []
    },
    {
      "cell_type": "markdown",
      "metadata": {
        "id": "jB8Z5jwVgUQ-"
      },
      "source": [
        "**Training Class**"
      ]
    },
    {
      "cell_type": "code",
      "metadata": {
        "id": "ntrOcSLKCbYO"
      },
      "source": [
        "def init_weights(m):\r\n",
        "    torch.manual_seed(35)\r\n",
        "    if isinstance(m, nn.Conv2d):\r\n",
        "        torch.nn.init.xavier_uniform_(m.weight)\r\n",
        "    elif isinstance(m, nn.Linear):\r\n",
        "        torch.nn.init.xavier_uniform_(m.weight)\r\n",
        "        m.bias.data.fill_(0.01)\r\n",
        "\r\n",
        "class data_train:\r\n",
        "\r\n",
        "    def __init__(self, X, Y, net, handler, args):\r\n",
        "\r\n",
        "        self.X = X\r\n",
        "        self.Y = Y\r\n",
        "        self.net = net\r\n",
        "        self.handler = handler\r\n",
        "        self.args = args\r\n",
        "        self.n_pool = len(Y)\r\n",
        "        self.use_cuda = torch.cuda.is_available()\r\n",
        "\r\n",
        "    def update_index(self, idxs_lb):\r\n",
        "        self.idxs_lb = idxs_lb\r\n",
        "\r\n",
        "    def update_data(self, X, Y):\r\n",
        "    \tself.X = X\r\n",
        "    \tself.Y = Y\r\n",
        "\r\n",
        "    def _train(self, epoch, loader_tr, optimizer):\r\n",
        "        self.clf.train()\r\n",
        "        accFinal = 0.\r\n",
        "\r\n",
        "        for batch_id, (x, y, idxs) in enumerate(loader_tr):\r\n",
        "            if self.use_cuda:\r\n",
        "                x, y = Variable(x.cuda()), Variable(y.cuda())\r\n",
        "            else:\r\n",
        "                x, y = Variable(x), Variable(y)\r\n",
        "            optimizer.zero_grad()\r\n",
        "            out = self.clf(x)\r\n",
        "            loss = F.cross_entropy(out, y)\r\n",
        "            accFinal += torch.sum((torch.max(out,1)[1] == y).float()).data.item()\r\n",
        "            loss.backward()\r\n",
        "\r\n",
        "            # clamp gradients, just in case\r\n",
        "            # for p in filter(lambda p: p.grad is not None, self.clf.parameters()): p.grad.data.clamp_(min=-.1, max=.1)\r\n",
        "\r\n",
        "            optimizer.step()\r\n",
        "        return accFinal / len(loader_tr.dataset.X)\r\n",
        "\r\n",
        "    \r\n",
        "    def train(self):\r\n",
        "\r\n",
        "        # print('Training..')\r\n",
        "        def weight_reset(m):\r\n",
        "            if isinstance(m, nn.Conv2d) or isinstance(m, nn.Linear):\r\n",
        "                m.reset_parameters()\r\n",
        "\r\n",
        "        n_epoch = self.args['n_epoch']\r\n",
        "        if self.use_cuda:\r\n",
        "            self.clf =  self.net.apply(weight_reset).cuda()\r\n",
        "        else:\r\n",
        "            self.clf =  self.net.apply(weight_reset)\r\n",
        "\r\n",
        "        optimizer = optim.Adam(self.clf.parameters(), lr = self.args['lr'], weight_decay=0)\r\n",
        "        loader_tr = DataLoader(self.handler(self.X, self.Y, False), shuffle=True, batch_size = args['batch_size'])\r\n",
        "        epoch = 1\r\n",
        "        accCurrent = 0\r\n",
        "        while accCurrent < 0.99 and epoch < n_epoch: \r\n",
        "            accCurrent = self._train(epoch, loader_tr, optimizer)\r\n",
        "            epoch += 1\r\n",
        "            # print(str(epoch) + ' training accuracy: ' + str(accCurrent), flush=True)\r\n",
        "            \r\n",
        "            if (epoch % 50 == 0) and (accCurrent < 0.2): # resetif not converging\r\n",
        "                self.clf = self.net.apply(weight_reset)\r\n",
        "                optimizer = optim.Adam(self.clf.parameters(), lr = self.args['lr'], weight_decay=0)\r\n",
        "\r\n",
        "        print('Epoch:', str(epoch),'Training accuracy:',round(accCurrent*100, 2), flush=True)\r\n",
        "        return self.clf"
      ],
      "execution_count": 32,
      "outputs": []
    },
    {
      "cell_type": "markdown",
      "metadata": {
        "id": "Vvn_Dal4gb8S"
      },
      "source": [
        "**Data & Model Configuration**"
      ]
    },
    {
      "cell_type": "code",
      "metadata": {
        "colab": {
          "base_uri": "https://localhost:8080/"
        },
        "id": "jdLy9wyjCuT-",
        "outputId": "a1d4982e-8b04-41fd-c61c-d502a185ff26"
      },
      "source": [
        "data_set_name = 'CIFAR10'\r\n",
        "download_path = '../downloaded_data/'\r\n",
        "X, y, X_test, y_test = get_dataset(data_set_name, download_path)\r\n",
        "dim = np.shape(X)[1:]\r\n",
        "handler = DataHandler_CIFAR10\r\n",
        "\r\n",
        "X_tr = X[:5000]\r\n",
        "y_tr = y[:5000]\r\n",
        "X_unlabeled = X[5000:]\r\n",
        "y_unlabeled = y[5000:]\r\n",
        "\r\n",
        "X_test = X_test\r\n",
        "y_test = y_test.numpy()\r\n",
        "\r\n",
        "nclasses = 10\r\n",
        "n_rounds = 10    ##Number of rounds to run active learning\r\n",
        "budget = 1000 \r\n",
        "\r\n",
        "net = ResNet18()\r\n",
        "net.apply(init_weights)"
      ],
      "execution_count": 60,
      "outputs": [
        {
          "output_type": "stream",
          "text": [
            "Files already downloaded and verified\n",
            "Files already downloaded and verified\n"
          ],
          "name": "stdout"
        }
      ]
    },
    {
      "cell_type": "markdown",
      "metadata": {
        "id": "jm_ILTinrkLk"
      },
      "source": [
        "**UNCERTAINITY SAMPLING**"
      ]
    },
    {
      "cell_type": "code",
      "metadata": {
        "colab": {
          "base_uri": "https://localhost:8080/"
        },
        "id": "DwgnCuSlrO2V",
        "outputId": "29263b7e-96d3-49c5-86ae-bdf7f6ce88b1"
      },
      "source": [
        "#Initializing Strategy Class\r\n",
        "strategy_args = {'batch_size' : 1000}\r\n",
        "strategy = EntropySampling(X_tr, y_tr, X_unlabeled, net, handler, nclasses, strategy_args)\r\n",
        "\r\n",
        "#Initial Training\r\n",
        "args = {'n_epoch':150, 'lr':float(0.001), 'batch_size':128} \r\n",
        "dt = data_train(X_tr, y_tr, net, handler, args)\r\n",
        "clf = dt.train()\r\n",
        "\r\n",
        "#Updating the trained model in strategy class\r\n",
        "strategy.update_model(clf)\r\n",
        "\r\n",
        "y_pred = strategy.predict(X_test).numpy()\r\n",
        "acc = np.zeros(n_rounds)\r\n",
        "acc[0] = (1.0*(y_test == y_pred)).sum().item() / len(y_test)\r\n",
        "print('Initial Testing accuracy:', round(acc[0]*100, 2), flush=True)\r\n",
        "\r\n",
        "##User Controlled Loop\r\n",
        "for rd in range(1, n_rounds):\r\n",
        "    print('-------------------------------------------------')\r\n",
        "    print('Round', rd) \r\n",
        "    print('-------------------------------------------------')\r\n",
        "\r\n",
        "    #Using select function for getting next set of data points\r\n",
        "    idx = strategy.select(budget)\r\n",
        "\r\n",
        "    #Saving state of model, since labeling new points might take time\r\n",
        "    strategy.save_state()\r\n",
        "\r\n",
        "    #Adding new points to training set\r\n",
        "    X_tr = np.concatenate((X_tr, X_unlabeled[idx]), axis=0)\r\n",
        "    X_unlabeled = np.delete(X_unlabeled, idx, axis = 0)\r\n",
        "\r\n",
        "    #Human In Loop, Assuming user adds new labels here\r\n",
        "    y_tr = np.concatenate((y_tr, y_unlabeled[idx]), axis = 0)\r\n",
        "    y_unlabeled = np.delete(y_unlabeled, idx, axis = 0)\r\n",
        "    print('Number of training points -',X_tr.shape[0])\r\n",
        "\r\n",
        "    #Reload state and start training\r\n",
        "    strategy.load_state()\r\n",
        "    strategy.update_data(X_tr, y_tr, X_unlabeled)\r\n",
        "    dt.update_data(X_tr, y_tr)\r\n",
        "\r\n",
        "    clf = dt.train()\r\n",
        "    strategy.update_model(clf)\r\n",
        "    y_pred = strategy.predict(X_test).numpy()\r\n",
        "    acc[rd] = round((1.0*(y_test == y_pred)).sum().item() / len(y_test), 3)\r\n",
        "    print('Testing accuracy:', round(acc[rd]*100, 2), flush=True)\r\n",
        "    if acc[rd] > 0.98:\r\n",
        "        print('Testing accuracy reached above 98%, stopping training!')\r\n",
        "        break\r\n",
        "\r\n",
        "print('Training Completed')\r\n",
        "\r\n",
        "#Saving accuracies for further analysis\r\n",
        "with open('/content/entropy.txt', 'w') as f:\r\n",
        "    for item in acc:\r\n",
        "        f.write(\"%s\\n\" % item)"
      ],
      "execution_count": 46,
      "outputs": [
        {
          "output_type": "stream",
          "text": [
            "Epoch: 21 Training accuracy: 99.42\n",
            "Initial Testing accuracy: 62.95\n",
            "-------------------------------------------------\n",
            "Round 1\n",
            "-------------------------------------------------\n",
            "Number of training points - 6000\n",
            "Epoch: 18 Training accuracy: 99.03\n",
            "Testing accuracy: 61.2\n",
            "-------------------------------------------------\n",
            "Round 2\n",
            "-------------------------------------------------\n",
            "Number of training points - 7000\n",
            "Epoch: 17 Training accuracy: 99.14\n",
            "Testing accuracy: 62.2\n",
            "-------------------------------------------------\n",
            "Round 3\n",
            "-------------------------------------------------\n",
            "Number of training points - 8000\n",
            "Epoch: 17 Training accuracy: 99.25\n",
            "Testing accuracy: 64.7\n",
            "-------------------------------------------------\n",
            "Round 4\n",
            "-------------------------------------------------\n",
            "Number of training points - 9000\n",
            "Epoch: 16 Training accuracy: 99.47\n",
            "Testing accuracy: 67.1\n",
            "-------------------------------------------------\n",
            "Round 5\n",
            "-------------------------------------------------\n",
            "Number of training points - 10000\n",
            "Epoch: 17 Training accuracy: 99.38\n",
            "Testing accuracy: 66.5\n",
            "-------------------------------------------------\n",
            "Round 6\n",
            "-------------------------------------------------\n",
            "Number of training points - 11000\n",
            "Epoch: 14 Training accuracy: 99.06\n",
            "Testing accuracy: 68.2\n",
            "-------------------------------------------------\n",
            "Round 7\n",
            "-------------------------------------------------\n",
            "Number of training points - 12000\n",
            "Epoch: 14 Training accuracy: 99.33\n",
            "Testing accuracy: 66.9\n",
            "-------------------------------------------------\n",
            "Round 8\n",
            "-------------------------------------------------\n",
            "Number of training points - 13000\n",
            "Epoch: 18 Training accuracy: 99.25\n",
            "Testing accuracy: 68.6\n",
            "-------------------------------------------------\n",
            "Round 9\n",
            "-------------------------------------------------\n",
            "Number of training points - 14000\n",
            "Epoch: 14 Training accuracy: 99.04\n",
            "Testing accuracy: 70.8\n",
            "Training Completed\n"
          ],
          "name": "stdout"
        }
      ]
    },
    {
      "cell_type": "markdown",
      "metadata": {
        "id": "BAGqAV0GrwwN"
      },
      "source": [
        "**BADGE SAMPLING**"
      ]
    },
    {
      "cell_type": "code",
      "metadata": {
        "colab": {
          "base_uri": "https://localhost:8080/"
        },
        "id": "yE1XYS29g0rD",
        "outputId": "7a7ab01e-8f08-40be-d0c6-44409600c86a"
      },
      "source": [
        "strategy_args = {'batch_size' : 1000}\r\n",
        "strategy = BADGE(X_tr, y_tr, X_unlabeled, net, handler, nclasses, strategy_args)\r\n",
        "\r\n",
        "args = {'n_epoch':150, 'lr':float(0.001), 'batch_size':128} \r\n",
        "dt = data_train(X_tr, y_tr, net, handler, args)\r\n",
        "clf = dt.train()\r\n",
        "strategy.update_model(clf)\r\n",
        "y_pred = strategy.predict(X_test).numpy()\r\n",
        "acc = np.zeros(n_rounds)\r\n",
        "acc[0] = (1.0*(y_test == y_pred)).sum().item() / len(y_test)\r\n",
        "print('Initial Testing accuracy:', round(acc[0]*100, 2), flush=True)\r\n",
        "\r\n",
        "##User Controlled Loop\r\n",
        "for rd in range(1, n_rounds):\r\n",
        "    print('-------------------------------------------------')\r\n",
        "    print('Round', rd) \r\n",
        "    print('-------------------------------------------------')\r\n",
        "    idx = strategy.select(budget)\r\n",
        "    strategy.save_state()\r\n",
        "\r\n",
        "    #Adding new points to training set\r\n",
        "    X_tr = np.concatenate((X_tr, X_unlabeled[idx]), axis=0)\r\n",
        "    X_unlabeled = np.delete(X_unlabeled, idx, axis = 0)\r\n",
        "\r\n",
        "    #Human In Loop, Assuming user adds new labels here\r\n",
        "    y_tr = np.concatenate((y_tr, y_unlabeled[idx]), axis = 0)\r\n",
        "    y_unlabeled = np.delete(y_unlabeled, idx, axis = 0)\r\n",
        "    print('Number of training points -',X_tr.shape[0])\r\n",
        "\r\n",
        "    #Reload state and start training\r\n",
        "    strategy.load_state()\r\n",
        "    strategy.update_data(X_tr, y_tr, X_unlabeled)\r\n",
        "    dt.update_data(X_tr, y_tr)\r\n",
        "\r\n",
        "    clf = dt.train()\r\n",
        "    strategy.update_model(clf)\r\n",
        "    y_pred = strategy.predict(X_test).numpy()\r\n",
        "    acc[rd] = round((1.0*(y_test == y_pred)).sum().item() / len(y_test), 3)\r\n",
        "    print('Testing accuracy:', round(acc[rd]*100, 2), flush=True)\r\n",
        "    if acc[rd] > 0.98:\r\n",
        "        print('Testing accuracy reached above 98%, stopping training!')\r\n",
        "        break\r\n",
        "        \r\n",
        "print('Training Completed')\r\n",
        "with open('/content/badge.txt', 'w') as f:\r\n",
        "    for item in acc:\r\n",
        "        f.write(\"%s\\n\" % item)"
      ],
      "execution_count": 6,
      "outputs": [
        {
          "output_type": "stream",
          "text": [
            "Epoch: 21 Training accuracy: 99.08\n",
            "Initial Testing accuracy: 62.8\n",
            "-------------------------------------------------\n",
            "Round 1\n",
            "-------------------------------------------------\n",
            "Number of training points - 6000\n",
            "Epoch: 17 Training accuracy: 99.18\n",
            "Testing accuracy: 61.4\n",
            "-------------------------------------------------\n",
            "Round 2\n",
            "-------------------------------------------------\n",
            "Number of training points - 7000\n",
            "Epoch: 25 Training accuracy: 99.3\n",
            "Testing accuracy: 65.9\n",
            "-------------------------------------------------\n",
            "Round 3\n",
            "-------------------------------------------------\n",
            "Number of training points - 8000\n",
            "Epoch: 17 Training accuracy: 99.22\n",
            "Testing accuracy: 65.4\n",
            "-------------------------------------------------\n",
            "Round 4\n",
            "-------------------------------------------------\n",
            "Number of training points - 9000\n",
            "Epoch: 15 Training accuracy: 99.31\n",
            "Testing accuracy: 66.9\n",
            "-------------------------------------------------\n",
            "Round 5\n",
            "-------------------------------------------------\n",
            "Number of training points - 10000\n",
            "Epoch: 18 Training accuracy: 99.01\n",
            "Testing accuracy: 68.5\n",
            "-------------------------------------------------\n",
            "Round 6\n",
            "-------------------------------------------------\n",
            "Number of training points - 11000\n",
            "Epoch: 16 Training accuracy: 99.46\n",
            "Testing accuracy: 69.5\n",
            "-------------------------------------------------\n",
            "Round 7\n",
            "-------------------------------------------------\n",
            "Number of training points - 12000\n",
            "Epoch: 14 Training accuracy: 99.33\n",
            "Testing accuracy: 70.5\n",
            "-------------------------------------------------\n",
            "Round 8\n",
            "-------------------------------------------------\n",
            "Number of training points - 13000\n",
            "Epoch: 14 Training accuracy: 99.46\n",
            "Testing accuracy: 70.3\n",
            "-------------------------------------------------\n",
            "Round 9\n",
            "-------------------------------------------------\n",
            "Number of training points - 14000\n",
            "Epoch: 22 Training accuracy: 99.46\n",
            "Testing accuracy: 71.4\n",
            "Training Completed\n"
          ],
          "name": "stdout"
        }
      ]
    },
    {
      "cell_type": "markdown",
      "metadata": {
        "id": "DuIa_yJdiDOh"
      },
      "source": [
        "**GLISTER-ACTIVE**"
      ]
    },
    {
      "cell_type": "code",
      "metadata": {
        "colab": {
          "base_uri": "https://localhost:8080/"
        },
        "id": "4TS2ZbQcV7KM",
        "outputId": "746c7824-61e3-499a-c912-c7875c2872ef"
      },
      "source": [
        "import warnings\r\n",
        "warnings.filterwarnings(\"ignore\")\r\n",
        "strategy_args = {'batch_size' : 1000, 'lr':float(0.001)}\r\n",
        "strategy = GLISTER(X_tr, y_tr, X_unlabeled, net, handler, nclasses, strategy_args,valid=False, typeOf='rand', lam=0.1)\r\n",
        "\r\n",
        "args = {'n_epoch':150, 'lr':float(0.001), 'batch_size':128} \r\n",
        "dt = data_train(X_tr, y_tr, net, handler, args)\r\n",
        "clf = dt.train()\r\n",
        "strategy.update_model(clf)\r\n",
        "y_pred = strategy.predict(X_test).numpy()\r\n",
        "acc = np.zeros(n_rounds)\r\n",
        "acc[0] = (1.0*(y_test == y_pred)).sum().item() / len(y_test)\r\n",
        "print('Initial Testing accuracy:', round(acc[0]*100, 2), flush=True)\r\n",
        "\r\n",
        "##User Controlled Loop\r\n",
        "for rd in range(1, n_rounds):\r\n",
        "    print('-------------------------------------------------')\r\n",
        "    print('Round', rd) \r\n",
        "    print('-------------------------------------------------')\r\n",
        "    idx = strategy.select(budget)\r\n",
        "    strategy.save_state()\r\n",
        "\r\n",
        "    #Adding new points to training set\r\n",
        "    X_tr = np.concatenate((X_tr, X_unlabeled[idx]), axis=0)\r\n",
        "    X_unlabeled = np.delete(X_unlabeled, idx, axis = 0)\r\n",
        "\r\n",
        "    #Human In Loop, Assuming user adds new labels here\r\n",
        "    y_tr = np.concatenate((y_tr, y_unlabeled[idx]), axis = 0)\r\n",
        "    y_unlabeled = np.delete(y_unlabeled, idx, axis = 0)\r\n",
        "    print('Number of training points -',X_tr.shape[0])\r\n",
        "\r\n",
        "    #Reload state and start training\r\n",
        "    strategy.load_state()\r\n",
        "    strategy.update_data(X_tr, y_tr, X_unlabeled)\r\n",
        "    dt.update_data(X_tr, y_tr)\r\n",
        "\r\n",
        "    clf = dt.train()\r\n",
        "    strategy.update_model(clf)\r\n",
        "    y_pred = strategy.predict(X_test).numpy()\r\n",
        "    acc[rd] = round((1.0*(y_test == y_pred)).sum().item() / len(y_test), 3)\r\n",
        "    print('Testing accuracy:', round(acc[rd]*100, 2), flush=True)\r\n",
        "    if acc[rd] > 0.98:\r\n",
        "        print('Testing accuracy reached above 98%, stopping training!')\r\n",
        "        break\r\n",
        "        \r\n",
        "print('Training Completed')\r\n",
        "with open('/content/glister.txt', 'w') as f:\r\n",
        "    for item in acc:\r\n",
        "        f.write(\"%s\\n\" % item)"
      ],
      "execution_count": 39,
      "outputs": [
        {
          "output_type": "stream",
          "text": [
            "Epoch: 24 Training accuracy: 99.18\n",
            "Initial Testing accuracy: 62.94\n",
            "-------------------------------------------------\n",
            "Round 1\n",
            "-------------------------------------------------\n",
            "Number of training points - 6000\n",
            "Epoch: 20 Training accuracy: 99.13\n",
            "Testing accuracy: 63.7\n",
            "-------------------------------------------------\n",
            "Round 2\n",
            "-------------------------------------------------\n",
            "Number of training points - 7000\n",
            "Epoch: 18 Training accuracy: 99.31\n",
            "Testing accuracy: 63.9\n",
            "-------------------------------------------------\n",
            "Round 3\n",
            "-------------------------------------------------\n",
            "Number of training points - 8000\n",
            "Epoch: 16 Training accuracy: 99.1\n",
            "Testing accuracy: 64.1\n",
            "-------------------------------------------------\n",
            "Round 4\n",
            "-------------------------------------------------\n",
            "Number of training points - 9000\n",
            "Epoch: 19 Training accuracy: 99.31\n",
            "Testing accuracy: 67.1\n",
            "-------------------------------------------------\n",
            "Round 5\n",
            "-------------------------------------------------\n",
            "Number of training points - 10000\n",
            "Epoch: 16 Training accuracy: 99.64\n",
            "Testing accuracy: 67.2\n",
            "-------------------------------------------------\n",
            "Round 6\n",
            "-------------------------------------------------\n",
            "Number of training points - 11000\n",
            "Epoch: 14 Training accuracy: 99.08\n",
            "Testing accuracy: 67.5\n",
            "-------------------------------------------------\n",
            "Round 7\n",
            "-------------------------------------------------\n",
            "Number of training points - 12000\n",
            "Epoch: 24 Training accuracy: 99.3\n",
            "Testing accuracy: 66.8\n",
            "-------------------------------------------------\n",
            "Round 8\n",
            "-------------------------------------------------\n",
            "Number of training points - 13000\n",
            "Epoch: 18 Training accuracy: 99.02\n",
            "Testing accuracy: 65.4\n",
            "-------------------------------------------------\n",
            "Round 9\n",
            "-------------------------------------------------\n",
            "Number of training points - 14000\n",
            "Epoch: 17 Training accuracy: 99.14\n",
            "Testing accuracy: 68.8\n",
            "Training Completed\n"
          ],
          "name": "stdout"
        }
      ]
    },
    {
      "cell_type": "markdown",
      "metadata": {
        "id": "W-Bxn6LmCeEI"
      },
      "source": [
        "**RANDOM SAMPLING**"
      ]
    },
    {
      "cell_type": "code",
      "metadata": {
        "colab": {
          "base_uri": "https://localhost:8080/"
        },
        "id": "j8OdeQ63DZuP",
        "outputId": "75a0e7c6-4a21-469c-891a-6241566ce6f8"
      },
      "source": [
        "#Initializing Strategy Class\r\n",
        "strategy_args = {'batch_size' : 1000}\r\n",
        "strategy = RandomSampling(X_tr, y_tr, X_unlabeled, net, handler, nclasses, strategy_args)\r\n",
        "\r\n",
        "#Initial Training\r\n",
        "args = {'n_epoch':150, 'lr':float(0.001), 'batch_size':128} \r\n",
        "dt = data_train(X_tr, y_tr, net, handler, args)\r\n",
        "clf = dt.train()\r\n",
        "\r\n",
        "#Updating the trained model in strategy class\r\n",
        "strategy.update_model(clf)\r\n",
        "\r\n",
        "y_pred = strategy.predict(X_test).numpy()\r\n",
        "acc = np.zeros(n_rounds)\r\n",
        "acc[0] = (1.0*(y_test == y_pred)).sum().item() / len(y_test)\r\n",
        "print('Initial Testing accuracy:', round(acc[0]*100, 2), flush=True)\r\n",
        "\r\n",
        "##User Controlled Loop\r\n",
        "for rd in range(1, n_rounds):\r\n",
        "    print('-------------------------------------------------')\r\n",
        "    print('Round', rd) \r\n",
        "    print('-------------------------------------------------')\r\n",
        "\r\n",
        "    #Using select function for getting next set of data points\r\n",
        "    idx = strategy.select(budget)\r\n",
        "\r\n",
        "    #Saving state of model, since labeling new points might take time\r\n",
        "    strategy.save_state()\r\n",
        "\r\n",
        "    #Adding new points to training set\r\n",
        "    X_tr = np.concatenate((X_tr, X_unlabeled[idx]), axis=0)\r\n",
        "    X_unlabeled = np.delete(X_unlabeled, idx, axis = 0)\r\n",
        "\r\n",
        "    #Human In Loop, Assuming user adds new labels here\r\n",
        "    y_tr = np.concatenate((y_tr, y_unlabeled[idx]), axis = 0)\r\n",
        "    y_unlabeled = np.delete(y_unlabeled, idx, axis = 0)\r\n",
        "    print('Number of training points -',X_tr.shape[0])\r\n",
        "\r\n",
        "    #Reload state and start training\r\n",
        "    strategy.load_state()\r\n",
        "    strategy.update_data(X_tr, y_tr, X_unlabeled)\r\n",
        "    dt.update_data(X_tr, y_tr)\r\n",
        "\r\n",
        "    clf = dt.train()\r\n",
        "    strategy.update_model(clf)\r\n",
        "    y_pred = strategy.predict(X_test).numpy()\r\n",
        "    acc[rd] = round((1.0*(y_test == y_pred)).sum().item() / len(y_test), 3)\r\n",
        "    print('Testing accuracy:', round(acc[rd]*100, 2), flush=True)\r\n",
        "    if acc[rd] > 0.98:\r\n",
        "        print('Testing accuracy reached above 98%, stopping training!')\r\n",
        "        break\r\n",
        "\r\n",
        "print('Training Completed')\r\n",
        "\r\n",
        "#Saving accuracies for further analysis\r\n",
        "with open('/content/random.txt', 'w') as f:\r\n",
        "    for item in acc:\r\n",
        "        f.write(\"%s\\n\" % item)"
      ],
      "execution_count": 52,
      "outputs": [
        {
          "output_type": "stream",
          "text": [
            "Epoch: 32 Training accuracy: 99.48\n",
            "Initial Testing accuracy: 62.92\n",
            "-------------------------------------------------\n",
            "Round 1\n",
            "-------------------------------------------------\n",
            "Number of training points - 6000\n",
            "Epoch: 17 Training accuracy: 99.32\n",
            "Testing accuracy: 62.1\n",
            "-------------------------------------------------\n",
            "Round 2\n",
            "-------------------------------------------------\n",
            "Number of training points - 7000\n",
            "Epoch: 17 Training accuracy: 99.11\n",
            "Testing accuracy: 63.6\n",
            "-------------------------------------------------\n",
            "Round 3\n",
            "-------------------------------------------------\n",
            "Number of training points - 8000\n",
            "Epoch: 20 Training accuracy: 99.6\n",
            "Testing accuracy: 65.8\n",
            "-------------------------------------------------\n",
            "Round 4\n",
            "-------------------------------------------------\n",
            "Number of training points - 9000\n",
            "Epoch: 16 Training accuracy: 99.47\n",
            "Testing accuracy: 66.8\n",
            "-------------------------------------------------\n",
            "Round 5\n",
            "-------------------------------------------------\n",
            "Number of training points - 10000\n",
            "Epoch: 14 Training accuracy: 99.13\n",
            "Testing accuracy: 68.1\n",
            "-------------------------------------------------\n",
            "Round 6\n",
            "-------------------------------------------------\n",
            "Number of training points - 11000\n",
            "Epoch: 14 Training accuracy: 99.41\n",
            "Testing accuracy: 66.9\n",
            "-------------------------------------------------\n",
            "Round 7\n",
            "-------------------------------------------------\n",
            "Number of training points - 12000\n",
            "Epoch: 12 Training accuracy: 99.04\n",
            "Testing accuracy: 69.2\n",
            "-------------------------------------------------\n",
            "Round 8\n",
            "-------------------------------------------------\n",
            "Number of training points - 13000\n",
            "Epoch: 18 Training accuracy: 99.3\n",
            "Testing accuracy: 67.5\n",
            "-------------------------------------------------\n",
            "Round 9\n",
            "-------------------------------------------------\n",
            "Number of training points - 14000\n",
            "Epoch: 21 Training accuracy: 99.2\n",
            "Testing accuracy: 69.4\n",
            "Training Completed\n"
          ],
          "name": "stdout"
        }
      ]
    },
    {
      "cell_type": "markdown",
      "metadata": {
        "id": "jNZjPPO7java"
      },
      "source": [
        "**VISUALISATION**"
      ]
    },
    {
      "cell_type": "code",
      "metadata": {
        "colab": {
          "base_uri": "https://localhost:8080/",
          "height": 312
        },
        "id": "_CSQpVO4QnZ3",
        "outputId": "eb3d370b-6612-40ee-e8b6-d205b927d90d"
      },
      "source": [
        "#Loading accuracies\r\n",
        "with open('/content/entropy.txt') as f:\r\n",
        "  acc_ = f.readlines()\r\n",
        "acc_en = [round(float(x)*100, 2) for x in acc_]\r\n",
        "with open('/content/badge.txt') as f:\r\n",
        "  acc_ = f.readlines()\r\n",
        "acc_bd = [round(float(x)*100, 2) for x in acc_]\r\n",
        "with open('/content/glister.txt') as f:\r\n",
        "  acc_ = f.readlines()\r\n",
        "acc_gl = [round(float(x)*100, 2) for x in acc_]\r\n",
        "with open('/content/random.txt') as f:\r\n",
        "  acc_ = f.readlines()\r\n",
        "acc_rd = [round(float(x)*100, 2) for x in acc_]\r\n",
        "\r\n",
        "#Plotting\r\n",
        "import matplotlib.pyplot as plt\r\n",
        "n_rounds = 9\r\n",
        "x_axis = np.array([budget for i in range(n_rounds+1)])\r\n",
        "x_axis = x_axis*np.array([i for i in range(1,n_rounds+2)])\r\n",
        "plt.figure()\r\n",
        "plt.plot(x_axis, acc_gl, 'b-', label='GLISTER ACTIVE',marker='o')\r\n",
        "plt.plot(x_axis, acc_en, 'g-', label='UNCERTAINITY',marker='o')\r\n",
        "plt.plot(x_axis, acc_bd, 'c', label='BADGE',marker='o')\r\n",
        "plt.plot(x_axis, acc_rd, 'm', label='RANDOM',marker='o')\r\n",
        "\r\n",
        "\r\n",
        "plt.legend()\r\n",
        "plt.xlabel('No of Images')\r\n",
        "plt.ylabel('Test Accuracy')\r\n",
        "plt.title('DISTIL_CIFAR10')"
      ],
      "execution_count": 59,
      "outputs": [
        {
          "output_type": "execute_result",
          "data": {
            "text/plain": [
              "Text(0.5, 1.0, 'DISTIL_CIFAR10')"
            ]
          },
          "metadata": {
            "tags": []
          },
          "execution_count": 59
        },
        {
          "output_type": "display_data",
          "data": {
            "image/png": "[encoded data removed]",
            "text/plain": [
              "<Figure size 432x288 with 1 Axes>"
            ]
          },
          "metadata": {
            "tags": [],
            "needs_background": "light"
          }
        }
      ]
    }
  ]
}