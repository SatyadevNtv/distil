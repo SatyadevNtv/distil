{
 "cells": [
  {
   "cell_type": "markdown",
   "metadata": {
    "id": "K8AxA7KVfv9m"
   },
   "source": [
    "**Distil Installation**"
   ]
  },
  {
   "cell_type": "code",
   "execution_count": null,
   "metadata": {
    "colab": {
     "base_uri": "https://localhost:8080/"
    },
    "id": "9bsVDupO_EOh",
    "outputId": "f43d3545-53cc-408c-f677-a6400f0d94d5"
   },
   "outputs": [
    {
     "name": "stdout",
     "output_type": "stream",
     "text": [
      "Cloning into 'distil'...\n",
      "remote: Enumerating objects: 41, done.\u001b[K\n",
      "remote: Counting objects: 100% (41/41), done.\u001b[K\n",
      "remote: Compressing objects: 100% (30/30), done.\u001b[K\n",
      "remote: Total 980 (delta 19), reused 26 (delta 11), pack-reused 939\u001b[K\n",
      "Receiving objects: 100% (980/980), 13.46 MiB | 29.50 MiB/s, done.\n",
      "Resolving deltas: 100% (527/527), done.\n",
      "Collecting apricot-select\n",
      "  Downloading https://files.pythonhosted.org/packages/b8/96/7d9aec6ab622449aad7556101e90c2ef67b72b7cf33ded6cc9326a41e169/apricot-select-0.6.1.tar.gz\n",
      "Requirement already satisfied: numpy>=1.14.2 in /usr/local/lib/python3.7/dist-packages (from apricot-select) (1.19.5)\n",
      "Requirement already satisfied: scipy>=1.0.0 in /usr/local/lib/python3.7/dist-packages (from apricot-select) (1.4.1)\n",
      "Requirement already satisfied: numba>=0.43.0 in /usr/local/lib/python3.7/dist-packages (from apricot-select) (0.51.2)\n",
      "Requirement already satisfied: tqdm>=4.24.0 in /usr/local/lib/python3.7/dist-packages (from apricot-select) (4.41.1)\n",
      "Collecting nose\n",
      "\u001b[?25l  Downloading https://files.pythonhosted.org/packages/15/d8/dd071918c040f50fa1cf80da16423af51ff8ce4a0f2399b7bf8de45ac3d9/nose-1.3.7-py3-none-any.whl (154kB)\n",
      "\u001b[K     |████████████████████████████████| 163kB 12.1MB/s \n",
      "\u001b[?25hRequirement already satisfied: llvmlite<0.35,>=0.34.0.dev0 in /usr/local/lib/python3.7/dist-packages (from numba>=0.43.0->apricot-select) (0.34.0)\n",
      "Requirement already satisfied: setuptools in /usr/local/lib/python3.7/dist-packages (from numba>=0.43.0->apricot-select) (54.0.0)\n",
      "Building wheels for collected packages: apricot-select\n",
      "  Building wheel for apricot-select (setup.py) ... \u001b[?25l\u001b[?25hdone\n",
      "  Created wheel for apricot-select: filename=apricot_select-0.6.1-cp37-none-any.whl size=48789 sha256=0803eb81da25ba34fb7a1a0337bfeb07a113cb0d4944fd5f4f6bd9dd04c2417f\n",
      "  Stored in directory: /root/.cache/pip/wheels/27/53/c1/67fd7b8bd5be9d506fdac6bb9b73b5c69734da8210833998fa\n",
      "Successfully built apricot-select\n",
      "Installing collected packages: nose, apricot-select\n",
      "Successfully installed apricot-select-0.6.1 nose-1.3.7\n",
      "/content/distil/examples\n"
     ]
    }
   ],
   "source": [
    "!git clone https://github.com/decile-team/distil.git\n",
    "!pip install apricot-select\n",
    "%cd distil/examples/"
   ]
  },
  {
   "cell_type": "markdown",
   "metadata": {
    "id": "kchiw_zcf4tE"
   },
   "source": [
    "**Imports**"
   ]
  },
  {
   "cell_type": "code",
   "execution_count": null,
   "metadata": {
    "colab": {
     "base_uri": "https://localhost:8080/"
    },
    "id": "X7l1LUx6CSyx",
    "outputId": "3a1cf00c-9401-4c6d-c323-c9a4f7fbf771"
   },
   "outputs": [
    {
     "name": "stderr",
     "output_type": "stream",
     "text": [
      "/usr/local/lib/python3.7/dist-packages/numba/np/ufunc/parallel.py:363: NumbaWarning: The TBB threading layer requires TBB version 2019.5 or later i.e., TBB_INTERFACE_VERSION >= 11005. Found TBB_INTERFACE_VERSION = 9107. The TBB threading layer is disabled.\n",
      "  warnings.warn(problem)\n"
     ]
    }
   ],
   "source": [
    "import pandas as pd \n",
    "import numpy as np\n",
    "from torch.utils.data import Dataset\n",
    "from torch.utils.data import DataLoader\n",
    "import torch.nn.functional as F\n",
    "from torch import nn\n",
    "from torchvision import transforms\n",
    "import torch\n",
    "import torch.optim as optim\n",
    "from torch.autograd import Variable\n",
    "import sys\n",
    "sys.path.append('../')\n",
    "from distil.active_learning_strategies import EntropySampling, BADGE,GLISTER, RandomSampling\n",
    "from distil.utils.models.mnist_net import MnistNet\n",
    "from distil.utils.models.cifar10net import CifarNet\n",
    "from distil.utils.models.resnet import ResNet18\n",
    "from distil.utils.data_handler import DataHandler_MNIST, DataHandler_CIFAR10\n",
    "from distil.utils.dataset import get_dataset\n",
    "from distil.utils.train_helper import data_train"
   ]
  },
  {
   "cell_type": "markdown",
   "metadata": {
    "id": "Vvn_Dal4gb8S"
   },
   "source": [
    "**Data & Model Configuration**\n",
    "\n",
    "The CIFAR-10 dataset contains 60,000 32x32 color images in 10 different classes.The 10 different classes represent airplanes, cars, birds, cats, deer, dogs, frogs, horses, ships, and trucks. There are 6,000 images of each class. The training set contains 50,000 images and test set contains 10,000 images. We will use DISTIL's custom data handler for CIFAR10:- DataHandler_CIFAR10 to load the labeled as well as unlabeled data."
   ]
  },
  {
   "cell_type": "code",
   "execution_count": null,
   "metadata": {
    "colab": {
     "base_uri": "https://localhost:8080/"
    },
    "id": "jdLy9wyjCuT-",
    "outputId": "6513a4f3-d0d0-41a3-d6d5-fb2c6bee477d"
   },
   "outputs": [
    {
     "name": "stdout",
     "output_type": "stream",
     "text": [
      "Files already downloaded and verified\n",
      "Files already downloaded and verified\n"
     ]
    }
   ],
   "source": [
    "data_set_name = 'CIFAR10'\n",
    "download_path = '../downloaded_data/'\n",
    "X, y, X_test, y_test = get_dataset(data_set_name, download_path)\n",
    "dim = np.shape(X)[1:]\n",
    "handler = DataHandler_CIFAR10\n",
    "\n",
    "X_tr = X[:5000]\n",
    "y_tr = y[:5000]\n",
    "X_unlabeled = X[5000:]\n",
    "y_unlabeled = y[5000:]\n",
    "\n",
    "X_test = X_test\n",
    "y_test = y_test.numpy()\n",
    "\n",
    "nclasses = 10\n",
    "n_rounds = 10    ##Number of rounds to run active learning\n",
    "budget = 1000 \n",
    "\n",
    "net = ResNet18()"
   ]
  },
  {
   "cell_type": "markdown",
   "metadata": {
    "id": "W-Bxn6LmCeEI"
   },
   "source": [
    "# **RANDOM SAMPLING**\n",
    "This strategy is often used as a baseline, where we pick a set of unlabled points randomly. Here we create a instance of distil.active_learning_strategies.random_sampling.RandomSampling by passing following parameters:\n",
    "\n",
    "**X (Numpy array)** – Features of the labled set of points\n",
    "\n",
    "**Y (Numpy array)** – Lables of the labled set of points\n",
    "\n",
    "**unlabeled_x (Numpy array)** – Features of the unlabled set of points\n",
    "\n",
    "**net (class object)** – Model architecture used for training. Could be instance of models defined in distil.utils.models or something similar.\n",
    "\n",
    "**handler (class object)** – It should be a subclass of torch.utils.data.Dataset i.e, have __getitem__ and __len__ methods implemented, so that is could be passed to pytorch DataLoader.Could be instance of handlers defined in distil.utils.DataHandler or something similar.\n",
    "\n",
    "**nclasses (int)** – No. of classes in tha dataset\n",
    "\n",
    "**args (dictionary)**– This dictionary should have ‘batch_size’ as a key. 'batch_size' should be such that one can exploit the benefits of tensorization while honouring the resourse constraits. This ‘batch_size’ therefore can be different than the one used for training.\n",
    "\n",
    "We initally pass None for X,Y and unlabeled_x. Later we update using update functions of training class and RandomSampling class. \n"
   ]
  },
  {
   "cell_type": "code",
   "execution_count": null,
   "metadata": {
    "colab": {
     "base_uri": "https://localhost:8080/"
    },
    "id": "j8OdeQ63DZuP",
    "outputId": "75a0e7c6-4a21-469c-891a-6241566ce6f8"
   },
   "outputs": [
    {
     "name": "stdout",
     "output_type": "stream",
     "text": [
      "Epoch: 32 Training accuracy: 99.48\n",
      "Initial Testing accuracy: 62.92\n",
      "-------------------------------------------------\n",
      "Round 1\n",
      "-------------------------------------------------\n",
      "Number of training points - 6000\n",
      "Epoch: 17 Training accuracy: 99.32\n",
      "Testing accuracy: 62.1\n",
      "-------------------------------------------------\n",
      "Round 2\n",
      "-------------------------------------------------\n",
      "Number of training points - 7000\n",
      "Epoch: 17 Training accuracy: 99.11\n",
      "Testing accuracy: 63.6\n",
      "-------------------------------------------------\n",
      "Round 3\n",
      "-------------------------------------------------\n",
      "Number of training points - 8000\n",
      "Epoch: 20 Training accuracy: 99.6\n",
      "Testing accuracy: 65.8\n",
      "-------------------------------------------------\n",
      "Round 4\n",
      "-------------------------------------------------\n",
      "Number of training points - 9000\n",
      "Epoch: 16 Training accuracy: 99.47\n",
      "Testing accuracy: 66.8\n",
      "-------------------------------------------------\n",
      "Round 5\n",
      "-------------------------------------------------\n",
      "Number of training points - 10000\n",
      "Epoch: 14 Training accuracy: 99.13\n",
      "Testing accuracy: 68.1\n",
      "-------------------------------------------------\n",
      "Round 6\n",
      "-------------------------------------------------\n",
      "Number of training points - 11000\n",
      "Epoch: 14 Training accuracy: 99.41\n",
      "Testing accuracy: 66.9\n",
      "-------------------------------------------------\n",
      "Round 7\n",
      "-------------------------------------------------\n",
      "Number of training points - 12000\n",
      "Epoch: 12 Training accuracy: 99.04\n",
      "Testing accuracy: 69.2\n",
      "-------------------------------------------------\n",
      "Round 8\n",
      "-------------------------------------------------\n",
      "Number of training points - 13000\n",
      "Epoch: 18 Training accuracy: 99.3\n",
      "Testing accuracy: 67.5\n",
      "-------------------------------------------------\n",
      "Round 9\n",
      "-------------------------------------------------\n",
      "Number of training points - 14000\n",
      "Epoch: 21 Training accuracy: 99.2\n",
      "Testing accuracy: 69.4\n",
      "Training Completed\n"
     ]
    }
   ],
   "source": [
    "#Initializing Strategy Class\n",
    "strategy_args = {'batch_size' : 1000}\n",
    "strategy = RandomSampling(X_tr, y_tr, X_unlabeled, net, handler, nclasses, strategy_args)\n",
    "\n",
    "#Initial Training\n",
    "args = {'n_epoch':150, 'lr':float(0.001), 'batch_size':128} \n",
    "dt = data_train(X_tr, y_tr, net, handler, args)\n",
    "clf = dt.train()\n",
    "\n",
    "#Updating the trained model in strategy class\n",
    "strategy.update_model(clf)\n",
    "\n",
    "y_pred = strategy.predict(X_test).numpy()\n",
    "acc = np.zeros(n_rounds)\n",
    "acc[0] = (1.0*(y_test == y_pred)).sum().item() / len(y_test)\n",
    "print('Initial Testing accuracy:', round(acc[0]*100, 2), flush=True)\n",
    "\n",
    "##User Controlled Loop\n",
    "for rd in range(1, n_rounds):\n",
    "    print('-------------------------------------------------')\n",
    "    print('Round', rd) \n",
    "    print('-------------------------------------------------')\n",
    "\n",
    "    #Using select function for getting next set of data points\n",
    "    idx = strategy.select(budget)\n",
    "\n",
    "    #Saving state of model, since labeling new points might take time\n",
    "    strategy.save_state('./state.pkl')\n",
    "\n",
    "    #Adding new points to training set\n",
    "    X_tr = np.concatenate((X_tr, X_unlabeled[idx]), axis=0)\n",
    "    X_unlabeled = np.delete(X_unlabeled, idx, axis = 0)\n",
    "\n",
    "    #Human In Loop, Assuming user adds new labels here\n",
    "    y_tr = np.concatenate((y_tr, y_unlabeled[idx]), axis = 0)\n",
    "    y_unlabeled = np.delete(y_unlabeled, idx, axis = 0)\n",
    "    print('Number of training points -',X_tr.shape[0])\n",
    "\n",
    "    #Reload state and start training\n",
    "    strategy.load_state('./state.pkl')\n",
    "    strategy.update_data(X_tr, y_tr, X_unlabeled)\n",
    "    dt.update_data(X_tr, y_tr)\n",
    "\n",
    "    clf = dt.train()\n",
    "    strategy.update_model(clf)\n",
    "    y_pred = strategy.predict(X_test).numpy()\n",
    "    acc[rd] = round((1.0*(y_test == y_pred)).sum().item() / len(y_test), 3)\n",
    "    print('Testing accuracy:', round(acc[rd]*100, 2), flush=True)\n",
    "    if acc[rd] > 0.98:\n",
    "        print('Testing accuracy reached above 98%, stopping training!')\n",
    "        break\n",
    "\n",
    "print('Training Completed')\n",
    "\n",
    "#Saving accuracies for further analysis\n",
    "with open('/content/random.txt', 'w') as f:\n",
    "    for item in acc:\n",
    "        f.write(\"%s\\n\" % item)"
   ]
  },
  {
   "cell_type": "markdown",
   "metadata": {
    "id": "jm_ILTinrkLk"
   },
   "source": [
    "# **Uncertanity based Active learning Strategy**\n",
    "\n",
    "The most basic active learning strategy, where we select samples about which the model is most uncertain. To quantify the uncertainity we use entropy, therefore select points which have maximum entropy. Let $z_i$ be output from the model then the correponding softmax would be $$\\sigma(z_i) = \\frac{e^{z_i}}{\\sum_j e^{z_j}}$$. Then entropy can be calculated as, $$ENTROPY = -\\sum_j \\sigma(z_j)*log(\\sigma(z_i))$$\n",
    "\n",
    "Here we create a instance of distil.active_learning_strategies.entropy_sampling.EntropySampling with same parameters passed to distil.active_learning_strategies.random_sampling.RandomSampling."
   ]
  },
  {
   "cell_type": "code",
   "execution_count": null,
   "metadata": {
    "colab": {
     "base_uri": "https://localhost:8080/"
    },
    "id": "DwgnCuSlrO2V",
    "outputId": "1b67f8fd-5b3f-47f1-8767-e23326c493b6"
   },
   "outputs": [
    {
     "name": "stdout",
     "output_type": "stream",
     "text": [
      "Training..\n",
      "Epoch: 15 Training accuracy: 0.961\n",
      "Initial Testing accuracy: 56.19\n",
      "-------------------------------------------------\n",
      "Round 1\n",
      "-------------------------------------------------\n",
      "Number of training points - 6000\n",
      "Training..\n",
      "Epoch: 15 Training accuracy: 0.956\n",
      "Testing accuracy: 59.0\n",
      "-------------------------------------------------\n",
      "Round 2\n",
      "-------------------------------------------------\n",
      "Number of training points - 7000\n",
      "Training..\n",
      "Epoch: 16 Training accuracy: 0.973\n",
      "Testing accuracy: 60.0\n",
      "-------------------------------------------------\n",
      "Round 3\n",
      "-------------------------------------------------\n",
      "Number of training points - 8000\n",
      "Training..\n"
     ]
    }
   ],
   "source": [
    "#Initializing Strategy Class\n",
    "strategy_args = {'batch_size' : 1000}\n",
    "strategy = EntropySampling(X_tr, y_tr, X_unlabeled, net, handler, nclasses, strategy_args)\n",
    "\n",
    "#Initial Training\n",
    "args = {'n_epoch':150, 'lr':float(0.001), 'batch_size':128} \n",
    "dt = data_train(X_tr, y_tr, net, handler, args)\n",
    "clf = dt.train()\n",
    "\n",
    "#Updating the trained model in strategy class\n",
    "strategy.update_model(clf)\n",
    "\n",
    "y_pred = strategy.predict(X_test).numpy()\n",
    "acc = np.zeros(n_rounds)\n",
    "acc[0] = (1.0*(y_test == y_pred)).sum().item() / len(y_test)\n",
    "print('Initial Testing accuracy:', round(acc[0]*100, 2), flush=True)\n",
    "\n",
    "##User Controlled Loop\n",
    "for rd in range(1, n_rounds):\n",
    "    print('-------------------------------------------------')\n",
    "    print('Round', rd) \n",
    "    print('-------------------------------------------------')\n",
    "\n",
    "    #Using select function for getting next set of data points\n",
    "    idx = strategy.select(budget)\n",
    "\n",
    "    #Saving state of model, since labeling new points might take time\n",
    "    strategy.save_state('./state.pkl')\n",
    "\n",
    "    #Adding new points to training set\n",
    "    X_tr = np.concatenate((X_tr, X_unlabeled[idx]), axis=0)\n",
    "    X_unlabeled = np.delete(X_unlabeled, idx, axis = 0)\n",
    "\n",
    "    #Human In Loop, Assuming user adds new labels here\n",
    "    y_tr = np.concatenate((y_tr, y_unlabeled[idx]), axis = 0)\n",
    "    y_unlabeled = np.delete(y_unlabeled, idx, axis = 0)\n",
    "    print('Number of training points -',X_tr.shape[0])\n",
    "\n",
    "    #Reload state and start training\n",
    "    strategy.load_state('./state.pkl')\n",
    "    strategy.update_data(X_tr, y_tr, X_unlabeled)\n",
    "    dt.update_data(X_tr, y_tr)\n",
    "\n",
    "    clf = dt.train()\n",
    "    strategy.update_model(clf)\n",
    "    y_pred = strategy.predict(X_test).numpy()\n",
    "    acc[rd] = round((1.0*(y_test == y_pred)).sum().item() / len(y_test), 3)\n",
    "    print('Testing accuracy:', round(acc[rd]*100, 2), flush=True)\n",
    "    if acc[rd] > 0.98:\n",
    "        print('Testing accuracy reached above 98%, stopping training!')\n",
    "        break\n",
    "\n",
    "print('Training Completed')\n",
    "\n",
    "#Saving accuracies for further analysis\n",
    "with open('/content/entropy.txt', 'w') as f:\n",
    "    for item in acc:\n",
    "        f.write(\"%s\\n\" % item)"
   ]
  },
  {
   "cell_type": "markdown",
   "metadata": {
    "id": "BAGqAV0GrwwN"
   },
   "source": [
    "# **BADGE**\n",
    "This method is based on the paper [Deep Batch Active Learning by Diverse, Uncertain Gradient Lower Bounds](https://arxiv.org/abs/1906.03671). Here at each around of selection loss gradients are computed using the hypothesised lables. Then to points to be labled are selected by applying k-means++ on these loss gradients. \n",
    "\n",
    "Here we create a instance of distil.active_learning_strategies.badge.BADGE with same parameters passed to distil.active_learning_strategies.random_sampling.RandomSampling."
   ]
  },
  {
   "cell_type": "code",
   "execution_count": null,
   "metadata": {
    "colab": {
     "base_uri": "https://localhost:8080/"
    },
    "id": "yE1XYS29g0rD",
    "outputId": "7a7ab01e-8f08-40be-d0c6-44409600c86a"
   },
   "outputs": [
    {
     "name": "stdout",
     "output_type": "stream",
     "text": [
      "Epoch: 21 Training accuracy: 99.08\n",
      "Initial Testing accuracy: 62.8\n",
      "-------------------------------------------------\n",
      "Round 1\n",
      "-------------------------------------------------\n",
      "Number of training points - 6000\n",
      "Epoch: 17 Training accuracy: 99.18\n",
      "Testing accuracy: 61.4\n",
      "-------------------------------------------------\n",
      "Round 2\n",
      "-------------------------------------------------\n",
      "Number of training points - 7000\n",
      "Epoch: 25 Training accuracy: 99.3\n",
      "Testing accuracy: 65.9\n",
      "-------------------------------------------------\n",
      "Round 3\n",
      "-------------------------------------------------\n",
      "Number of training points - 8000\n",
      "Epoch: 17 Training accuracy: 99.22\n",
      "Testing accuracy: 65.4\n",
      "-------------------------------------------------\n",
      "Round 4\n",
      "-------------------------------------------------\n",
      "Number of training points - 9000\n",
      "Epoch: 15 Training accuracy: 99.31\n",
      "Testing accuracy: 66.9\n",
      "-------------------------------------------------\n",
      "Round 5\n",
      "-------------------------------------------------\n",
      "Number of training points - 10000\n",
      "Epoch: 18 Training accuracy: 99.01\n",
      "Testing accuracy: 68.5\n",
      "-------------------------------------------------\n",
      "Round 6\n",
      "-------------------------------------------------\n",
      "Number of training points - 11000\n",
      "Epoch: 16 Training accuracy: 99.46\n",
      "Testing accuracy: 69.5\n",
      "-------------------------------------------------\n",
      "Round 7\n",
      "-------------------------------------------------\n",
      "Number of training points - 12000\n",
      "Epoch: 14 Training accuracy: 99.33\n",
      "Testing accuracy: 70.5\n",
      "-------------------------------------------------\n",
      "Round 8\n",
      "-------------------------------------------------\n",
      "Number of training points - 13000\n",
      "Epoch: 14 Training accuracy: 99.46\n",
      "Testing accuracy: 70.3\n",
      "-------------------------------------------------\n",
      "Round 9\n",
      "-------------------------------------------------\n",
      "Number of training points - 14000\n",
      "Epoch: 22 Training accuracy: 99.46\n",
      "Testing accuracy: 71.4\n",
      "Training Completed\n"
     ]
    }
   ],
   "source": [
    "strategy_args = {'batch_size' : 1000}\n",
    "strategy = BADGE(X_tr, y_tr, X_unlabeled, net, handler, nclasses, strategy_args)\n",
    "\n",
    "args = {'n_epoch':150, 'lr':float(0.001), 'batch_size':128} \n",
    "dt = data_train(X_tr, y_tr, net, handler, args)\n",
    "clf = dt.train()\n",
    "strategy.update_model(clf)\n",
    "y_pred = strategy.predict(X_test).numpy()\n",
    "acc = np.zeros(n_rounds)\n",
    "acc[0] = (1.0*(y_test == y_pred)).sum().item() / len(y_test)\n",
    "print('Initial Testing accuracy:', round(acc[0]*100, 2), flush=True)\n",
    "\n",
    "##User Controlled Loop\n",
    "for rd in range(1, n_rounds):\n",
    "    print('-------------------------------------------------')\n",
    "    print('Round', rd) \n",
    "    print('-------------------------------------------------')\n",
    "    idx = strategy.select(budget)\n",
    "    strategy.save_state('./state.pkl')\n",
    "\n",
    "    #Adding new points to training set\n",
    "    X_tr = np.concatenate((X_tr, X_unlabeled[idx]), axis=0)\n",
    "    X_unlabeled = np.delete(X_unlabeled, idx, axis = 0)\n",
    "\n",
    "    #Human In Loop, Assuming user adds new labels here\n",
    "    y_tr = np.concatenate((y_tr, y_unlabeled[idx]), axis = 0)\n",
    "    y_unlabeled = np.delete(y_unlabeled, idx, axis = 0)\n",
    "    print('Number of training points -',X_tr.shape[0])\n",
    "\n",
    "    #Reload state and start training\n",
    "    strategy.load_state('./state.pkl')\n",
    "    strategy.update_data(X_tr, y_tr, X_unlabeled)\n",
    "    dt.update_data(X_tr, y_tr)\n",
    "\n",
    "    clf = dt.train()\n",
    "    strategy.update_model(clf)\n",
    "    y_pred = strategy.predict(X_test).numpy()\n",
    "    acc[rd] = round((1.0*(y_test == y_pred)).sum().item() / len(y_test), 3)\n",
    "    print('Testing accuracy:', round(acc[rd]*100, 2), flush=True)\n",
    "    if acc[rd] > 0.98:\n",
    "        print('Testing accuracy reached above 98%, stopping training!')\n",
    "        break\n",
    "        \n",
    "print('Training Completed')\n",
    "with open('/content/badge.txt', 'w') as f:\n",
    "    for item in acc:\n",
    "        f.write(\"%s\\n\" % item)"
   ]
  },
  {
   "cell_type": "markdown",
   "metadata": {
    "id": "DuIa_yJdiDOh"
   },
   "source": [
    "# **GLISTER**\n",
    "This is implemetation of GLISTER-ACTIVE from the paper [GLISTER: Generalization based Data Subset Selection for Efficient and Robust Learning](https://arxiv.org/abs/2012.10630). GLISTER methods tries to solve a bi-level optimisation problem.\n",
    "\\begin{equation*}\n",
    "\\overbrace{\\underset{{S \\subseteq {\\mathcal U}, |S| \\leq k}}{\\operatorname{argmax\\hspace{0.7mm}}} LL_V(\\underbrace{\\underset{\\theta}{\\operatorname{argmax\\hspace{0.7mm}}} LL_T( \\theta, S)}_{inner-level}, {\\mathcal V})}^{outer-level}\n",
    "\\end{equation*}\n",
    "where is $S$ is set of points selected at each round,${\\mathcal V}$ could be a dedicated validation set with labled points or could be union of labeled and unlabeled points with hypothesised labels, $k$ is the budget.\n",
    "To set ${\\mathcal V}$ to be validation set, while calling **GLISTER** class in the toolkit set _valid=TRUE_ and pass validation set otherwise set _valid=False_.\n",
    "\n",
    "Solving this problem directly is almost impossible, therefore we resort to one-step approxiations.We start we $S^0$ as empty set and bulid it as $S^k = S^{k-1} \\cup e$, where $e$ is $\\underset{e}{\\operatorname{argmax\\hspace{0.7mm}}} G_{\\theta}(e | S^k)$. We define,$$G_{\\theta}(e | S^k) = LL_{V}(\\theta^{k}, {\\mathcal V})$$ and update $$\\theta^k \\leftarrow \\theta^{k-1} -  \\eta \\nabla_{\\theta} LL_T(\\hat{\\theta}, e)$$ where $\\hat{\\theta}$ is the parameters of the model at the begining of the selection.\n",
    "To prevent overfitting, we can add regularizer to GLISTER, which can be set by **_typeOf_**. **_typeOf_** can be set to - **'none'**(which is default) for normal GLISTER,**'Rand'** for replacing **_lam_** fraction of points replaced by random points, **'Diversity'** adding diversity set function while computing gain and **'FacLoc'** adding Facility Location set function while computing gain. **_lam_** for both **'Diversity'** and **'FacLoc'** determines the weightage given to them while computing the gain.\n",
    "\n",
    "Here we create a instance of distil.active_learning_strategies.glister.GLISTER( with same parameters passed to distil.active_learning_strategies.random_sampling.RandomSampling, we slight change that, **args** dictionary should have keys ‘batch_size’ and ‘lr’. ‘lr’ should be the learning rate used for training. In addition to those folowing additional parameters may be passed:\n",
    "\n",
    "**valid (boolean)** – Whether validation set is passed or not\n",
    "\n",
    "**X_val (Numpy array, optional)** – Features of the points in the validation set. Mandatory if valid=True.\n",
    "\n",
    "**Y_val (Numpy array, optional)** – Lables of the points in the validation set. Mandatory if valid=True.\n",
    "\n",
    "**loss_criterion (class object, optional)** – The type of loss criterion. Default is torch.nn.CrossEntropyLoss()\n",
    "\n",
    "**typeOf (str, optional)** – Determines the type of regulariser to be used. Default is ‘none’. For random regulariser use ‘Rand’. To use Facility Location set functiom as a regulariser use ‘FacLoc’. To use Diversity set functiom as a regulariser use ‘Diversity’.\n",
    "\n",
    "**lam (float, optional)** – Determines the amount of regularisation to be applied. Mandatory if is not typeOf=’none’ and by default set to None. For random regulariser use values should be between 0 and 1 as it determines fraction of points replaced by random points. For both ‘Diversity’ and ‘FacLoc’ lam determines the weightage given to them while computing the gain.\n",
    "\n",
    "**kernel_batch_size (int, optional)** – For 'Diversity' and 'FacLoc' regualrizer versions, similarity kernel is to be computed, which entails creating a 3d torch tensor of dimenssions $kernel\\_batch\\_size^{2}*(feature\\ dimenssion)$. Again kernel_batch_size should be such that one can exploit the benefits of tensorization while honouring the resourse constraits."
   ]
  },
  {
   "cell_type": "code",
   "execution_count": null,
   "metadata": {
    "colab": {
     "base_uri": "https://localhost:8080/"
    },
    "id": "4TS2ZbQcV7KM",
    "outputId": "746c7824-61e3-499a-c912-c7875c2872ef"
   },
   "outputs": [
    {
     "name": "stdout",
     "output_type": "stream",
     "text": [
      "Epoch: 24 Training accuracy: 99.18\n",
      "Initial Testing accuracy: 62.94\n",
      "-------------------------------------------------\n",
      "Round 1\n",
      "-------------------------------------------------\n",
      "Number of training points - 6000\n",
      "Epoch: 20 Training accuracy: 99.13\n",
      "Testing accuracy: 63.7\n",
      "-------------------------------------------------\n",
      "Round 2\n",
      "-------------------------------------------------\n",
      "Number of training points - 7000\n",
      "Epoch: 18 Training accuracy: 99.31\n",
      "Testing accuracy: 63.9\n",
      "-------------------------------------------------\n",
      "Round 3\n",
      "-------------------------------------------------\n",
      "Number of training points - 8000\n",
      "Epoch: 16 Training accuracy: 99.1\n",
      "Testing accuracy: 64.1\n",
      "-------------------------------------------------\n",
      "Round 4\n",
      "-------------------------------------------------\n",
      "Number of training points - 9000\n",
      "Epoch: 19 Training accuracy: 99.31\n",
      "Testing accuracy: 67.1\n",
      "-------------------------------------------------\n",
      "Round 5\n",
      "-------------------------------------------------\n",
      "Number of training points - 10000\n",
      "Epoch: 16 Training accuracy: 99.64\n",
      "Testing accuracy: 67.2\n",
      "-------------------------------------------------\n",
      "Round 6\n",
      "-------------------------------------------------\n",
      "Number of training points - 11000\n",
      "Epoch: 14 Training accuracy: 99.08\n",
      "Testing accuracy: 67.5\n",
      "-------------------------------------------------\n",
      "Round 7\n",
      "-------------------------------------------------\n",
      "Number of training points - 12000\n",
      "Epoch: 24 Training accuracy: 99.3\n",
      "Testing accuracy: 66.8\n",
      "-------------------------------------------------\n",
      "Round 8\n",
      "-------------------------------------------------\n",
      "Number of training points - 13000\n",
      "Epoch: 18 Training accuracy: 99.02\n",
      "Testing accuracy: 65.4\n",
      "-------------------------------------------------\n",
      "Round 9\n",
      "-------------------------------------------------\n",
      "Number of training points - 14000\n",
      "Epoch: 17 Training accuracy: 99.14\n",
      "Testing accuracy: 68.8\n",
      "Training Completed\n"
     ]
    }
   ],
   "source": [
    "import warnings\n",
    "warnings.filterwarnings(\"ignore\")\n",
    "strategy_args = {'batch_size' : 1000, 'lr':float(0.001)}\n",
    "strategy = GLISTER(X_tr, y_tr, X_unlabeled, net, handler, nclasses, strategy_args,valid=False, typeOf='rand', lam=0.1)\n",
    "\n",
    "args = {'n_epoch':150, 'lr':float(0.001), 'batch_size':128} \n",
    "dt = data_train(X_tr, y_tr, net, handler, args)\n",
    "clf = dt.train()\n",
    "strategy.update_model(clf)\n",
    "y_pred = strategy.predict(X_test).numpy()\n",
    "acc = np.zeros(n_rounds)\n",
    "acc[0] = (1.0*(y_test == y_pred)).sum().item() / len(y_test)\n",
    "print('Initial Testing accuracy:', round(acc[0]*100, 2), flush=True)\n",
    "\n",
    "##User Controlled Loop\n",
    "for rd in range(1, n_rounds):\n",
    "    print('-------------------------------------------------')\n",
    "    print('Round', rd) \n",
    "    print('-------------------------------------------------')\n",
    "    idx = strategy.select(budget)\n",
    "    strategy.save_state('./state.pkl')\n",
    "\n",
    "    #Adding new points to training set\n",
    "    X_tr = np.concatenate((X_tr, X_unlabeled[idx]), axis=0)\n",
    "    X_unlabeled = np.delete(X_unlabeled, idx, axis = 0)\n",
    "\n",
    "    #Human In Loop, Assuming user adds new labels here\n",
    "    y_tr = np.concatenate((y_tr, y_unlabeled[idx]), axis = 0)\n",
    "    y_unlabeled = np.delete(y_unlabeled, idx, axis = 0)\n",
    "    print('Number of training points -',X_tr.shape[0])\n",
    "\n",
    "    #Reload state and start training\n",
    "    strategy.load_state('./state.pkl')\n",
    "    strategy.update_data(X_tr, y_tr, X_unlabeled)\n",
    "    dt.update_data(X_tr, y_tr)\n",
    "\n",
    "    clf = dt.train()\n",
    "    strategy.update_model(clf)\n",
    "    y_pred = strategy.predict(X_test).numpy()\n",
    "    acc[rd] = round((1.0*(y_test == y_pred)).sum().item() / len(y_test), 3)\n",
    "    print('Testing accuracy:', round(acc[rd]*100, 2), flush=True)\n",
    "    if acc[rd] > 0.98:\n",
    "        print('Testing accuracy reached above 98%, stopping training!')\n",
    "        break\n",
    "        \n",
    "print('Training Completed')\n",
    "with open('/content/glister.txt', 'w') as f:\n",
    "    for item in acc:\n",
    "        f.write(\"%s\\n\" % item)"
   ]
  },
  {
   "cell_type": "markdown",
   "metadata": {
    "id": "jNZjPPO7java"
   },
   "source": [
    "**VISUALISATION**"
   ]
  },
  {
   "cell_type": "code",
   "execution_count": null,
   "metadata": {
    "colab": {
     "base_uri": "https://localhost:8080/",
     "height": 312
    },
    "id": "6vn65GnhZosp",
    "outputId": "26d18c49-39a9-4476-8837-1e4081461eb7"
   },
   "outputs": [
    {
     "data": {
      "text/plain": [
       "Text(0.5, 1.0, 'DISTIL_CIFAR10')"
      ]
     },
     "execution_count": 6,
     "metadata": {
      "tags": []
     },
     "output_type": "execute_result"
    },
    {
     "data": {
      "image/png": "[encoded data removed]",
      "text/plain": [
       "<Figure size 432x288 with 1 Axes>"
      ]
     },
     "metadata": {
      "needs_background": "light",
      "tags": []
     },
     "output_type": "display_data"
    }
   ],
   "source": [
    "#Loading accuracies\n",
    "with open('/content/entropy.txt') as f:\n",
    "  acc_ = f.readlines()\n",
    "acc_en = [round(float(x)*100, 2) for x in acc_]\n",
    "with open('/content/badge.txt') as f:\n",
    "  acc_ = f.readlines()\n",
    "acc_bd = [round(float(x)*100, 2) for x in acc_]\n",
    "with open('/content/glister.txt') as f:\n",
    "  acc_ = f.readlines()\n",
    "acc_gl = [round(float(x)*100, 2) for x in acc_]\n",
    "with open('/content/random.txt') as f:\n",
    "  acc_ = f.readlines()\n",
    "acc_rd = [round(float(x)*100, 2) for x in acc_]\n",
    "\n",
    "#Plotting\n",
    "import matplotlib.pyplot as plt\n",
    "n_rounds = 9\n",
    "x_axis = np.array([5000+budget*i for i in range(n_rounds+1)])\n",
    "plt.figure()\n",
    "plt.plot(x_axis, acc_gl, 'b-', label='GLISTER RAND',marker='o')\n",
    "plt.plot(x_axis, acc_en, 'g-', label='UNCERTAINITY',marker='o')\n",
    "plt.plot(x_axis, acc_bd, 'c', label='BADGE',marker='o')\n",
    "plt.plot(x_axis, acc_rd, 'r', label='RANDOM',marker='o')\n",
    "\n",
    "\n",
    "plt.legend()\n",
    "plt.xlabel('No of Images')\n",
    "plt.ylabel('Test Accuracy')\n",
    "plt.title('DISTIL_CIFAR10')"
   ]
  }
 ],
 "metadata": {
  "accelerator": "GPU",
  "colab": {
   "collapsed_sections": [],
   "name": "Distil_CIFAR10.ipynb",
   "provenance": [],
   "toc_visible": true
  },
  "kernelspec": {
   "display_name": "Python 3",
   "language": "python",
   "name": "python3"
  },
  "language_info": {
   "codemirror_mode": {
    "name": "ipython",
    "version": 3
   },
   "file_extension": ".py",
   "mimetype": "text/x-python",
   "name": "python",
   "nbconvert_exporter": "python",
   "pygments_lexer": "ipython3",
   "version": "3.8.5"
  }
 },
 "nbformat": 4,
 "nbformat_minor": 1
}
